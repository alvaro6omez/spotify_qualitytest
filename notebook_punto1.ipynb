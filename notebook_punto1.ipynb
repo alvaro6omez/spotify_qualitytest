{
 "cells": [
  {
   "cell_type": "markdown",
   "metadata": {},
   "source": [
    "# **Primera parte**\n",
    "**Enunciado**: \n",
    "\n",
    "\"El siguiente archivo fue extraído de la API de Spotify taylor_swift_spotify.json y usted deberá crear un script en Python que lo procese y lo deje con el siguiente formato dataset.csv . Para esta primera parte de la prueba solo podrá usar Python y las librerías\n",
    "Pandas y JSON\".\n",
    "\n",
    "**Entregable**: \n",
    "\n",
    "Archivo de Python con la solución del problema."
   ]
  },
  {
   "cell_type": "code",
   "execution_count": 41,
   "metadata": {},
   "outputs": [],
   "source": [
    "import pandas as pd\n",
    "import json\n",
    "\n",
    "pd.set_option('display.max_columns', None)"
   ]
  },
  {
   "cell_type": "markdown",
   "metadata": {},
   "source": [
    "## **Solución**\n",
    "La prueba técnica comienza leyendo y dando formato a un archivo JSON que proviene de la API de Spotify. El formato final que debe tener el archivo JSON es el siguiente"
   ]
  },
  {
   "cell_type": "code",
   "execution_count": 42,
   "metadata": {},
   "outputs": [
    {
     "data": {
      "text/html": [
       "<div>\n",
       "<style scoped>\n",
       "    .dataframe tbody tr th:only-of-type {\n",
       "        vertical-align: middle;\n",
       "    }\n",
       "\n",
       "    .dataframe tbody tr th {\n",
       "        vertical-align: top;\n",
       "    }\n",
       "\n",
       "    .dataframe thead th {\n",
       "        text-align: right;\n",
       "    }\n",
       "</style>\n",
       "<table border=\"1\" class=\"dataframe\">\n",
       "  <thead>\n",
       "    <tr style=\"text-align: right;\">\n",
       "      <th></th>\n",
       "      <th>disc_number</th>\n",
       "      <th>duration_ms</th>\n",
       "      <th>explicit</th>\n",
       "      <th>track_number</th>\n",
       "      <th>track_popularity</th>\n",
       "      <th>track_id</th>\n",
       "      <th>track_name</th>\n",
       "      <th>audio_features.danceability</th>\n",
       "      <th>audio_features.energy</th>\n",
       "      <th>audio_features.key</th>\n",
       "      <th>audio_features.loudness</th>\n",
       "      <th>audio_features.mode</th>\n",
       "      <th>audio_features.speechiness</th>\n",
       "      <th>audio_features.acousticness</th>\n",
       "      <th>audio_features.instrumentalness</th>\n",
       "      <th>audio_features.liveness</th>\n",
       "      <th>audio_features.valence</th>\n",
       "      <th>audio_features.tempo</th>\n",
       "      <th>audio_features.id</th>\n",
       "      <th>audio_features.time_signature</th>\n",
       "      <th>artist_id</th>\n",
       "      <th>artist_name</th>\n",
       "      <th>artist_popularity</th>\n",
       "      <th>album_id</th>\n",
       "      <th>album_name</th>\n",
       "      <th>album_release_date</th>\n",
       "      <th>album_total_tracks</th>\n",
       "    </tr>\n",
       "  </thead>\n",
       "  <tbody>\n",
       "    <tr>\n",
       "      <th>0</th>\n",
       "      <td>1</td>\n",
       "      <td>212600</td>\n",
       "      <td>False</td>\n",
       "      <td>1</td>\n",
       "      <td>77</td>\n",
       "      <td>4WUepByoeqcedHoYhSNHRt</td>\n",
       "      <td>Welcome To New York (Taylor's Version)</td>\n",
       "      <td>0.757</td>\n",
       "      <td>0.610</td>\n",
       "      <td>7.0</td>\n",
       "      <td>-4.840</td>\n",
       "      <td>1</td>\n",
       "      <td>0.0327</td>\n",
       "      <td>0.009420</td>\n",
       "      <td>3.66e-05</td>\n",
       "      <td>0.3670</td>\n",
       "      <td>0.685</td>\n",
       "      <td>116.998</td>\n",
       "      <td>4WUepByoeqcedHoYhSNHRt</td>\n",
       "      <td>4.0</td>\n",
       "      <td>06HL4z0CvFAxyc27GX</td>\n",
       "      <td>Taylor Swift</td>\n",
       "      <td>120</td>\n",
       "      <td>1o59UpKw81iHR0HPiSkJR0</td>\n",
       "      <td>1989 (Taylor's Version) [Deluxe]</td>\n",
       "      <td>2023-10-27</td>\n",
       "      <td>22</td>\n",
       "    </tr>\n",
       "    <tr>\n",
       "      <th>1</th>\n",
       "      <td>1</td>\n",
       "      <td>231833</td>\n",
       "      <td>False</td>\n",
       "      <td>2</td>\n",
       "      <td>78</td>\n",
       "      <td>0108kcWLnn2HlH2kedi1gn</td>\n",
       "      <td>Blank Space (Taylor's Version)</td>\n",
       "      <td>0.733</td>\n",
       "      <td>0.733</td>\n",
       "      <td>0.0</td>\n",
       "      <td>-5.376</td>\n",
       "      <td>1</td>\n",
       "      <td>0.0670</td>\n",
       "      <td>5.000000</td>\n",
       "      <td>0</td>\n",
       "      <td>0.1680</td>\n",
       "      <td>0.701</td>\n",
       "      <td>96.057</td>\n",
       "      <td>0108kcWLnn2HlH2kedi1gn</td>\n",
       "      <td>4.0</td>\n",
       "      <td>06HL4z0CvFAxyc27GX</td>\n",
       "      <td>Taylor Swift</td>\n",
       "      <td>120</td>\n",
       "      <td>1o59UpKw81iHR0HPiSkJR0</td>\n",
       "      <td>1989 (Taylor's Version) [Deluxe]</td>\n",
       "      <td>2023-10-27</td>\n",
       "      <td>22</td>\n",
       "    </tr>\n",
       "    <tr>\n",
       "      <th>2</th>\n",
       "      <td>1</td>\n",
       "      <td>231000</td>\n",
       "      <td>False</td>\n",
       "      <td>3</td>\n",
       "      <td>79</td>\n",
       "      <td>3Vpk1hfMAQme8VJ0SNRSkd</td>\n",
       "      <td>Style (Taylor's Version)</td>\n",
       "      <td>0.511</td>\n",
       "      <td>0.822</td>\n",
       "      <td>11.0</td>\n",
       "      <td>-4.785</td>\n",
       "      <td>0</td>\n",
       "      <td>0.0397</td>\n",
       "      <td>0.000421</td>\n",
       "      <td>0.0197</td>\n",
       "      <td>0.0899</td>\n",
       "      <td>0.305</td>\n",
       "      <td>94.868</td>\n",
       "      <td>3Vpk1hfMAQme8VJ0SNRSkd</td>\n",
       "      <td>4.0</td>\n",
       "      <td>06HL4z0CvFAxyc27GX</td>\n",
       "      <td>Taylor Swift</td>\n",
       "      <td>120</td>\n",
       "      <td>1o59UpKw81iHR0HPiSkJR0</td>\n",
       "      <td>1989 (Taylor's Version) [Deluxe]</td>\n",
       "      <td>2023-10-27</td>\n",
       "      <td>22</td>\n",
       "    </tr>\n",
       "  </tbody>\n",
       "</table>\n",
       "</div>"
      ],
      "text/plain": [
       "   disc_number  duration_ms explicit  track_number  track_popularity  \\\n",
       "0            1       212600    False             1                77   \n",
       "1            1       231833    False             2                78   \n",
       "2            1       231000    False             3                79   \n",
       "\n",
       "                 track_id                              track_name  \\\n",
       "0  4WUepByoeqcedHoYhSNHRt  Welcome To New York (Taylor's Version)   \n",
       "1  0108kcWLnn2HlH2kedi1gn          Blank Space (Taylor's Version)   \n",
       "2  3Vpk1hfMAQme8VJ0SNRSkd                Style (Taylor's Version)   \n",
       "\n",
       "   audio_features.danceability  audio_features.energy  audio_features.key  \\\n",
       "0                        0.757                  0.610                 7.0   \n",
       "1                        0.733                  0.733                 0.0   \n",
       "2                        0.511                  0.822                11.0   \n",
       "\n",
       "   audio_features.loudness  audio_features.mode  audio_features.speechiness  \\\n",
       "0                   -4.840                    1                      0.0327   \n",
       "1                   -5.376                    1                      0.0670   \n",
       "2                   -4.785                    0                      0.0397   \n",
       "\n",
       "   audio_features.acousticness audio_features.instrumentalness  \\\n",
       "0                     0.009420                        3.66e-05   \n",
       "1                     5.000000                               0   \n",
       "2                     0.000421                          0.0197   \n",
       "\n",
       "   audio_features.liveness  audio_features.valence  audio_features.tempo  \\\n",
       "0                   0.3670                   0.685               116.998   \n",
       "1                   0.1680                   0.701                96.057   \n",
       "2                   0.0899                   0.305                94.868   \n",
       "\n",
       "        audio_features.id  audio_features.time_signature           artist_id  \\\n",
       "0  4WUepByoeqcedHoYhSNHRt                            4.0  06HL4z0CvFAxyc27GX   \n",
       "1  0108kcWLnn2HlH2kedi1gn                            4.0  06HL4z0CvFAxyc27GX   \n",
       "2  3Vpk1hfMAQme8VJ0SNRSkd                            4.0  06HL4z0CvFAxyc27GX   \n",
       "\n",
       "    artist_name  artist_popularity                album_id  \\\n",
       "0  Taylor Swift                120  1o59UpKw81iHR0HPiSkJR0   \n",
       "1  Taylor Swift                120  1o59UpKw81iHR0HPiSkJR0   \n",
       "2  Taylor Swift                120  1o59UpKw81iHR0HPiSkJR0   \n",
       "\n",
       "                         album_name album_release_date album_total_tracks  \n",
       "0  1989 (Taylor's Version) [Deluxe]         2023-10-27                 22  \n",
       "1  1989 (Taylor's Version) [Deluxe]         2023-10-27                 22  \n",
       "2  1989 (Taylor's Version) [Deluxe]         2023-10-27                 22  "
      ]
     },
     "execution_count": 42,
     "metadata": {},
     "output_type": "execute_result"
    }
   ],
   "source": [
    "# Leer archivo CSV con el formato final\n",
    "json_formato = pd.read_csv('Datos/dataset.csv')\n",
    "json_formato.head(3)"
   ]
  },
  {
   "cell_type": "markdown",
   "metadata": {},
   "source": [
    "El detalle de cada campo se muestra a continuación. En total debe haber 27 columnas "
   ]
  },
  {
   "cell_type": "code",
   "execution_count": 43,
   "metadata": {},
   "outputs": [
    {
     "name": "stdout",
     "output_type": "stream",
     "text": [
      "<class 'pandas.core.frame.DataFrame'>\n",
      "RangeIndex: 539 entries, 0 to 538\n",
      "Data columns (total 27 columns):\n",
      " #   Column                           Non-Null Count  Dtype  \n",
      "---  ------                           --------------  -----  \n",
      " 0   disc_number                      539 non-null    int64  \n",
      " 1   duration_ms                      539 non-null    int64  \n",
      " 2   explicit                         539 non-null    object \n",
      " 3   track_number                     539 non-null    int64  \n",
      " 4   track_popularity                 539 non-null    int64  \n",
      " 5   track_id                         531 non-null    object \n",
      " 6   track_name                       532 non-null    object \n",
      " 7   audio_features.danceability      537 non-null    float64\n",
      " 8   audio_features.energy            537 non-null    float64\n",
      " 9   audio_features.key               538 non-null    float64\n",
      " 10  audio_features.loudness          537 non-null    float64\n",
      " 11  audio_features.mode              539 non-null    int64  \n",
      " 12  audio_features.speechiness       538 non-null    float64\n",
      " 13  audio_features.acousticness      538 non-null    float64\n",
      " 14  audio_features.instrumentalness  539 non-null    object \n",
      " 15  audio_features.liveness          538 non-null    float64\n",
      " 16  audio_features.valence           539 non-null    float64\n",
      " 17  audio_features.tempo             538 non-null    float64\n",
      " 18  audio_features.id                539 non-null    object \n",
      " 19  audio_features.time_signature    538 non-null    float64\n",
      " 20  artist_id                        539 non-null    object \n",
      " 21  artist_name                      539 non-null    object \n",
      " 22  artist_popularity                539 non-null    int64  \n",
      " 23  album_id                         539 non-null    object \n",
      " 24  album_name                       477 non-null    object \n",
      " 25  album_release_date               539 non-null    object \n",
      " 26  album_total_tracks               539 non-null    object \n",
      "dtypes: float64(10), int64(6), object(11)\n",
      "memory usage: 113.8+ KB\n"
     ]
    }
   ],
   "source": [
    "# Detalle del formato\n",
    "json_formato.info()"
   ]
  },
  {
   "cell_type": "markdown",
   "metadata": {},
   "source": [
    "### **Explorando el archivo JSON**"
   ]
  },
  {
   "cell_type": "markdown",
   "metadata": {},
   "source": [
    "Los archivos JSON (JavaScript Object Notation) son un formato de texto ligero y fácil de leer que se utiliza ampliamente para el intercambio de datos entre aplicaciones y sistemas, y son especialmente populares en las APIs.\n",
    "\n",
    "Un archivo JSON se define entre llaves ({}) y los datos se estructuran mediante pares de clave:valor separados por comas. Las claves son cadenas de texto mientras los valores pueden ser cadenas de texto, números flotantes o enteros, booleanos, arrays, objetos (otro JSON) o null. Los arrays se definen utilizando corchetes ([]) y pueden contener valores de cualquier tipo, incluyendo otros arrays u objetos. Un ejemplo de un archivo JSON sencillo sería: '{\"name\":\"John\", \"age\":30, \"car\":null}'"
   ]
  },
  {
   "cell_type": "markdown",
   "metadata": {},
   "source": [
    "Para empezas vamos a analizar el archivo JSON leyendolo en modo lectura con el método json.load y explorar un poco su estructura"
   ]
  },
  {
   "cell_type": "code",
   "execution_count": 44,
   "metadata": {},
   "outputs": [],
   "source": [
    "# Cargar el archivo JSON\n",
    "with open('Datos/taylor_swift_spotify.json', 'r') as file:\n",
    "    spotify_json = json.load(file)"
   ]
  },
  {
   "cell_type": "markdown",
   "metadata": {},
   "source": [
    "Ahora imprimamos los pares clave:valor de alto nivel "
   ]
  },
  {
   "cell_type": "code",
   "execution_count": null,
   "metadata": {},
   "outputs": [],
   "source": [
    "# Inspeccionando pares clave valor a alto nivel\n",
    "for i in spotify_json.keys():\n",
    "    print('Clave:Valor -->', i,':', spotify_json[i])"
   ]
  },
  {
   "cell_type": "markdown",
   "metadata": {},
   "source": [
    "El documento spotify_json sería el primer nivel. Dentro de él observamos que la clave 'albums' contiene una lista de objetos que conforman un segundo nivel. A su vez, 'albums' tiene una clave 'tracks' que contiene otra lista de objetos y conforma un tercer nivel. Finalmente, dentro de 'tracks' existe la clave 'audio_features' que contiene un objeto y forma un cuarto nivel"
   ]
  },
  {
   "cell_type": "code",
   "execution_count": 46,
   "metadata": {},
   "outputs": [
    {
     "name": "stdout",
     "output_type": "stream",
     "text": [
      "Claves nivel 1 : ['artist_id', 'artist_name', 'artist_popularity', 'albums']\n",
      "Claves nivel 2 : ['album_id', 'album_name', 'album_release_date', 'album_total_tracks', 'tracks']\n",
      "Claves nivel 3 : ['disc_number', 'duration_ms', 'explicit', 'track_number', 'audio_features', 'track_popularity', 'track_id', 'track_name']\n",
      "Claves nivel 4 : ['danceability', 'energy', 'key', 'loudness', 'mode', 'speechiness', 'acousticness', 'instrumentalness', 'liveness', 'valence', 'tempo', 'id', 'time_signature']\n"
     ]
    }
   ],
   "source": [
    "# Niveles de anidamiento\n",
    "nivel1 = spotify_json.keys()\n",
    "nivel2 = spotify_json['albums'][0].keys()\n",
    "nivel3 = spotify_json['albums'][0]['tracks'][0].keys()\n",
    "nivel4 = spotify_json['albums'][0]['tracks'][0]['audio_features'].keys()\n",
    "niveles = [nivel1, nivel2, nivel3, nivel4]\n",
    "\n",
    "for i, nivel in enumerate(niveles):\n",
    "    print('Claves nivel', i+1,':', list(nivel))"
   ]
  },
  {
   "cell_type": "markdown",
   "metadata": {},
   "source": [
    "El ultimo objeto dentro de la anidación es el siguiente"
   ]
  },
  {
   "cell_type": "code",
   "execution_count": 47,
   "metadata": {},
   "outputs": [
    {
     "data": {
      "text/plain": [
       "{'danceability': 0.757,\n",
       " 'energy': 0.61,\n",
       " 'key': 7,\n",
       " 'loudness': -4.84,\n",
       " 'mode': 1,\n",
       " 'speechiness': 0.0327,\n",
       " 'acousticness': 0.00942,\n",
       " 'instrumentalness': 3.66e-05,\n",
       " 'liveness': 0.367,\n",
       " 'valence': 0.685,\n",
       " 'tempo': 116.998,\n",
       " 'id': '4WUepByoeqcedHoYhSNHRt',\n",
       " 'time_signature': 4}"
      ]
     },
     "execution_count": 47,
     "metadata": {},
     "output_type": "execute_result"
    }
   ],
   "source": [
    "# Objeto contenido en la clave 'audio_features'\n",
    "spotify_json['albums'][0]['tracks'][0]['audio_features']"
   ]
  },
  {
   "cell_type": "markdown",
   "metadata": {},
   "source": [
    "Observamos que tenemos un JSON con listas de objetos anidados, por lo que para pasarlo a formato tabular debemos manejar bien esta estrucutura. Esta tarea la podemos realizar mediante bucles y condicionales o utilizando la función de pandas json_normalize() para aplanarlo de forma más simple, hagamos la segunda"
   ]
  },
  {
   "cell_type": "markdown",
   "metadata": {},
   "source": [
    "### **Aplanando el archivo**"
   ]
  },
  {
   "cell_type": "markdown",
   "metadata": {},
   "source": [
    "La forma de aplanar todos los datos contenidos en el JSON hasta el nivel 1 utilizando el método de pandas json_normalize() es la siguiente"
   ]
  },
  {
   "cell_type": "code",
   "execution_count": 48,
   "metadata": {},
   "outputs": [],
   "source": [
    "df_spotify = pd.json_normalize(\n",
    "    spotify_json,\n",
    "    record_path=['albums', 'tracks'],\n",
    "    meta=['artist_id', 'artist_name','artist_popularity', ['albums','album_id'], ['albums','album_name'], ['albums','album_release_date'], ['albums','album_total_tracks']],\n",
    "    sep='.'\n",
    ")"
   ]
  },
  {
   "cell_type": "markdown",
   "metadata": {},
   "source": [
    "Vamos a desmenuzar cómo llegamos acá. Primero empecamos aplicando el método sobre el archivo JSON puro"
   ]
  },
  {
   "cell_type": "code",
   "execution_count": 49,
   "metadata": {},
   "outputs": [
    {
     "data": {
      "text/html": [
       "<div>\n",
       "<style scoped>\n",
       "    .dataframe tbody tr th:only-of-type {\n",
       "        vertical-align: middle;\n",
       "    }\n",
       "\n",
       "    .dataframe tbody tr th {\n",
       "        vertical-align: top;\n",
       "    }\n",
       "\n",
       "    .dataframe thead th {\n",
       "        text-align: right;\n",
       "    }\n",
       "</style>\n",
       "<table border=\"1\" class=\"dataframe\">\n",
       "  <thead>\n",
       "    <tr style=\"text-align: right;\">\n",
       "      <th></th>\n",
       "      <th>artist_id</th>\n",
       "      <th>artist_name</th>\n",
       "      <th>artist_popularity</th>\n",
       "      <th>albums</th>\n",
       "    </tr>\n",
       "  </thead>\n",
       "  <tbody>\n",
       "    <tr>\n",
       "      <th>0</th>\n",
       "      <td>06HL4z0CvFAxyc27GX</td>\n",
       "      <td>Taylor Swift</td>\n",
       "      <td>120</td>\n",
       "      <td>[{'album_id': '1o59UpKw81iHR0HPiSkJR0', 'album...</td>\n",
       "    </tr>\n",
       "  </tbody>\n",
       "</table>\n",
       "</div>"
      ],
      "text/plain": [
       "            artist_id   artist_name  artist_popularity  \\\n",
       "0  06HL4z0CvFAxyc27GX  Taylor Swift                120   \n",
       "\n",
       "                                              albums  \n",
       "0  [{'album_id': '1o59UpKw81iHR0HPiSkJR0', 'album...  "
      ]
     },
     "execution_count": 49,
     "metadata": {},
     "output_type": "execute_result"
    }
   ],
   "source": [
    "pd.json_normalize(\n",
    "    spotify_json\n",
    ")"
   ]
  },
  {
   "cell_type": "markdown",
   "metadata": {},
   "source": [
    "Vemos que el campo 'albums' contiene una lista de objeto no aplanados (en un segundo nivel), para indicarle que sea aplanado utilizamos el atributo \"record_path\""
   ]
  },
  {
   "cell_type": "code",
   "execution_count": 50,
   "metadata": {},
   "outputs": [
    {
     "data": {
      "text/html": [
       "<div>\n",
       "<style scoped>\n",
       "    .dataframe tbody tr th:only-of-type {\n",
       "        vertical-align: middle;\n",
       "    }\n",
       "\n",
       "    .dataframe tbody tr th {\n",
       "        vertical-align: top;\n",
       "    }\n",
       "\n",
       "    .dataframe thead th {\n",
       "        text-align: right;\n",
       "    }\n",
       "</style>\n",
       "<table border=\"1\" class=\"dataframe\">\n",
       "  <thead>\n",
       "    <tr style=\"text-align: right;\">\n",
       "      <th></th>\n",
       "      <th>album_id</th>\n",
       "      <th>album_name</th>\n",
       "      <th>album_release_date</th>\n",
       "      <th>album_total_tracks</th>\n",
       "      <th>tracks</th>\n",
       "    </tr>\n",
       "  </thead>\n",
       "  <tbody>\n",
       "    <tr>\n",
       "      <th>0</th>\n",
       "      <td>1o59UpKw81iHR0HPiSkJR0</td>\n",
       "      <td>1989 (Taylor's Version) [Deluxe]</td>\n",
       "      <td>2023-10-27</td>\n",
       "      <td>22</td>\n",
       "      <td>[{'disc_number': 1, 'duration_ms': 212600, 'ex...</td>\n",
       "    </tr>\n",
       "  </tbody>\n",
       "</table>\n",
       "</div>"
      ],
      "text/plain": [
       "                 album_id                        album_name  \\\n",
       "0  1o59UpKw81iHR0HPiSkJR0  1989 (Taylor's Version) [Deluxe]   \n",
       "\n",
       "  album_release_date album_total_tracks  \\\n",
       "0         2023-10-27                 22   \n",
       "\n",
       "                                              tracks  \n",
       "0  [{'disc_number': 1, 'duration_ms': 212600, 'ex...  "
      ]
     },
     "execution_count": 50,
     "metadata": {},
     "output_type": "execute_result"
    }
   ],
   "source": [
    "pd.json_normalize(\n",
    "    spotify_json,\n",
    "    record_path=['albums'],\n",
    ").iloc[:1,:]"
   ]
  },
  {
   "cell_type": "markdown",
   "metadata": {},
   "source": [
    "Observamos que los objetos de 'albums' fueron aplanados, pero no incluyó los campos del primer nivel. Para ello vamos a utilizar el atributo \"meta\" donde indicamos aquellos campos de nivel superior que queremos agregar y de esta manera tener el JSON aplanado totalmente hasta un segundo nivel "
   ]
  },
  {
   "cell_type": "code",
   "execution_count": 51,
   "metadata": {},
   "outputs": [
    {
     "data": {
      "text/html": [
       "<div>\n",
       "<style scoped>\n",
       "    .dataframe tbody tr th:only-of-type {\n",
       "        vertical-align: middle;\n",
       "    }\n",
       "\n",
       "    .dataframe tbody tr th {\n",
       "        vertical-align: top;\n",
       "    }\n",
       "\n",
       "    .dataframe thead th {\n",
       "        text-align: right;\n",
       "    }\n",
       "</style>\n",
       "<table border=\"1\" class=\"dataframe\">\n",
       "  <thead>\n",
       "    <tr style=\"text-align: right;\">\n",
       "      <th></th>\n",
       "      <th>album_id</th>\n",
       "      <th>album_name</th>\n",
       "      <th>album_release_date</th>\n",
       "      <th>album_total_tracks</th>\n",
       "      <th>tracks</th>\n",
       "      <th>artist_id</th>\n",
       "      <th>artist_name</th>\n",
       "      <th>artist_popularity</th>\n",
       "    </tr>\n",
       "  </thead>\n",
       "  <tbody>\n",
       "    <tr>\n",
       "      <th>0</th>\n",
       "      <td>1o59UpKw81iHR0HPiSkJR0</td>\n",
       "      <td>1989 (Taylor's Version) [Deluxe]</td>\n",
       "      <td>2023-10-27</td>\n",
       "      <td>22</td>\n",
       "      <td>[{'disc_number': 1, 'duration_ms': 212600, 'ex...</td>\n",
       "      <td>06HL4z0CvFAxyc27GX</td>\n",
       "      <td>Taylor Swift</td>\n",
       "      <td>120</td>\n",
       "    </tr>\n",
       "  </tbody>\n",
       "</table>\n",
       "</div>"
      ],
      "text/plain": [
       "                 album_id                        album_name  \\\n",
       "0  1o59UpKw81iHR0HPiSkJR0  1989 (Taylor's Version) [Deluxe]   \n",
       "\n",
       "  album_release_date album_total_tracks  \\\n",
       "0         2023-10-27                 22   \n",
       "\n",
       "                                              tracks           artist_id  \\\n",
       "0  [{'disc_number': 1, 'duration_ms': 212600, 'ex...  06HL4z0CvFAxyc27GX   \n",
       "\n",
       "    artist_name artist_popularity  \n",
       "0  Taylor Swift               120  "
      ]
     },
     "execution_count": 51,
     "metadata": {},
     "output_type": "execute_result"
    }
   ],
   "source": [
    "pd.json_normalize(\n",
    "    spotify_json,\n",
    "    record_path=['albums'],\n",
    "    meta=['artist_id', 'artist_name','artist_popularity']\n",
    ").iloc[:1,:]"
   ]
  },
  {
   "cell_type": "markdown",
   "metadata": {},
   "source": [
    "Sucede que el archivo resultante contiene un campo 'tracks' con una lista de objetos que debemos aplanar (el tercer nivel), para ello nos toca definirle la ruta del campo interno en parentesis así ['albums', 'tracks'] y agregarle todos los campos de nivel superior que queremos incluir usando el mismo principio de ruta de campo interno"
   ]
  },
  {
   "cell_type": "code",
   "execution_count": 52,
   "metadata": {},
   "outputs": [
    {
     "data": {
      "text/html": [
       "<div>\n",
       "<style scoped>\n",
       "    .dataframe tbody tr th:only-of-type {\n",
       "        vertical-align: middle;\n",
       "    }\n",
       "\n",
       "    .dataframe tbody tr th {\n",
       "        vertical-align: top;\n",
       "    }\n",
       "\n",
       "    .dataframe thead th {\n",
       "        text-align: right;\n",
       "    }\n",
       "</style>\n",
       "<table border=\"1\" class=\"dataframe\">\n",
       "  <thead>\n",
       "    <tr style=\"text-align: right;\">\n",
       "      <th></th>\n",
       "      <th>disc_number</th>\n",
       "      <th>duration_ms</th>\n",
       "      <th>explicit</th>\n",
       "      <th>track_number</th>\n",
       "      <th>track_popularity</th>\n",
       "      <th>track_id</th>\n",
       "      <th>track_name</th>\n",
       "      <th>audio_features.danceability</th>\n",
       "      <th>audio_features.energy</th>\n",
       "      <th>audio_features.key</th>\n",
       "      <th>audio_features.loudness</th>\n",
       "      <th>audio_features.mode</th>\n",
       "      <th>audio_features.speechiness</th>\n",
       "      <th>audio_features.acousticness</th>\n",
       "      <th>audio_features.instrumentalness</th>\n",
       "      <th>audio_features.liveness</th>\n",
       "      <th>audio_features.valence</th>\n",
       "      <th>audio_features.tempo</th>\n",
       "      <th>audio_features.id</th>\n",
       "      <th>audio_features.time_signature</th>\n",
       "      <th>artist_id</th>\n",
       "      <th>artist_name</th>\n",
       "      <th>artist_popularity</th>\n",
       "      <th>albums.album_id</th>\n",
       "      <th>albums.album_name</th>\n",
       "      <th>albums.album_release_date</th>\n",
       "      <th>albums.album_total_tracks</th>\n",
       "    </tr>\n",
       "  </thead>\n",
       "  <tbody>\n",
       "    <tr>\n",
       "      <th>0</th>\n",
       "      <td>1</td>\n",
       "      <td>212600</td>\n",
       "      <td>False</td>\n",
       "      <td>1</td>\n",
       "      <td>77</td>\n",
       "      <td>4WUepByoeqcedHoYhSNHRt</td>\n",
       "      <td>Welcome To New York (Taylor's Version)</td>\n",
       "      <td>0.757</td>\n",
       "      <td>0.61</td>\n",
       "      <td>7.0</td>\n",
       "      <td>-4.84</td>\n",
       "      <td>1</td>\n",
       "      <td>0.0327</td>\n",
       "      <td>0.00942</td>\n",
       "      <td>0.000037</td>\n",
       "      <td>0.367</td>\n",
       "      <td>0.685</td>\n",
       "      <td>116.998</td>\n",
       "      <td>4WUepByoeqcedHoYhSNHRt</td>\n",
       "      <td>4.0</td>\n",
       "      <td>06HL4z0CvFAxyc27GX</td>\n",
       "      <td>Taylor Swift</td>\n",
       "      <td>120</td>\n",
       "      <td>1o59UpKw81iHR0HPiSkJR0</td>\n",
       "      <td>1989 (Taylor's Version) [Deluxe]</td>\n",
       "      <td>2023-10-27</td>\n",
       "      <td>22</td>\n",
       "    </tr>\n",
       "  </tbody>\n",
       "</table>\n",
       "</div>"
      ],
      "text/plain": [
       "   disc_number  duration_ms explicit  track_number  track_popularity  \\\n",
       "0            1       212600    False             1                77   \n",
       "\n",
       "                 track_id                              track_name  \\\n",
       "0  4WUepByoeqcedHoYhSNHRt  Welcome To New York (Taylor's Version)   \n",
       "\n",
       "  audio_features.danceability  audio_features.energy  audio_features.key  \\\n",
       "0                       0.757                   0.61                 7.0   \n",
       "\n",
       "   audio_features.loudness  audio_features.mode  audio_features.speechiness  \\\n",
       "0                    -4.84                    1                      0.0327   \n",
       "\n",
       "  audio_features.acousticness audio_features.instrumentalness  \\\n",
       "0                     0.00942                        0.000037   \n",
       "\n",
       "   audio_features.liveness  audio_features.valence audio_features.tempo  \\\n",
       "0                    0.367                   0.685              116.998   \n",
       "\n",
       "        audio_features.id  audio_features.time_signature           artist_id  \\\n",
       "0  4WUepByoeqcedHoYhSNHRt                            4.0  06HL4z0CvFAxyc27GX   \n",
       "\n",
       "    artist_name artist_popularity         albums.album_id  \\\n",
       "0  Taylor Swift               120  1o59UpKw81iHR0HPiSkJR0   \n",
       "\n",
       "                  albums.album_name albums.album_release_date  \\\n",
       "0  1989 (Taylor's Version) [Deluxe]                2023-10-27   \n",
       "\n",
       "  albums.album_total_tracks  \n",
       "0                        22  "
      ]
     },
     "execution_count": 52,
     "metadata": {},
     "output_type": "execute_result"
    }
   ],
   "source": [
    "pd.json_normalize(\n",
    "    spotify_json,\n",
    "    record_path=['albums', 'tracks'],\n",
    "    meta=['artist_id', 'artist_name','artist_popularity', ['albums','album_id'], ['albums','album_name'], ['albums','album_release_date'], ['albums','album_total_tracks']],\n",
    "    sep='.'\n",
    ").iloc[:1,:]"
   ]
  },
  {
   "cell_type": "markdown",
   "metadata": {},
   "source": [
    "Observamos que no existe un campo que contenga otra lista de objetos u objetos, por lo que el archivo fue totalmente aplanado. En realidad, en el tercer nivel 'tracks' existe la clave 'audio_features' que contiene un objeto pero que fue automaticamente aplanado por el método ya que no se encontraba dentro de una lista"
   ]
  },
  {
   "cell_type": "markdown",
   "metadata": {},
   "source": [
    "### **Validando formato**"
   ]
  },
  {
   "cell_type": "markdown",
   "metadata": {},
   "source": [
    "El JSON aplanado tiene las mismas filas y columnas que el formato"
   ]
  },
  {
   "cell_type": "code",
   "execution_count": 53,
   "metadata": {},
   "outputs": [
    {
     "name": "stdout",
     "output_type": "stream",
     "text": [
      "¿Tienen las mismas dimensiones los dataframes?\n",
      "True\n"
     ]
    }
   ],
   "source": [
    "# Comparando dimensiones\n",
    "print('¿Tienen las mismas dimensiones los dataframes?')\n",
    "print(json_formato.shape == df_spotify.shape)"
   ]
  },
  {
   "cell_type": "markdown",
   "metadata": {},
   "source": [
    "Las columnas concuerdan en orden y contenido, pero hay ligeras variaciones en su nombre por lo que las homologamos respecto el formato"
   ]
  },
  {
   "cell_type": "code",
   "execution_count": 54,
   "metadata": {},
   "outputs": [],
   "source": [
    "# Renombrando columnas segun el formato\n",
    "dic_columns = dict(zip(df_spotify.columns, json_formato.columns))\n",
    "df_spotify.rename(columns=dic_columns, inplace=True)"
   ]
  },
  {
   "cell_type": "markdown",
   "metadata": {},
   "source": [
    "Ahora vamos a verificar la presencia de nulos previo a evalua el tipo de datos"
   ]
  },
  {
   "cell_type": "code",
   "execution_count": 55,
   "metadata": {},
   "outputs": [
    {
     "name": "stdout",
     "output_type": "stream",
     "text": [
      "Diferencia en track_id --> 8 vs 4 nulos (formato vs actual)\n",
      "Diferencia en track_name --> 7 vs 3 nulos (formato vs actual)\n",
      "Diferencia en audio_features.danceability --> 2 vs 1 nulos (formato vs actual)\n",
      "Diferencia en audio_features.acousticness --> 1 vs 0 nulos (formato vs actual)\n",
      "Diferencia en audio_features.tempo --> 1 vs 0 nulos (formato vs actual)\n",
      "Diferencia en album_name --> 62 vs 46 nulos (formato vs actual)\n"
     ]
    }
   ],
   "source": [
    "# Comparando prescencia de nulos por columna\n",
    "null_difereces = []\n",
    "\n",
    "for col in df_spotify.columns:\n",
    "    if df_spotify[col].isnull().sum() != json_formato[col].isnull().sum():\n",
    "        print(f'Diferencia en {col} --> {json_formato[col].isnull().sum()} vs {df_spotify[col].isnull().sum()} nulos (formato vs actual)')\n",
    "        null_difereces.append(col)"
   ]
  },
  {
   "cell_type": "markdown",
   "metadata": {},
   "source": [
    "Observamos que la lectura el JSON generó menor número de nulos respecto al formato CSV dado para el ejercicio. Analizando aquellos registros nulos adicionales que están el dataframe de formato vemos que existen registros nulos que al ser leido desde el JSON se cargaron como \"\""
   ]
  },
  {
   "cell_type": "code",
   "execution_count": 56,
   "metadata": {},
   "outputs": [
    {
     "name": "stdout",
     "output_type": "stream",
     "text": [
      "Valores que deberian ser nulos en track_id:"
     ]
    },
    {
     "data": {
      "text/html": [
       "<div>\n",
       "<style scoped>\n",
       "    .dataframe tbody tr th:only-of-type {\n",
       "        vertical-align: middle;\n",
       "    }\n",
       "\n",
       "    .dataframe tbody tr th {\n",
       "        vertical-align: top;\n",
       "    }\n",
       "\n",
       "    .dataframe thead th {\n",
       "        text-align: right;\n",
       "    }\n",
       "</style>\n",
       "<table border=\"1\" class=\"dataframe\">\n",
       "  <thead>\n",
       "    <tr style=\"text-align: right;\">\n",
       "      <th></th>\n",
       "      <th>track_id</th>\n",
       "    </tr>\n",
       "  </thead>\n",
       "  <tbody>\n",
       "    <tr>\n",
       "      <th>321</th>\n",
       "      <td></td>\n",
       "    </tr>\n",
       "    <tr>\n",
       "      <th>363</th>\n",
       "      <td>None</td>\n",
       "    </tr>\n",
       "    <tr>\n",
       "      <th>375</th>\n",
       "      <td>None</td>\n",
       "    </tr>\n",
       "    <tr>\n",
       "      <th>379</th>\n",
       "      <td>None</td>\n",
       "    </tr>\n",
       "    <tr>\n",
       "      <th>382</th>\n",
       "      <td>None</td>\n",
       "    </tr>\n",
       "    <tr>\n",
       "      <th>434</th>\n",
       "      <td></td>\n",
       "    </tr>\n",
       "    <tr>\n",
       "      <th>442</th>\n",
       "      <td></td>\n",
       "    </tr>\n",
       "    <tr>\n",
       "      <th>445</th>\n",
       "      <td></td>\n",
       "    </tr>\n",
       "  </tbody>\n",
       "</table>\n",
       "</div>"
      ],
      "text/plain": [
       "    track_id\n",
       "321         \n",
       "363     None\n",
       "375     None\n",
       "379     None\n",
       "382     None\n",
       "434         \n",
       "442         \n",
       "445         "
      ]
     },
     "metadata": {},
     "output_type": "display_data"
    },
    {
     "name": "stdout",
     "output_type": "stream",
     "text": [
      "Valores que deberian ser nulos en track_name:"
     ]
    },
    {
     "data": {
      "text/html": [
       "<div>\n",
       "<style scoped>\n",
       "    .dataframe tbody tr th:only-of-type {\n",
       "        vertical-align: middle;\n",
       "    }\n",
       "\n",
       "    .dataframe tbody tr th {\n",
       "        vertical-align: top;\n",
       "    }\n",
       "\n",
       "    .dataframe thead th {\n",
       "        text-align: right;\n",
       "    }\n",
       "</style>\n",
       "<table border=\"1\" class=\"dataframe\">\n",
       "  <thead>\n",
       "    <tr style=\"text-align: right;\">\n",
       "      <th></th>\n",
       "      <th>track_name</th>\n",
       "    </tr>\n",
       "  </thead>\n",
       "  <tbody>\n",
       "    <tr>\n",
       "      <th>77</th>\n",
       "      <td>None</td>\n",
       "    </tr>\n",
       "    <tr>\n",
       "      <th>91</th>\n",
       "      <td>None</td>\n",
       "    </tr>\n",
       "    <tr>\n",
       "      <th>104</th>\n",
       "      <td>None</td>\n",
       "    </tr>\n",
       "    <tr>\n",
       "      <th>391</th>\n",
       "      <td></td>\n",
       "    </tr>\n",
       "    <tr>\n",
       "      <th>396</th>\n",
       "      <td></td>\n",
       "    </tr>\n",
       "    <tr>\n",
       "      <th>401</th>\n",
       "      <td></td>\n",
       "    </tr>\n",
       "    <tr>\n",
       "      <th>408</th>\n",
       "      <td></td>\n",
       "    </tr>\n",
       "  </tbody>\n",
       "</table>\n",
       "</div>"
      ],
      "text/plain": [
       "    track_name\n",
       "77        None\n",
       "91        None\n",
       "104       None\n",
       "391           \n",
       "396           \n",
       "401           \n",
       "408           "
      ]
     },
     "metadata": {},
     "output_type": "display_data"
    },
    {
     "name": "stdout",
     "output_type": "stream",
     "text": [
      "Valores que deberian ser nulos en audio_features.danceability:"
     ]
    },
    {
     "data": {
      "text/html": [
       "<div>\n",
       "<style scoped>\n",
       "    .dataframe tbody tr th:only-of-type {\n",
       "        vertical-align: middle;\n",
       "    }\n",
       "\n",
       "    .dataframe tbody tr th {\n",
       "        vertical-align: top;\n",
       "    }\n",
       "\n",
       "    .dataframe thead th {\n",
       "        text-align: right;\n",
       "    }\n",
       "</style>\n",
       "<table border=\"1\" class=\"dataframe\">\n",
       "  <thead>\n",
       "    <tr style=\"text-align: right;\">\n",
       "      <th></th>\n",
       "      <th>audio_features.danceability</th>\n",
       "    </tr>\n",
       "  </thead>\n",
       "  <tbody>\n",
       "    <tr>\n",
       "      <th>330</th>\n",
       "      <td>None</td>\n",
       "    </tr>\n",
       "    <tr>\n",
       "      <th>431</th>\n",
       "      <td></td>\n",
       "    </tr>\n",
       "  </tbody>\n",
       "</table>\n",
       "</div>"
      ],
      "text/plain": [
       "    audio_features.danceability\n",
       "330                        None\n",
       "431                            "
      ]
     },
     "metadata": {},
     "output_type": "display_data"
    },
    {
     "name": "stdout",
     "output_type": "stream",
     "text": [
      "Valores que deberian ser nulos en audio_features.acousticness:"
     ]
    },
    {
     "data": {
      "text/html": [
       "<div>\n",
       "<style scoped>\n",
       "    .dataframe tbody tr th:only-of-type {\n",
       "        vertical-align: middle;\n",
       "    }\n",
       "\n",
       "    .dataframe tbody tr th {\n",
       "        vertical-align: top;\n",
       "    }\n",
       "\n",
       "    .dataframe thead th {\n",
       "        text-align: right;\n",
       "    }\n",
       "</style>\n",
       "<table border=\"1\" class=\"dataframe\">\n",
       "  <thead>\n",
       "    <tr style=\"text-align: right;\">\n",
       "      <th></th>\n",
       "      <th>audio_features.acousticness</th>\n",
       "    </tr>\n",
       "  </thead>\n",
       "  <tbody>\n",
       "    <tr>\n",
       "      <th>431</th>\n",
       "      <td></td>\n",
       "    </tr>\n",
       "  </tbody>\n",
       "</table>\n",
       "</div>"
      ],
      "text/plain": [
       "    audio_features.acousticness\n",
       "431                            "
      ]
     },
     "metadata": {},
     "output_type": "display_data"
    },
    {
     "name": "stdout",
     "output_type": "stream",
     "text": [
      "Valores que deberian ser nulos en audio_features.tempo:"
     ]
    },
    {
     "data": {
      "text/html": [
       "<div>\n",
       "<style scoped>\n",
       "    .dataframe tbody tr th:only-of-type {\n",
       "        vertical-align: middle;\n",
       "    }\n",
       "\n",
       "    .dataframe tbody tr th {\n",
       "        vertical-align: top;\n",
       "    }\n",
       "\n",
       "    .dataframe thead th {\n",
       "        text-align: right;\n",
       "    }\n",
       "</style>\n",
       "<table border=\"1\" class=\"dataframe\">\n",
       "  <thead>\n",
       "    <tr style=\"text-align: right;\">\n",
       "      <th></th>\n",
       "      <th>audio_features.tempo</th>\n",
       "    </tr>\n",
       "  </thead>\n",
       "  <tbody>\n",
       "    <tr>\n",
       "      <th>432</th>\n",
       "      <td></td>\n",
       "    </tr>\n",
       "  </tbody>\n",
       "</table>\n",
       "</div>"
      ],
      "text/plain": [
       "    audio_features.tempo\n",
       "432                     "
      ]
     },
     "metadata": {},
     "output_type": "display_data"
    },
    {
     "name": "stdout",
     "output_type": "stream",
     "text": [
      "Valores que deberian ser nulos en album_name:"
     ]
    },
    {
     "data": {
      "text/html": [
       "<div>\n",
       "<style scoped>\n",
       "    .dataframe tbody tr th:only-of-type {\n",
       "        vertical-align: middle;\n",
       "    }\n",
       "\n",
       "    .dataframe tbody tr th {\n",
       "        vertical-align: top;\n",
       "    }\n",
       "\n",
       "    .dataframe thead th {\n",
       "        text-align: right;\n",
       "    }\n",
       "</style>\n",
       "<table border=\"1\" class=\"dataframe\">\n",
       "  <thead>\n",
       "    <tr style=\"text-align: right;\">\n",
       "      <th></th>\n",
       "      <th>album_name</th>\n",
       "    </tr>\n",
       "  </thead>\n",
       "  <tbody>\n",
       "    <tr>\n",
       "      <th>329</th>\n",
       "      <td>None</td>\n",
       "    </tr>\n",
       "    <tr>\n",
       "      <th>330</th>\n",
       "      <td>None</td>\n",
       "    </tr>\n",
       "    <tr>\n",
       "      <th>331</th>\n",
       "      <td>None</td>\n",
       "    </tr>\n",
       "    <tr>\n",
       "      <th>332</th>\n",
       "      <td>None</td>\n",
       "    </tr>\n",
       "    <tr>\n",
       "      <th>333</th>\n",
       "      <td>None</td>\n",
       "    </tr>\n",
       "    <tr>\n",
       "      <th>...</th>\n",
       "      <td>...</td>\n",
       "    </tr>\n",
       "    <tr>\n",
       "      <th>440</th>\n",
       "      <td></td>\n",
       "    </tr>\n",
       "    <tr>\n",
       "      <th>441</th>\n",
       "      <td></td>\n",
       "    </tr>\n",
       "    <tr>\n",
       "      <th>442</th>\n",
       "      <td></td>\n",
       "    </tr>\n",
       "    <tr>\n",
       "      <th>443</th>\n",
       "      <td></td>\n",
       "    </tr>\n",
       "    <tr>\n",
       "      <th>444</th>\n",
       "      <td></td>\n",
       "    </tr>\n",
       "  </tbody>\n",
       "</table>\n",
       "<p>62 rows × 1 columns</p>\n",
       "</div>"
      ],
      "text/plain": [
       "    album_name\n",
       "329       None\n",
       "330       None\n",
       "331       None\n",
       "332       None\n",
       "333       None\n",
       "..         ...\n",
       "440           \n",
       "441           \n",
       "442           \n",
       "443           \n",
       "444           \n",
       "\n",
       "[62 rows x 1 columns]"
      ]
     },
     "metadata": {},
     "output_type": "display_data"
    }
   ],
   "source": [
    "# Nulos que deberian estar en el JSON leido\n",
    "for column in null_difereces:\n",
    "    print(f'Valores que deberian ser nulos en {column}:', end='')\n",
    "    display(df_spotify[json_formato[column].isnull()][column].to_frame())"
   ]
  },
  {
   "cell_type": "markdown",
   "metadata": {},
   "source": [
    "Reemplazando el valor \"\" por null"
   ]
  },
  {
   "cell_type": "code",
   "execution_count": 57,
   "metadata": {},
   "outputs": [],
   "source": [
    "# Reemplazar notación de nulos\n",
    "df_spotify[null_difereces] = df_spotify[null_difereces].replace('', None)"
   ]
  },
  {
   "cell_type": "code",
   "execution_count": 58,
   "metadata": {},
   "outputs": [
    {
     "data": {
      "text/plain": [
       "disc_number                        True\n",
       "duration_ms                        True\n",
       "explicit                           True\n",
       "track_number                       True\n",
       "track_popularity                   True\n",
       "track_id                           True\n",
       "track_name                         True\n",
       "audio_features.danceability        True\n",
       "audio_features.energy              True\n",
       "audio_features.key                 True\n",
       "audio_features.loudness            True\n",
       "audio_features.mode                True\n",
       "audio_features.speechiness         True\n",
       "audio_features.acousticness        True\n",
       "audio_features.instrumentalness    True\n",
       "audio_features.liveness            True\n",
       "audio_features.valence             True\n",
       "audio_features.tempo               True\n",
       "audio_features.id                  True\n",
       "audio_features.time_signature      True\n",
       "artist_id                          True\n",
       "artist_name                        True\n",
       "artist_popularity                  True\n",
       "album_id                           True\n",
       "album_name                         True\n",
       "album_release_date                 True\n",
       "album_total_tracks                 True\n",
       "dtype: bool"
      ]
     },
     "execution_count": 58,
     "metadata": {},
     "output_type": "execute_result"
    }
   ],
   "source": [
    "# Verificando que los nulos sean iguales\n",
    "df_spotify.isnull().sum() == json_formato.isnull().sum()"
   ]
  },
  {
   "cell_type": "markdown",
   "metadata": {},
   "source": [
    "Ahora tenemos verificado la presencia de nulos, revisemos el tipo de datos"
   ]
  },
  {
   "cell_type": "code",
   "execution_count": 59,
   "metadata": {},
   "outputs": [
    {
     "name": "stdout",
     "output_type": "stream",
     "text": [
      "Diferencia en audio_features.danceability: float64 vs object (formato vs actual)\n",
      "Diferencia en audio_features.acousticness: float64 vs object (formato vs actual)\n",
      "Diferencia en audio_features.tempo: float64 vs object (formato vs actual)\n",
      "Diferencia en artist_popularity: int64 vs object (formato vs actual)\n"
     ]
    }
   ],
   "source": [
    "# Comparando tipo de datos respecto al formato\n",
    "for i in df_spotify.columns:\n",
    "    if df_spotify[i].dtype != json_formato[i].dtype:\n",
    "        print(f'Diferencia en {i}: {json_formato[i].dtype} vs {df_spotify[i].dtype} (formato vs actual)')"
   ]
  },
  {
   "cell_type": "markdown",
   "metadata": {},
   "source": [
    "Como hay diferencia en el tipo de datos, vamos a igualarlos"
   ]
  },
  {
   "cell_type": "code",
   "execution_count": 60,
   "metadata": {},
   "outputs": [],
   "source": [
    "# Igualando tipo de datos\n",
    "tipo_datos = json_formato.dtypes\n",
    "df_spotify = df_spotify.astype(tipo_datos)"
   ]
  },
  {
   "cell_type": "code",
   "execution_count": 61,
   "metadata": {},
   "outputs": [
    {
     "data": {
      "text/plain": [
       "disc_number                        True\n",
       "duration_ms                        True\n",
       "explicit                           True\n",
       "track_number                       True\n",
       "track_popularity                   True\n",
       "track_id                           True\n",
       "track_name                         True\n",
       "audio_features.danceability        True\n",
       "audio_features.energy              True\n",
       "audio_features.key                 True\n",
       "audio_features.loudness            True\n",
       "audio_features.mode                True\n",
       "audio_features.speechiness         True\n",
       "audio_features.acousticness        True\n",
       "audio_features.instrumentalness    True\n",
       "audio_features.liveness            True\n",
       "audio_features.valence             True\n",
       "audio_features.tempo               True\n",
       "audio_features.id                  True\n",
       "audio_features.time_signature      True\n",
       "artist_id                          True\n",
       "artist_name                        True\n",
       "artist_popularity                  True\n",
       "album_id                           True\n",
       "album_name                         True\n",
       "album_release_date                 True\n",
       "album_total_tracks                 True\n",
       "dtype: bool"
      ]
     },
     "execution_count": 61,
     "metadata": {},
     "output_type": "execute_result"
    }
   ],
   "source": [
    "# Verificando que los tipos de datos sean iguales\n",
    "df_spotify.dtypes == json_formato.dtypes"
   ]
  },
  {
   "cell_type": "markdown",
   "metadata": {},
   "source": [
    "Ahora vamos a verificar campo a campo para encontrar diferencias entre el formato y el JSON leido"
   ]
  },
  {
   "cell_type": "code",
   "execution_count": 62,
   "metadata": {},
   "outputs": [
    {
     "name": "stdout",
     "output_type": "stream",
     "text": [
      "Las columnas explicit son diferentes\n",
      "Las columnas audio_features.instrumentalness son diferentes\n",
      "Las columnas album_total_tracks son diferentes\n"
     ]
    }
   ],
   "source": [
    "# Comparando campo a campo\n",
    "for i in json_formato.columns:\n",
    "    if json_formato[i].equals(df_spotify[i]):\n",
    "        continue\n",
    "    else:\n",
    "        print('Las columnas', i, 'son diferentes')"
   ]
  },
  {
   "cell_type": "markdown",
   "metadata": {},
   "source": [
    "En los campos 'audio_features.instrumentalness','explicit' y 'album_total_tracks' hay diferencias, exploremos por qué "
   ]
  },
  {
   "cell_type": "code",
   "execution_count": 63,
   "metadata": {},
   "outputs": [
    {
     "data": {
      "text/html": [
       "<div>\n",
       "<style scoped>\n",
       "    .dataframe tbody tr th:only-of-type {\n",
       "        vertical-align: middle;\n",
       "    }\n",
       "\n",
       "    .dataframe tbody tr th {\n",
       "        vertical-align: top;\n",
       "    }\n",
       "\n",
       "    .dataframe thead th {\n",
       "        text-align: right;\n",
       "    }\n",
       "</style>\n",
       "<table border=\"1\" class=\"dataframe\">\n",
       "  <thead>\n",
       "    <tr style=\"text-align: right;\">\n",
       "      <th></th>\n",
       "      <th>audio_features.instrumentalness</th>\n",
       "      <th>explicit</th>\n",
       "      <th>album_total_tracks</th>\n",
       "    </tr>\n",
       "  </thead>\n",
       "  <tbody>\n",
       "    <tr>\n",
       "      <th>0</th>\n",
       "      <td>0.000037</td>\n",
       "      <td>False</td>\n",
       "      <td>22</td>\n",
       "    </tr>\n",
       "    <tr>\n",
       "      <th>1</th>\n",
       "      <td>0</td>\n",
       "      <td>False</td>\n",
       "      <td>22</td>\n",
       "    </tr>\n",
       "    <tr>\n",
       "      <th>2</th>\n",
       "      <td>0.0197</td>\n",
       "      <td>False</td>\n",
       "      <td>22</td>\n",
       "    </tr>\n",
       "    <tr>\n",
       "      <th>3</th>\n",
       "      <td>0.000056</td>\n",
       "      <td>False</td>\n",
       "      <td>22</td>\n",
       "    </tr>\n",
       "    <tr>\n",
       "      <th>4</th>\n",
       "      <td>0</td>\n",
       "      <td>False</td>\n",
       "      <td>22</td>\n",
       "    </tr>\n",
       "  </tbody>\n",
       "</table>\n",
       "</div>"
      ],
      "text/plain": [
       "  audio_features.instrumentalness explicit album_total_tracks\n",
       "0                        0.000037    False                 22\n",
       "1                               0    False                 22\n",
       "2                          0.0197    False                 22\n",
       "3                        0.000056    False                 22\n",
       "4                               0    False                 22"
      ]
     },
     "execution_count": 63,
     "metadata": {},
     "output_type": "execute_result"
    }
   ],
   "source": [
    "# Vista de las columnas en el JSON\n",
    "df_spotify[['audio_features.instrumentalness','explicit','album_total_tracks']].head(5)"
   ]
  },
  {
   "cell_type": "code",
   "execution_count": 64,
   "metadata": {},
   "outputs": [
    {
     "data": {
      "text/html": [
       "<div>\n",
       "<style scoped>\n",
       "    .dataframe tbody tr th:only-of-type {\n",
       "        vertical-align: middle;\n",
       "    }\n",
       "\n",
       "    .dataframe tbody tr th {\n",
       "        vertical-align: top;\n",
       "    }\n",
       "\n",
       "    .dataframe thead th {\n",
       "        text-align: right;\n",
       "    }\n",
       "</style>\n",
       "<table border=\"1\" class=\"dataframe\">\n",
       "  <thead>\n",
       "    <tr style=\"text-align: right;\">\n",
       "      <th></th>\n",
       "      <th>audio_features.instrumentalness</th>\n",
       "      <th>explicit</th>\n",
       "      <th>album_total_tracks</th>\n",
       "    </tr>\n",
       "  </thead>\n",
       "  <tbody>\n",
       "    <tr>\n",
       "      <th>0</th>\n",
       "      <td>3.66e-05</td>\n",
       "      <td>False</td>\n",
       "      <td>22</td>\n",
       "    </tr>\n",
       "    <tr>\n",
       "      <th>1</th>\n",
       "      <td>0</td>\n",
       "      <td>False</td>\n",
       "      <td>22</td>\n",
       "    </tr>\n",
       "    <tr>\n",
       "      <th>2</th>\n",
       "      <td>0.0197</td>\n",
       "      <td>False</td>\n",
       "      <td>22</td>\n",
       "    </tr>\n",
       "    <tr>\n",
       "      <th>3</th>\n",
       "      <td>5.59e-05</td>\n",
       "      <td>False</td>\n",
       "      <td>22</td>\n",
       "    </tr>\n",
       "    <tr>\n",
       "      <th>4</th>\n",
       "      <td>0</td>\n",
       "      <td>False</td>\n",
       "      <td>22</td>\n",
       "    </tr>\n",
       "  </tbody>\n",
       "</table>\n",
       "</div>"
      ],
      "text/plain": [
       "  audio_features.instrumentalness explicit album_total_tracks\n",
       "0                        3.66e-05    False                 22\n",
       "1                               0    False                 22\n",
       "2                          0.0197    False                 22\n",
       "3                        5.59e-05    False                 22\n",
       "4                               0    False                 22"
      ]
     },
     "execution_count": 64,
     "metadata": {},
     "output_type": "execute_result"
    }
   ],
   "source": [
    "# Vista de las columnas en formato\n",
    "json_formato[['audio_features.instrumentalness','explicit','album_total_tracks']].head(5)"
   ]
  },
  {
   "cell_type": "code",
   "execution_count": 65,
   "metadata": {},
   "outputs": [
    {
     "data": {
      "text/plain": [
       "audio_features.instrumentalness    object\n",
       "explicit                           object\n",
       "album_total_tracks                 object\n",
       "dtype: object"
      ]
     },
     "execution_count": 65,
     "metadata": {},
     "output_type": "execute_result"
    }
   ],
   "source": [
    "# Vista de las columnas en el formato\n",
    "json_formato[['audio_features.instrumentalness','explicit','album_total_tracks']].dtypes"
   ]
  },
  {
   "cell_type": "code",
   "execution_count": 66,
   "metadata": {},
   "outputs": [
    {
     "data": {
      "text/plain": [
       "audio_features.instrumentalness    object\n",
       "explicit                           object\n",
       "album_total_tracks                 object\n",
       "dtype: object"
      ]
     },
     "execution_count": 66,
     "metadata": {},
     "output_type": "execute_result"
    }
   ],
   "source": [
    "# Vista de las columnas en el JSON\n",
    "df_spotify[['audio_features.instrumentalness','explicit','album_total_tracks']].dtypes"
   ]
  },
  {
   "cell_type": "code",
   "execution_count": 67,
   "metadata": {},
   "outputs": [
    {
     "name": "stdout",
     "output_type": "stream",
     "text": [
      "['False' 'True' 'Si' 'No']\n"
     ]
    }
   ],
   "source": [
    "# Valores únicos de la columna 'explicit' en el formato\n",
    "print(json_formato['explicit'].unique())"
   ]
  },
  {
   "cell_type": "code",
   "execution_count": 68,
   "metadata": {},
   "outputs": [
    {
     "name": "stdout",
     "output_type": "stream",
     "text": [
      "[False True 'Si' 'No']\n"
     ]
    }
   ],
   "source": [
    "# Valores únicos de la columna 'explicit' en el JSON\n",
    "print(df_spotify['explicit'].unique())"
   ]
  },
  {
   "cell_type": "code",
   "execution_count": 69,
   "metadata": {},
   "outputs": [
    {
     "data": {
      "text/plain": [
       "array(['22', '21', '24', '20', '13', '34', '26', '17', '10', '16', '18',\n",
       "       '15', '46', '19', '14', '8', 'Thirteen'], dtype=object)"
      ]
     },
     "execution_count": 69,
     "metadata": {},
     "output_type": "execute_result"
    }
   ],
   "source": [
    "# Valores únicos de la columna 'album_total_tracks' en el formato\n",
    "json_formato['album_total_tracks'].unique()"
   ]
  },
  {
   "cell_type": "code",
   "execution_count": 70,
   "metadata": {},
   "outputs": [
    {
     "data": {
      "text/plain": [
       "array([22, 21, 24, 20, 13, 34, 26, 17, 10, 16, 18, 15, 46, 19, 14, 8,\n",
       "       'Thirteen'], dtype=object)"
      ]
     },
     "execution_count": 70,
     "metadata": {},
     "output_type": "execute_result"
    }
   ],
   "source": [
    "# Valores únicos de la columna 'album_total_tracks' en el JSON\n",
    "df_spotify['album_total_tracks'].unique()"
   ]
  },
  {
   "cell_type": "markdown",
   "metadata": {},
   "source": [
    "Con esta exploración se encuentra la causa de la diferencia, para ello hay que entender el tipo de datos 'object' en Pandas. Object es un tipo de datos genérico que puede almacenar cualquier tipo de valor, como valores booleanos, cadenas de texto, números, fechas, etc. Sin embargo, esto puede causar ambigüedad al interpretar los valores de la columna. Por ejemplo, si se observa el valor \"True\", no se sabe si se trata de un valor booleano True o de una cadena de texto \"True\"\n",
    "\n",
    "Para evitar esta ambigüedad, es recomendable convertir los valores a un tipo de datos específico. Vamos a cambiar el tipo de datos de estas columnas para solucionarlo, y adicional realizar unos reemplazos de valores para estandarizar"
   ]
  },
  {
   "cell_type": "code",
   "execution_count": 71,
   "metadata": {},
   "outputs": [],
   "source": [
    "# Función para convertir valores en notación \"x\" a notación \"e\"\n",
    "def x_to_e(valor):\n",
    "    valor = str(valor)\n",
    "    if 'x' in valor:\n",
    "        valor = valor.replace('x', 'e')\n",
    "    return valor"
   ]
  },
  {
   "cell_type": "code",
   "execution_count": 72,
   "metadata": {},
   "outputs": [],
   "source": [
    "# Cambiando tipos de datos\n",
    "json_formato['audio_features.instrumentalness'] = json_formato['audio_features.instrumentalness'].apply(x_to_e).astype(float).round(6)\n",
    "df_spotify['audio_features.instrumentalness'] = df_spotify['audio_features.instrumentalness'].apply(x_to_e).astype(float).round(6)\n",
    "\n",
    "json_formato['explicit'] = json_formato['explicit'].replace({'False': False, 'True': True, 'Si': True, 'No': False}).astype(bool)\n",
    "df_spotify['explicit'] = df_spotify['explicit'].replace({'False': False, 'True': True, 'Si': True, 'No': False}).astype(bool)\n",
    "\n",
    "json_formato['album_total_tracks'] = json_formato['album_total_tracks'].replace('Thirteen',13).astype(int)\n",
    "df_spotify['album_total_tracks'] = df_spotify['album_total_tracks'].replace('Thirteen',13).astype(int)"
   ]
  },
  {
   "cell_type": "markdown",
   "metadata": {},
   "source": [
    "De esta manera ambos datasets quedan iguales"
   ]
  },
  {
   "cell_type": "code",
   "execution_count": 73,
   "metadata": {},
   "outputs": [
    {
     "data": {
      "text/plain": [
       "True"
      ]
     },
     "execution_count": 73,
     "metadata": {},
     "output_type": "execute_result"
    }
   ],
   "source": [
    "df_spotify.equals(json_formato)"
   ]
  }
 ],
 "metadata": {
  "kernelspec": {
   "display_name": "Python 3",
   "language": "python",
   "name": "python3"
  },
  "language_info": {
   "codemirror_mode": {
    "name": "ipython",
    "version": 3
   },
   "file_extension": ".py",
   "mimetype": "text/x-python",
   "name": "python",
   "nbconvert_exporter": "python",
   "pygments_lexer": "ipython3",
   "version": "3.11.4"
  }
 },
 "nbformat": 4,
 "nbformat_minor": 2
}
