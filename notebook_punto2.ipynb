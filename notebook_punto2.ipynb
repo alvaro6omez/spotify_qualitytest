{
 "cells": [
  {
   "cell_type": "markdown",
   "metadata": {},
   "source": [
    "### **Cargando Datos**"
   ]
  },
  {
   "cell_type": "code",
   "execution_count": 392,
   "metadata": {},
   "outputs": [],
   "source": [
    "# Importando libreias\n",
    "import pandas as pd\n",
    "import re\n",
    "import seaborn as sns\n",
    "import matplotlib.pyplot as plt\n",
    "from PIL import Image\n",
    "from IPython.display import display\n",
    "\n",
    "pd.set_option('display.max_columns', None)"
   ]
  },
  {
   "cell_type": "code",
   "execution_count": 393,
   "metadata": {},
   "outputs": [
    {
     "data": {
      "text/html": [
       "<div>\n",
       "<style scoped>\n",
       "    .dataframe tbody tr th:only-of-type {\n",
       "        vertical-align: middle;\n",
       "    }\n",
       "\n",
       "    .dataframe tbody tr th {\n",
       "        vertical-align: top;\n",
       "    }\n",
       "\n",
       "    .dataframe thead th {\n",
       "        text-align: right;\n",
       "    }\n",
       "</style>\n",
       "<table border=\"1\" class=\"dataframe\">\n",
       "  <thead>\n",
       "    <tr style=\"text-align: right;\">\n",
       "      <th></th>\n",
       "      <th>disc_number</th>\n",
       "      <th>duration_ms</th>\n",
       "      <th>explicit</th>\n",
       "      <th>track_number</th>\n",
       "      <th>track_popularity</th>\n",
       "      <th>track_id</th>\n",
       "      <th>track_name</th>\n",
       "      <th>audio_features.danceability</th>\n",
       "      <th>audio_features.energy</th>\n",
       "      <th>audio_features.key</th>\n",
       "      <th>audio_features.loudness</th>\n",
       "      <th>audio_features.mode</th>\n",
       "      <th>audio_features.speechiness</th>\n",
       "      <th>audio_features.acousticness</th>\n",
       "      <th>audio_features.instrumentalness</th>\n",
       "      <th>audio_features.liveness</th>\n",
       "      <th>audio_features.valence</th>\n",
       "      <th>audio_features.tempo</th>\n",
       "      <th>audio_features.id</th>\n",
       "      <th>audio_features.time_signature</th>\n",
       "      <th>artist_id</th>\n",
       "      <th>artist_name</th>\n",
       "      <th>artist_popularity</th>\n",
       "      <th>album_id</th>\n",
       "      <th>album_name</th>\n",
       "      <th>album_release_date</th>\n",
       "      <th>album_total_tracks</th>\n",
       "    </tr>\n",
       "  </thead>\n",
       "  <tbody>\n",
       "    <tr>\n",
       "      <th>467</th>\n",
       "      <td>1</td>\n",
       "      <td>352200</td>\n",
       "      <td>False</td>\n",
       "      <td>9</td>\n",
       "      <td>78</td>\n",
       "      <td>3sqrvkNC6IPTIXvvbx9Arw</td>\n",
       "      <td>Enchanted</td>\n",
       "      <td>0.535</td>\n",
       "      <td>0.618</td>\n",
       "      <td>8.0</td>\n",
       "      <td>-3.913</td>\n",
       "      <td>1</td>\n",
       "      <td>0.0273</td>\n",
       "      <td>0.07160</td>\n",
       "      <td>0.000388</td>\n",
       "      <td>0.169</td>\n",
       "      <td>0.228</td>\n",
       "      <td>81.975</td>\n",
       "      <td>3sqrvkNC6IPTIXvvbx9Arw</td>\n",
       "      <td>4.0</td>\n",
       "      <td>06HL4z0CvFAxyc27GX</td>\n",
       "      <td>Taylor Swift</td>\n",
       "      <td>120</td>\n",
       "      <td>6S6JQWzUrJVcJLK4fi74Fw</td>\n",
       "      <td>Speak Now (Deluxe Package)</td>\n",
       "      <td>2010-01-01</td>\n",
       "      <td>22</td>\n",
       "    </tr>\n",
       "    <tr>\n",
       "      <th>166</th>\n",
       "      <td>1</td>\n",
       "      <td>312107</td>\n",
       "      <td>False</td>\n",
       "      <td>15</td>\n",
       "      <td>68</td>\n",
       "      <td>0tQ9vBYpldCuikPsbgOVKA</td>\n",
       "      <td>Untouchable (Taylor’s Version)</td>\n",
       "      <td>0.393</td>\n",
       "      <td>0.531</td>\n",
       "      <td>5.0</td>\n",
       "      <td>-6.112</td>\n",
       "      <td>1</td>\n",
       "      <td>0.0329</td>\n",
       "      <td>0.01810</td>\n",
       "      <td>0</td>\n",
       "      <td>0.169</td>\n",
       "      <td>0.224</td>\n",
       "      <td>200.391</td>\n",
       "      <td>0tQ9vBYpldCuikPsbgOVKA</td>\n",
       "      <td>4.0</td>\n",
       "      <td>06HL4z0CvFAxyc27GX</td>\n",
       "      <td>Taylor Swift</td>\n",
       "      <td>120</td>\n",
       "      <td>4hDok0OAJd57SGIT8xuWJH</td>\n",
       "      <td>Fearless (Taylor's Version)</td>\n",
       "      <td>2021-04-09</td>\n",
       "      <td>26</td>\n",
       "    </tr>\n",
       "    <tr>\n",
       "      <th>207</th>\n",
       "      <td>1</td>\n",
       "      <td>257773</td>\n",
       "      <td>False</td>\n",
       "      <td>13</td>\n",
       "      <td>75</td>\n",
       "      <td>12ntTeqEeTg7GAVpe8Mhpl</td>\n",
       "      <td>marjorie</td>\n",
       "      <td>0.535</td>\n",
       "      <td>0.561</td>\n",
       "      <td>5.0</td>\n",
       "      <td>-11.609</td>\n",
       "      <td>1</td>\n",
       "      <td>0.0484</td>\n",
       "      <td>0.87600</td>\n",
       "      <td>0.000136</td>\n",
       "      <td>0.115</td>\n",
       "      <td>0.287</td>\n",
       "      <td>96.103</td>\n",
       "      <td>12ntTeqEeTg7GAVpe8Mhpl</td>\n",
       "      <td>4.0</td>\n",
       "      <td>06HL4z0CvFAxyc27GX</td>\n",
       "      <td>Taylor Swift</td>\n",
       "      <td>120</td>\n",
       "      <td>2Xoteh7uEpea4TohMxjtaq</td>\n",
       "      <td>evermore</td>\n",
       "      <td>2020-12-11</td>\n",
       "      <td>10</td>\n",
       "    </tr>\n",
       "    <tr>\n",
       "      <th>379</th>\n",
       "      <td>1</td>\n",
       "      <td>193293</td>\n",
       "      <td>False</td>\n",
       "      <td>5</td>\n",
       "      <td>60</td>\n",
       "      <td>NaN</td>\n",
       "      <td>All You Had To Do Was Stay</td>\n",
       "      <td>0.605</td>\n",
       "      <td>0.725</td>\n",
       "      <td>5.0</td>\n",
       "      <td>-5.729</td>\n",
       "      <td>1</td>\n",
       "      <td>0.0323</td>\n",
       "      <td>0.00201</td>\n",
       "      <td>2.02e-05</td>\n",
       "      <td>0.101</td>\n",
       "      <td>0.539</td>\n",
       "      <td>96.970</td>\n",
       "      <td>6aLOekfwbytwWvQftxTEF0</td>\n",
       "      <td>4.0</td>\n",
       "      <td>06HL4z0CvFAxyc27GX</td>\n",
       "      <td>Taylor Swift</td>\n",
       "      <td>120</td>\n",
       "      <td>1yGbNOtRIgdIiGHOEBaZWf</td>\n",
       "      <td>1989 (Deluxe)</td>\n",
       "      <td>2014-01-01</td>\n",
       "      <td>19</td>\n",
       "    </tr>\n",
       "    <tr>\n",
       "      <th>371</th>\n",
       "      <td>1</td>\n",
       "      <td>235400</td>\n",
       "      <td>False</td>\n",
       "      <td>43</td>\n",
       "      <td>33</td>\n",
       "      <td>4RMfSYDFkcz0bKoK8fHDgR</td>\n",
       "      <td>White Horse</td>\n",
       "      <td>0.578</td>\n",
       "      <td>0.348</td>\n",
       "      <td>0.0</td>\n",
       "      <td>-8.066</td>\n",
       "      <td>1</td>\n",
       "      <td>0.0257</td>\n",
       "      <td>0.31400</td>\n",
       "      <td>0</td>\n",
       "      <td>0.100</td>\n",
       "      <td>0.218</td>\n",
       "      <td>92.673</td>\n",
       "      <td>4RMfSYDFkcz0bKoK8fHDgR</td>\n",
       "      <td>4.0</td>\n",
       "      <td>06HL4z0CvFAxyc27GX</td>\n",
       "      <td>Taylor Swift</td>\n",
       "      <td>120</td>\n",
       "      <td>1MPAXuTVL2Ej5x0JHiSPq8</td>\n",
       "      <td>NaN</td>\n",
       "      <td>2017-11-09</td>\n",
       "      <td>46</td>\n",
       "    </tr>\n",
       "  </tbody>\n",
       "</table>\n",
       "</div>"
      ],
      "text/plain": [
       "     disc_number  duration_ms explicit  track_number  track_popularity  \\\n",
       "467            1       352200    False             9                78   \n",
       "166            1       312107    False            15                68   \n",
       "207            1       257773    False            13                75   \n",
       "379            1       193293    False             5                60   \n",
       "371            1       235400    False            43                33   \n",
       "\n",
       "                   track_id                      track_name  \\\n",
       "467  3sqrvkNC6IPTIXvvbx9Arw                       Enchanted   \n",
       "166  0tQ9vBYpldCuikPsbgOVKA  Untouchable (Taylor’s Version)   \n",
       "207  12ntTeqEeTg7GAVpe8Mhpl                        marjorie   \n",
       "379                     NaN      All You Had To Do Was Stay   \n",
       "371  4RMfSYDFkcz0bKoK8fHDgR                     White Horse   \n",
       "\n",
       "     audio_features.danceability  audio_features.energy  audio_features.key  \\\n",
       "467                        0.535                  0.618                 8.0   \n",
       "166                        0.393                  0.531                 5.0   \n",
       "207                        0.535                  0.561                 5.0   \n",
       "379                        0.605                  0.725                 5.0   \n",
       "371                        0.578                  0.348                 0.0   \n",
       "\n",
       "     audio_features.loudness  audio_features.mode  audio_features.speechiness  \\\n",
       "467                   -3.913                    1                      0.0273   \n",
       "166                   -6.112                    1                      0.0329   \n",
       "207                  -11.609                    1                      0.0484   \n",
       "379                   -5.729                    1                      0.0323   \n",
       "371                   -8.066                    1                      0.0257   \n",
       "\n",
       "     audio_features.acousticness audio_features.instrumentalness  \\\n",
       "467                      0.07160                        0.000388   \n",
       "166                      0.01810                               0   \n",
       "207                      0.87600                        0.000136   \n",
       "379                      0.00201                        2.02e-05   \n",
       "371                      0.31400                               0   \n",
       "\n",
       "     audio_features.liveness  audio_features.valence  audio_features.tempo  \\\n",
       "467                    0.169                   0.228                81.975   \n",
       "166                    0.169                   0.224               200.391   \n",
       "207                    0.115                   0.287                96.103   \n",
       "379                    0.101                   0.539                96.970   \n",
       "371                    0.100                   0.218                92.673   \n",
       "\n",
       "          audio_features.id  audio_features.time_signature  \\\n",
       "467  3sqrvkNC6IPTIXvvbx9Arw                            4.0   \n",
       "166  0tQ9vBYpldCuikPsbgOVKA                            4.0   \n",
       "207  12ntTeqEeTg7GAVpe8Mhpl                            4.0   \n",
       "379  6aLOekfwbytwWvQftxTEF0                            4.0   \n",
       "371  4RMfSYDFkcz0bKoK8fHDgR                            4.0   \n",
       "\n",
       "              artist_id   artist_name  artist_popularity  \\\n",
       "467  06HL4z0CvFAxyc27GX  Taylor Swift                120   \n",
       "166  06HL4z0CvFAxyc27GX  Taylor Swift                120   \n",
       "207  06HL4z0CvFAxyc27GX  Taylor Swift                120   \n",
       "379  06HL4z0CvFAxyc27GX  Taylor Swift                120   \n",
       "371  06HL4z0CvFAxyc27GX  Taylor Swift                120   \n",
       "\n",
       "                   album_id                   album_name album_release_date  \\\n",
       "467  6S6JQWzUrJVcJLK4fi74Fw   Speak Now (Deluxe Package)         2010-01-01   \n",
       "166  4hDok0OAJd57SGIT8xuWJH  Fearless (Taylor's Version)         2021-04-09   \n",
       "207  2Xoteh7uEpea4TohMxjtaq                     evermore         2020-12-11   \n",
       "379  1yGbNOtRIgdIiGHOEBaZWf                1989 (Deluxe)         2014-01-01   \n",
       "371  1MPAXuTVL2Ej5x0JHiSPq8                          NaN         2017-11-09   \n",
       "\n",
       "    album_total_tracks  \n",
       "467                 22  \n",
       "166                 26  \n",
       "207                 10  \n",
       "379                 19  \n",
       "371                 46  "
      ]
     },
     "execution_count": 393,
     "metadata": {},
     "output_type": "execute_result"
    }
   ],
   "source": [
    "# Leer el dataset y mostrar 5 filas aleatorias\n",
    "data = pd.read_csv('Datos/dataset.csv')\n",
    "data.sample(5)"
   ]
  },
  {
   "cell_type": "markdown",
   "metadata": {},
   "source": [
    "### **Entender el Contexto y los Datos**"
   ]
  },
  {
   "cell_type": "markdown",
   "metadata": {},
   "source": [
    "Tener el contexto de los datos es importante, por eso con la documentación de referencia que proporcionaron se obtuvó la siguiente información:\n",
    "\n",
    "Los datos son una recopilación de información sobre pistas musicales (tracks) de Spotify, incluyendo detalles sobre las pistas individuales, sus características de audio, así como información relacionada con los artistas y álbumes correspondientes. A continuación se muestra una de los campos:\n",
    "\n",
    "* disc_number: Número de disco en el álbum al que pertenece la pista\n",
    "* duration_ms: Duración de la pista en milisegundos\n",
    "* explicit: Indica si la pista tiene contenido explícito\n",
    "* track_number: Número de la pista en el álbum\n",
    "* track_popularity: Popularidad de la pista\n",
    "* track_id: ID único de Spotify para la pista\n",
    "* track_name: Nombre de la pista\n",
    "* audio_features.danceability: Describe qué tan adecuada es una pista para bailar basada en una combinación de elementos musicales incluyendo tempo, estabilidad del ritmo, fuerza del ritmo y regularidad general. Un valor de 0.0 es menos bailable y 1.0 es más bailable\n",
    "* audio_features.energy: Medida de 0.0 a 1.0 y representa una medida perceptual de intensidad y actividad\n",
    "* audio_features.key: La tonalidad en la que está la música. Los enteros se asignan a las tonalidades\n",
    "* audio_features.loudness: Volumen general de una pista en decibelios (dB)\n",
    "* audio_features.mode: Modalidad de la pista. Mayor o menor\n",
    "* audio_features.speechiness: Detecta la presencia de palabras habladas en una pista\n",
    "* audio_features.acousticness: Confianza de 1.0 significa que la pista es acústica\n",
    "* audio_features.instrumentalness: Predice si una pista no contiene voces\n",
    "* audio_features.liveness: Detecta la presencia de una audiencia en la grabación\n",
    "* audio_features.valence: Medida de 0.0 a 1.0 describiendo la positividad musical\n",
    "* audio_features.tempo: Tempo general de una pista en latidos por minuto (BPM)\n",
    "* audio_features.id: ID de Spotify de las características de audio\n",
    "* audio_features.time_signature: La firma de tiempo estimada de una pista\n",
    "* artist_id: ID único de Spotify para el artista\n",
    "* artist_name: Nombre del artista\n",
    "* artist_popularity: Popularidad del artista\n",
    "* album_id: ID único de Spotify para el álbum\n",
    "* album_name: Nombre del álbum\n",
    "* album_release_date: Fecha de lanzamiento del álbum\n",
    "* album_total_tracks: Número total de pistas en el álbum"
   ]
  },
  {
   "cell_type": "markdown",
   "metadata": {},
   "source": [
    "Entender lo que representa cada campo permite interpretar correctamente los datos, identificar inconsistencias, e identificar el manejo de nulos adecuado. Por ejemplo,  un valor negativo en \"track_popularity\", que se espera esté entre 0 y 100, indicaría un error"
   ]
  },
  {
   "cell_type": "code",
   "execution_count": 394,
   "metadata": {},
   "outputs": [
    {
     "data": {
      "image/png": "[encoded data removed]",
      "text/plain": [
       "<Figure size 640x480 with 1 Axes>"
      ]
     },
     "metadata": {},
     "output_type": "display_data"
    }
   ],
   "source": [
    "# Distribución de valores de track_popularity\n",
    "sns.violinplot(x=data['track_popularity'], alpha=0.3, color='cyan')\n",
    "sns.stripplot(x=data['track_popularity'], jitter=False, s=10, marker=\"D\", linewidth=1, alpha=.1)\n",
    "plt.title('Distribución de valores de \"track_popularity\"')\n",
    "plt.show()"
   ]
  },
  {
   "cell_type": "markdown",
   "metadata": {},
   "source": [
    "### **Definiciones de los Datos**\n",
    "\n",
    "Construir las definiciones de los datos es una tarea dispendiosa, pero crucial para definir politicas de calidad de datos. Es por eso que se coplementa el análisis previo de campos usando la documentación de los links de la API de Spotify proporcionados:\n",
    "\n",
    "**Track Data**:\n",
    "\n",
    "* disc_number: Tipo entero. No obligatorio. Indica el número de disco, generalmente 1 a menos que el álbum tenga más de un disco​​\n",
    "\n",
    "* duration_ms: Tipo entero. No obligatorio. Representa la duración de la pista en milisegundos​​​​\n",
    "\n",
    "* explicit: Tipo booleano. No obligatorio. Indica si la pista tiene letras explícitas (true = sí, false = no o desconocido)​​\n",
    "\n",
    "* track_number: Tipo entero. No obligatorio. Número de la pista. Si un álbum tiene varios discos, es el número en el disco especificado​​\n",
    "\n",
    "* track_popularity: Tipo entero. No obligatorio. Popularidad de la pista, con valores entre 0 y 100, siendo 100 el más popular​​\n",
    "\n",
    "* track_id: Tipo cadena (string). Obligatorio. Es el ID de Spotify para la pista​​. Ejemplo: 11dFghVXANMlKmJXsNCbNl\n",
    "\n",
    "* track_name: Tipo cadena (string). No obligatorio. Nombre de la pista​​\n",
    "\n",
    "**Track's Audio Features**:\n",
    "\n",
    "* audio_features.danceability: Tipo número flotante (float). No obligatorio. Mide qué tan adecuada es una pista para bailar en una escala de 0.0 a 1.0​​. Ejemplo: 0.585\n",
    "\n",
    "* audio_features.energy: Tipo número flotante. No obligatorio. Mide la energía de una pista en una escala de 0.0 a 1.0​​. Ejemplo: 0.842\n",
    "\n",
    "* audio_features.key: Tipo entero.  No obligatorio. La clave musical en la que está la pista. Varía de -1 a 11​​, donde -1 indica no clave detectada. Ejemplo: 9\n",
    "\n",
    "* audio_features.loudness: Tipo número flotante. No obligatorio. La sonoridad general de una pista en decibeles (dB)​​. Ejemplo: -5.883\n",
    "\n",
    "* audio_features.mode: Tipo entero. No obligatorio. Indica la modalidad (mayor o menor) de una pista. Mayor es 1 y menor es 0​​*****\n",
    "\n",
    "* audio_features.speechiness: Tipo número flotante. No obligatorio. Detecta la presencia de palabras habladas en una pista​​, cuanto más hablada sea será más cercana a 1. Ejemplo: 0.0556\n",
    "\n",
    "* audio_features.acousticness: Tipo número flotante. No obligatorio. Medida de confianza de si la pista es acústica, en una escala de 0.0 a 1.0​​. Ejemplo: 0.00242\n",
    "\n",
    "* audio_features.instrumentalness: Tipo número flotante. No obligatorio. Predice si una pista no contiene voces​​, cuanto más cercano a 1.0 más probable de que la pista no contenga voces. Ejemplo: 0.00686\n",
    "\n",
    "* audio_features.liveness: Tipo número flotante. No obligatorio. Detecta la presencia de audiencia en la grabación​​, cuando mayor sea el número mayor probabilidad de que la pista fue realizada en vivo. Ejemplo: 0.0866\n",
    "\n",
    "* audio_features.valence: Tipo número flotante. No obligatorio. Mide la positividad musical transmitida por una pista, en una escala de 0.0 a 1.0​​, donde 1.0 es muy positiva. Ejemplo: 0.428\n",
    "\n",
    "* audio_features.tempo: Tipo número flotante. No obligatorio. El tempo estimado de una pista en latidos por minuto (BPM)​​. Ejemplo: 118.211\n",
    "\n",
    "* audio_features.id: Tipo cadena (string). Obligatio. Es el ID de Spotify para la pista​​. Ejemplo: 11dFghVXANMlKmJXsNCbNl\n",
    "\n",
    "* audio_features.time_signature: Tipo entero. No obligatorio. Firma de tiempo estimada de una pista, varía de 3 a 7​​\n",
    "\n",
    "**Artist Data**:\n",
    "\n",
    "* artist_id: Tipo cadena (string). Obligatorio. ID de Spotify para el artista​​. Ejemplo: 0TnOYISbd1XYRBk9myaseg\n",
    "\n",
    "* artist_name: Tipo cadena (string). No obligatorio. Nombre del artista​​\n",
    "\n",
    "* artist_popularity: Tipo entero. No obligatorio. Popularidad del artista, con valores entre 0 y 100, siendo 100 el más popular​​\n",
    "\n",
    "**Album Data**:\n",
    "\n",
    "* album_id: Tipo cadena (string). Obligatorio. ID de Spotify para el álbum​​. Ejemplo: 4aawyAB9vmqN3uQ7FjRGTy\n",
    "\n",
    "* album_name: Tipo cadena (string). Obligatorio. Nombre del álbum​​\n",
    "\n",
    "* album_release_date: Tipo cadena (string). Obligatorio. Fecha de lanzamiento del álbum​​. Ejemplo: \"1981-12\"\n",
    "\n",
    "* album_total_tracks: Tipo entero. Obligatorio. Número de pistas en el álbum​​. Ejemplo: 9"
   ]
  },
  {
   "cell_type": "markdown",
   "metadata": {},
   "source": [
    "Esta información tabular fue obtenida de diferentes categorias de la API de Spotify. Recordemos que <u>las API contienen categorias que se utilizan para organizar y estructurar los diferentes tipos de operaciones y datos</u> que la API puede manejar, además de facilitar la navegación por la API. Por ejemplo, para la ruta \"References / Tracks / Get Track's Audio Features\", tenemos que:\n",
    "- References: Indica la sección de documentación donde se detallan los distintos recursos y métodos disponibles\n",
    "- Tracks: Específicamente se refiere a la categoría de recursos relacionados con las pistas o canciones\n",
    "- Get Track's Audio Features: Este es un método específico que permite obtener características de audio de una pista, como el tempo, la energía, la danzabilidad, etc\n",
    "\n",
    "Es por eso que vemos cuatro categorias en los campos descritos, donde cada categoría se enfoca en un tipo de recurso específico\n",
    "1. Tracks\n",
    "2. Track's Audio Features\n",
    "3. Albums\n",
    "4. Artists \n",
    "\n",
    "Al ser Track's Audio Features una característica dentro de Tracks, ambas estan vinculadas mediante un ID (track_id y audio_features.id), este dato es importante conocer porque permite evaluar ciertas dimensiones de calidad más adelante"
   ]
  },
  {
   "cell_type": "markdown",
   "metadata": {},
   "source": [
    "### **Analisis de Calidad Exploratorio**"
   ]
  },
  {
   "cell_type": "markdown",
   "metadata": {},
   "source": [
    "Comenzaremos a realizar una descripción general de los datos:"
   ]
  },
  {
   "cell_type": "code",
   "execution_count": 395,
   "metadata": {},
   "outputs": [
    {
     "data": {
      "text/html": [
       "<div>\n",
       "<style scoped>\n",
       "    .dataframe tbody tr th:only-of-type {\n",
       "        vertical-align: middle;\n",
       "    }\n",
       "\n",
       "    .dataframe tbody tr th {\n",
       "        vertical-align: top;\n",
       "    }\n",
       "\n",
       "    .dataframe thead th {\n",
       "        text-align: right;\n",
       "    }\n",
       "</style>\n",
       "<table border=\"1\" class=\"dataframe\">\n",
       "  <thead>\n",
       "    <tr style=\"text-align: right;\">\n",
       "      <th></th>\n",
       "      <th>Número de Nulos</th>\n",
       "      <th>Porcentaje</th>\n",
       "      <th>¿Es Obligatorio?</th>\n",
       "    </tr>\n",
       "  </thead>\n",
       "  <tbody>\n",
       "    <tr>\n",
       "      <th>album_name</th>\n",
       "      <td>62</td>\n",
       "      <td>11.50</td>\n",
       "      <td>True</td>\n",
       "    </tr>\n",
       "    <tr>\n",
       "      <th>track_id</th>\n",
       "      <td>8</td>\n",
       "      <td>1.48</td>\n",
       "      <td>True</td>\n",
       "    </tr>\n",
       "    <tr>\n",
       "      <th>track_name</th>\n",
       "      <td>7</td>\n",
       "      <td>1.30</td>\n",
       "      <td>False</td>\n",
       "    </tr>\n",
       "    <tr>\n",
       "      <th>audio_features.loudness</th>\n",
       "      <td>2</td>\n",
       "      <td>0.37</td>\n",
       "      <td>False</td>\n",
       "    </tr>\n",
       "    <tr>\n",
       "      <th>audio_features.danceability</th>\n",
       "      <td>2</td>\n",
       "      <td>0.37</td>\n",
       "      <td>False</td>\n",
       "    </tr>\n",
       "    <tr>\n",
       "      <th>audio_features.energy</th>\n",
       "      <td>2</td>\n",
       "      <td>0.37</td>\n",
       "      <td>False</td>\n",
       "    </tr>\n",
       "    <tr>\n",
       "      <th>audio_features.acousticness</th>\n",
       "      <td>1</td>\n",
       "      <td>0.19</td>\n",
       "      <td>False</td>\n",
       "    </tr>\n",
       "    <tr>\n",
       "      <th>audio_features.time_signature</th>\n",
       "      <td>1</td>\n",
       "      <td>0.19</td>\n",
       "      <td>False</td>\n",
       "    </tr>\n",
       "    <tr>\n",
       "      <th>audio_features.liveness</th>\n",
       "      <td>1</td>\n",
       "      <td>0.19</td>\n",
       "      <td>False</td>\n",
       "    </tr>\n",
       "    <tr>\n",
       "      <th>audio_features.speechiness</th>\n",
       "      <td>1</td>\n",
       "      <td>0.19</td>\n",
       "      <td>False</td>\n",
       "    </tr>\n",
       "    <tr>\n",
       "      <th>audio_features.key</th>\n",
       "      <td>1</td>\n",
       "      <td>0.19</td>\n",
       "      <td>False</td>\n",
       "    </tr>\n",
       "    <tr>\n",
       "      <th>audio_features.tempo</th>\n",
       "      <td>1</td>\n",
       "      <td>0.19</td>\n",
       "      <td>False</td>\n",
       "    </tr>\n",
       "    <tr>\n",
       "      <th>artist_popularity</th>\n",
       "      <td>0</td>\n",
       "      <td>0.00</td>\n",
       "      <td>False</td>\n",
       "    </tr>\n",
       "    <tr>\n",
       "      <th>audio_features.id</th>\n",
       "      <td>0</td>\n",
       "      <td>0.00</td>\n",
       "      <td>True</td>\n",
       "    </tr>\n",
       "    <tr>\n",
       "      <th>artist_name</th>\n",
       "      <td>0</td>\n",
       "      <td>0.00</td>\n",
       "      <td>False</td>\n",
       "    </tr>\n",
       "    <tr>\n",
       "      <th>artist_id</th>\n",
       "      <td>0</td>\n",
       "      <td>0.00</td>\n",
       "      <td>True</td>\n",
       "    </tr>\n",
       "    <tr>\n",
       "      <th>album_id</th>\n",
       "      <td>0</td>\n",
       "      <td>0.00</td>\n",
       "      <td>True</td>\n",
       "    </tr>\n",
       "    <tr>\n",
       "      <th>album_release_date</th>\n",
       "      <td>0</td>\n",
       "      <td>0.00</td>\n",
       "      <td>True</td>\n",
       "    </tr>\n",
       "    <tr>\n",
       "      <th>disc_number</th>\n",
       "      <td>0</td>\n",
       "      <td>0.00</td>\n",
       "      <td>False</td>\n",
       "    </tr>\n",
       "    <tr>\n",
       "      <th>audio_features.valence</th>\n",
       "      <td>0</td>\n",
       "      <td>0.00</td>\n",
       "      <td>False</td>\n",
       "    </tr>\n",
       "    <tr>\n",
       "      <th>audio_features.instrumentalness</th>\n",
       "      <td>0</td>\n",
       "      <td>0.00</td>\n",
       "      <td>False</td>\n",
       "    </tr>\n",
       "    <tr>\n",
       "      <th>duration_ms</th>\n",
       "      <td>0</td>\n",
       "      <td>0.00</td>\n",
       "      <td>False</td>\n",
       "    </tr>\n",
       "    <tr>\n",
       "      <th>audio_features.mode</th>\n",
       "      <td>0</td>\n",
       "      <td>0.00</td>\n",
       "      <td>False</td>\n",
       "    </tr>\n",
       "    <tr>\n",
       "      <th>track_popularity</th>\n",
       "      <td>0</td>\n",
       "      <td>0.00</td>\n",
       "      <td>False</td>\n",
       "    </tr>\n",
       "    <tr>\n",
       "      <th>track_number</th>\n",
       "      <td>0</td>\n",
       "      <td>0.00</td>\n",
       "      <td>False</td>\n",
       "    </tr>\n",
       "    <tr>\n",
       "      <th>explicit</th>\n",
       "      <td>0</td>\n",
       "      <td>0.00</td>\n",
       "      <td>False</td>\n",
       "    </tr>\n",
       "    <tr>\n",
       "      <th>album_total_tracks</th>\n",
       "      <td>0</td>\n",
       "      <td>0.00</td>\n",
       "      <td>True</td>\n",
       "    </tr>\n",
       "  </tbody>\n",
       "</table>\n",
       "</div>"
      ],
      "text/plain": [
       "                                 Número de Nulos  Porcentaje  ¿Es Obligatorio?\n",
       "album_name                                    62       11.50              True\n",
       "track_id                                       8        1.48              True\n",
       "track_name                                     7        1.30             False\n",
       "audio_features.loudness                        2        0.37             False\n",
       "audio_features.danceability                    2        0.37             False\n",
       "audio_features.energy                          2        0.37             False\n",
       "audio_features.acousticness                    1        0.19             False\n",
       "audio_features.time_signature                  1        0.19             False\n",
       "audio_features.liveness                        1        0.19             False\n",
       "audio_features.speechiness                     1        0.19             False\n",
       "audio_features.key                             1        0.19             False\n",
       "audio_features.tempo                           1        0.19             False\n",
       "artist_popularity                              0        0.00             False\n",
       "audio_features.id                              0        0.00              True\n",
       "artist_name                                    0        0.00             False\n",
       "artist_id                                      0        0.00              True\n",
       "album_id                                       0        0.00              True\n",
       "album_release_date                             0        0.00              True\n",
       "disc_number                                    0        0.00             False\n",
       "audio_features.valence                         0        0.00             False\n",
       "audio_features.instrumentalness                0        0.00             False\n",
       "duration_ms                                    0        0.00             False\n",
       "audio_features.mode                            0        0.00             False\n",
       "track_popularity                               0        0.00             False\n",
       "track_number                                   0        0.00             False\n",
       "explicit                                       0        0.00             False\n",
       "album_total_tracks                             0        0.00              True"
      ]
     },
     "execution_count": 395,
     "metadata": {},
     "output_type": "execute_result"
    }
   ],
   "source": [
    "# Presencia de valores nulos\n",
    "def calcular_nulos(df):\n",
    "    campos_obligatorios = ['track_id', 'audio_features.id', 'artist_id', 'album_id','album_name', 'album_release_date', 'album_total_tracks']\n",
    "    nulos = df.isnull().sum()\n",
    "    porcentaje = (df.isnull().sum() / len(df)) * 100\n",
    "    obligatorio = [campo in campos_obligatorios for campo in nulos.index]\n",
    "    resultado = pd.DataFrame({'Número de Nulos': nulos, 'Porcentaje': porcentaje, '¿Es Obligatorio?': obligatorio})\n",
    "    return resultado.sort_values('Número de Nulos', ascending=False).round(2)\n",
    "\n",
    "calcular_nulos(data)"
   ]
  },
  {
   "cell_type": "code",
   "execution_count": 396,
   "metadata": {},
   "outputs": [
    {
     "data": {
      "text/html": [
       "<div>\n",
       "<style scoped>\n",
       "    .dataframe tbody tr th:only-of-type {\n",
       "        vertical-align: middle;\n",
       "    }\n",
       "\n",
       "    .dataframe tbody tr th {\n",
       "        vertical-align: top;\n",
       "    }\n",
       "\n",
       "    .dataframe thead th {\n",
       "        text-align: right;\n",
       "    }\n",
       "</style>\n",
       "<table border=\"1\" class=\"dataframe\">\n",
       "  <thead>\n",
       "    <tr style=\"text-align: right;\">\n",
       "      <th></th>\n",
       "      <th>Tipos de datos</th>\n",
       "      <th>Valores unicos</th>\n",
       "    </tr>\n",
       "  </thead>\n",
       "  <tbody>\n",
       "    <tr>\n",
       "      <th>disc_number</th>\n",
       "      <td>int64</td>\n",
       "      <td>2</td>\n",
       "    </tr>\n",
       "    <tr>\n",
       "      <th>duration_ms</th>\n",
       "      <td>int64</td>\n",
       "      <td>364</td>\n",
       "    </tr>\n",
       "    <tr>\n",
       "      <th>explicit</th>\n",
       "      <td>object</td>\n",
       "      <td>4</td>\n",
       "    </tr>\n",
       "    <tr>\n",
       "      <th>track_number</th>\n",
       "      <td>int64</td>\n",
       "      <td>46</td>\n",
       "    </tr>\n",
       "    <tr>\n",
       "      <th>track_popularity</th>\n",
       "      <td>int64</td>\n",
       "      <td>73</td>\n",
       "    </tr>\n",
       "    <tr>\n",
       "      <th>track_id</th>\n",
       "      <td>object</td>\n",
       "      <td>512</td>\n",
       "    </tr>\n",
       "    <tr>\n",
       "      <th>track_name</th>\n",
       "      <td>object</td>\n",
       "      <td>331</td>\n",
       "    </tr>\n",
       "    <tr>\n",
       "      <th>audio_features.danceability</th>\n",
       "      <td>float64</td>\n",
       "      <td>267</td>\n",
       "    </tr>\n",
       "    <tr>\n",
       "      <th>audio_features.energy</th>\n",
       "      <td>float64</td>\n",
       "      <td>348</td>\n",
       "    </tr>\n",
       "    <tr>\n",
       "      <th>audio_features.key</th>\n",
       "      <td>float64</td>\n",
       "      <td>12</td>\n",
       "    </tr>\n",
       "    <tr>\n",
       "      <th>audio_features.loudness</th>\n",
       "      <td>float64</td>\n",
       "      <td>448</td>\n",
       "    </tr>\n",
       "    <tr>\n",
       "      <th>audio_features.mode</th>\n",
       "      <td>int64</td>\n",
       "      <td>2</td>\n",
       "    </tr>\n",
       "    <tr>\n",
       "      <th>audio_features.speechiness</th>\n",
       "      <td>float64</td>\n",
       "      <td>292</td>\n",
       "    </tr>\n",
       "    <tr>\n",
       "      <th>audio_features.acousticness</th>\n",
       "      <td>float64</td>\n",
       "      <td>401</td>\n",
       "    </tr>\n",
       "    <tr>\n",
       "      <th>audio_features.instrumentalness</th>\n",
       "      <td>object</td>\n",
       "      <td>240</td>\n",
       "    </tr>\n",
       "    <tr>\n",
       "      <th>audio_features.liveness</th>\n",
       "      <td>float64</td>\n",
       "      <td>271</td>\n",
       "    </tr>\n",
       "    <tr>\n",
       "      <th>audio_features.valence</th>\n",
       "      <td>float64</td>\n",
       "      <td>326</td>\n",
       "    </tr>\n",
       "    <tr>\n",
       "      <th>audio_features.tempo</th>\n",
       "      <td>float64</td>\n",
       "      <td>450</td>\n",
       "    </tr>\n",
       "    <tr>\n",
       "      <th>audio_features.id</th>\n",
       "      <td>object</td>\n",
       "      <td>519</td>\n",
       "    </tr>\n",
       "    <tr>\n",
       "      <th>audio_features.time_signature</th>\n",
       "      <td>float64</td>\n",
       "      <td>3</td>\n",
       "    </tr>\n",
       "    <tr>\n",
       "      <th>artist_id</th>\n",
       "      <td>object</td>\n",
       "      <td>1</td>\n",
       "    </tr>\n",
       "    <tr>\n",
       "      <th>artist_name</th>\n",
       "      <td>object</td>\n",
       "      <td>1</td>\n",
       "    </tr>\n",
       "    <tr>\n",
       "      <th>artist_popularity</th>\n",
       "      <td>int64</td>\n",
       "      <td>1</td>\n",
       "    </tr>\n",
       "    <tr>\n",
       "      <th>album_id</th>\n",
       "      <td>object</td>\n",
       "      <td>26</td>\n",
       "    </tr>\n",
       "    <tr>\n",
       "      <th>album_name</th>\n",
       "      <td>object</td>\n",
       "      <td>24</td>\n",
       "    </tr>\n",
       "    <tr>\n",
       "      <th>album_release_date</th>\n",
       "      <td>object</td>\n",
       "      <td>23</td>\n",
       "    </tr>\n",
       "    <tr>\n",
       "      <th>album_total_tracks</th>\n",
       "      <td>object</td>\n",
       "      <td>17</td>\n",
       "    </tr>\n",
       "  </tbody>\n",
       "</table>\n",
       "</div>"
      ],
      "text/plain": [
       "                                Tipos de datos  Valores unicos\n",
       "disc_number                              int64               2\n",
       "duration_ms                              int64             364\n",
       "explicit                                object               4\n",
       "track_number                             int64              46\n",
       "track_popularity                         int64              73\n",
       "track_id                                object             512\n",
       "track_name                              object             331\n",
       "audio_features.danceability            float64             267\n",
       "audio_features.energy                  float64             348\n",
       "audio_features.key                     float64              12\n",
       "audio_features.loudness                float64             448\n",
       "audio_features.mode                      int64               2\n",
       "audio_features.speechiness             float64             292\n",
       "audio_features.acousticness            float64             401\n",
       "audio_features.instrumentalness         object             240\n",
       "audio_features.liveness                float64             271\n",
       "audio_features.valence                 float64             326\n",
       "audio_features.tempo                   float64             450\n",
       "audio_features.id                       object             519\n",
       "audio_features.time_signature          float64               3\n",
       "artist_id                               object               1\n",
       "artist_name                             object               1\n",
       "artist_popularity                        int64               1\n",
       "album_id                                object              26\n",
       "album_name                              object              24\n",
       "album_release_date                      object              23\n",
       "album_total_tracks                      object              17"
      ]
     },
     "execution_count": 396,
     "metadata": {},
     "output_type": "execute_result"
    }
   ],
   "source": [
    "# Verificar tipos de datos y número de valores únicos\n",
    "pd.merge(data.dtypes.to_frame('Tipos de datos'), data.nunique().to_frame('Valores unicos'),left_index=True, right_index=True)"
   ]
  },
  {
   "cell_type": "code",
   "execution_count": 397,
   "metadata": {},
   "outputs": [
    {
     "name": "stdout",
     "output_type": "stream",
     "text": [
      "Número de registros duplicados: 18\n"
     ]
    }
   ],
   "source": [
    "# Revisar duplicados\n",
    "print('Número de registros duplicados:',data.duplicated().sum())"
   ]
  },
  {
   "cell_type": "markdown",
   "metadata": {},
   "source": [
    "El análisis inicial de los datos revela varias cuestiones de calidad de datos:\n",
    "\n",
    "* Valores Faltantes: Varios campos tienen valores nulos. Por ejemplo, track_id y track_name tienen 8 y 7 valores nulos respectivamente. Hay que evaluar si desde negocio esta permitido la presencia de nulos, por ejemplo, se esperaria que track_id no tenga nulos al ser un PK\n",
    "\n",
    "* Tipo de Datos: Algunos campos pueden tener tipos de datos inapropiados. Por ejemplo, album_total_tracks está como objeto, lo que sugiere que puede contener datos no numéricos\n",
    "\n",
    "* Duplicados: Hay 18 registros duplicados en el conjunto de datos."
   ]
  },
  {
   "cell_type": "markdown",
   "metadata": {},
   "source": [
    "## **Análisis de Dimensiones de Calidad**"
   ]
  },
  {
   "cell_type": "markdown",
   "metadata": {},
   "source": [
    "Para realizar un análisis de calidad de los datos, se usarán las dimensiones de calidad de datos para identificar posibles anomalías . Estas dimensiones incluyen de forma no exhaustiva:\n",
    "\n",
    "* Exactitud: Verificar si los datos son correctos y precisos\n",
    "* Completitud: Chequear si hay valores faltantes o nulos en los datos\n",
    "* Consistencia: Asegurar que los datos en diferentes campos son consistentes entre sí\n",
    "* Validez: Comprobar que los datos siguen reglas y restricciones específicas (por ejemplo, formatos de fecha)\n",
    "* Unicidad: Identificar duplicados y asegurarse de que cada registro es único\n",
    "* Actualidad: Evaluar si los datos son suficientemente actuales para el análisis"
   ]
  },
  {
   "cell_type": "markdown",
   "metadata": {},
   "source": [
    "### **1. Exactitud**\n",
    "La exactitud de un dato se refiere a qué tan cercano está ese dato a su valor verdadero o de referencia, esto depende en gran medida del contexto y de tener una referencia conocida, se mide segun el grado en que los datos reflejan las características del objeto u objetos del mundo real que representa.En la siguiente imagen de muestra cómo la propiedad de exacto que es quella que corresponde con el valor esperado"
   ]
  },
  {
   "cell_type": "code",
   "execution_count": 398,
   "metadata": {},
   "outputs": [
    {
     "data": {
      "image/jpeg": "[encoded data removed]",
      "image/png": "[encoded data removed]",
      "text/plain": [
       "<PIL.JpegImagePlugin.JpegImageFile image mode=RGB size=1002x303>"
      ]
     },
     "metadata": {},
     "output_type": "display_data"
    }
   ],
   "source": [
    "exactitud = Image.open(\"Imagenes/exactitud.jpeg\")\n",
    "display(exactitud)"
   ]
  },
  {
   "cell_type": "markdown",
   "metadata": {},
   "source": [
    "Debido a que no tenemos mucho contexto de cómo deberia se cada tipo de datos, vamos a utilizar la información de los campos que otorga la web de la API de Spotify para verificar tipo de dato y rango de valores permitidos"
   ]
  },
  {
   "cell_type": "code",
   "execution_count": 399,
   "metadata": {},
   "outputs": [
    {
     "name": "stdout",
     "output_type": "stream",
     "text": [
      "Los campos con tipo de datos distintos son:\n"
     ]
    },
    {
     "data": {
      "text/plain": [
       "{'explicit': dtype('O'),\n",
       " 'audio_features.key': dtype('float64'),\n",
       " 'audio_features.instrumentalness': dtype('O'),\n",
       " 'audio_features.time_signature': dtype('float64'),\n",
       " 'album_total_tracks': dtype('O')}"
      ]
     },
     "execution_count": 399,
     "metadata": {},
     "output_type": "execute_result"
    }
   ],
   "source": [
    "# Asignación de tipos de datos esperados según la API de Spotify\n",
    "tipo_esperado = {\n",
    "    'disc_number': 'int64',\n",
    "    'duration_ms': 'int64',\n",
    "    'explicit': 'bool',\n",
    "    'track_number': 'int64',\n",
    "    'track_popularity': 'int64',\n",
    "    'track_id': 'object',\n",
    "    'track_name': 'object',\n",
    "    'audio_features.danceability': 'float64',\n",
    "    'audio_features.energy': 'float64',\n",
    "    'audio_features.key': 'int64',\n",
    "    'audio_features.loudness': 'float64',\n",
    "    'audio_features.mode': 'int64',\n",
    "    'audio_features.speechiness': 'float64',\n",
    "    'audio_features.acousticness': 'float64',\n",
    "    'audio_features.instrumentalness': 'float64',\n",
    "    'audio_features.liveness': 'float64',\n",
    "    'audio_features.valence': 'float64',\n",
    "    'audio_features.tempo': 'float64',\n",
    "    'audio_features.id': 'object', \n",
    "    'audio_features.time_signature': 'int64',\n",
    "    'artist_id': 'object',\n",
    "    'artist_name': 'object',\n",
    "    'artist_popularity': 'int64',\n",
    "    'album_id': 'object',\n",
    "    'album_name': 'object',\n",
    "    'album_release_date': 'object',\n",
    "    'album_total_tracks': 'int64'\n",
    "}\n",
    "\n",
    "# Identificando de tipos de datos diferentes a los esperados\n",
    "mismatches = {column: data[column].dtype for column in data.columns if str(data[column].dtype) != tipo_esperado[column]}\n",
    "print('Los campos con tipo de datos distintos son:')\n",
    "mismatches"
   ]
  },
  {
   "cell_type": "code",
   "execution_count": 400,
   "metadata": {},
   "outputs": [
    {
     "name": "stdout",
     "output_type": "stream",
     "text": [
      "Número de registros fuera de rango en track_popularity: 539\n",
      "Número de registros fuera de rango en audio_features: 0\n",
      "Número de registros fuera de rango en time_signature: 0\n"
     ]
    }
   ],
   "source": [
    "# Verificación de rangos y valores esperados\n",
    "# Popularidad de la pista y el artista debe estar entre 0 y 100\n",
    "rangos_track_popularity = data[(data['track_popularity'] < 0) | (data['track_popularity'] > 100) | (data['artist_popularity'] < 0) | (data['artist_popularity'] > 100)]\n",
    "\n",
    "# La clave musical debe estar entre -1 y 11\n",
    "rangos_audio_features = data[(data['audio_features.key'] < -1) | (data['audio_features.key'] > 11)]\n",
    "\n",
    "# Firma de tiempo debe estar entre 3 y 7\n",
    "rango_time_signature = data[(data['audio_features.time_signature'] < 3) | (data['audio_features.time_signature'] > 7)]\n",
    "\n",
    "print(f\"Número de registros fuera de rango en track_popularity: {len(rangos_track_popularity)}\")\n",
    "print(f\"Número de registros fuera de rango en audio_features: {len(rangos_audio_features)}\")\n",
    "print(f\"Número de registros fuera de rango en time_signature: {len(rango_time_signature)}\")"
   ]
  },
  {
   "cell_type": "markdown",
   "metadata": {},
   "source": [
    "**Hallazgos**:\n",
    "\n",
    "Desajustes de Tipos de Datos:\n",
    "* explicit: Debería ser booleano, pero se encuentra como objeto\n",
    "* audio_features.key: Debería ser entero, pero se encuentra como flotante\n",
    "* audio_features.instrumentalness: Debería ser flotante, pero se encuentra como objeto\n",
    "* audio_features.time_signature: Debería ser entero, pero se encuentra como flotante\n",
    "* album_total_tracks: Debería ser entero, pero se encuentra como objeto\n",
    "\n",
    "Problemas con Rangos y Valores Esperados:\n",
    "* popularity_range_issues: Se encontraron 539 registros donde la popularidad de la pista o del artista no está en el rango de 0 a 100\n",
    "* key_range_issues: No se encontraron problemas con el rango de la clave musical\n",
    "* time_signature_issues: No se encontraron problemas con la firma de tiempo"
   ]
  },
  {
   "cell_type": "markdown",
   "metadata": {},
   "source": [
    "**Comentario**:\n",
    "\n",
    "La exactitud evalua el grado en que los datos describen correctamente el objeto o evento del \"mundo real\" que representa. Esta \"verdad del mundo real\" se establece a través de la investigación. Sin embargo, como esto a menudo no es práctico, es común utilizar datos de referencia de terceros provenientes de fuentes que se consideran confiables y de la misma cronología (Askham et al., 2013). En nuestro caso no contamos con ninguno por lo que el análisis de exáctitud queda corto."
   ]
  },
  {
   "cell_type": "markdown",
   "metadata": {},
   "source": [
    "### **2. Completitud**:\n",
    "\n",
    "La completitud en las dimensiones de calidad de datos se refiere a la ausencia de valores omisos o la suficiencia de los datos dentro de un conjunto de datos específico. En otras palabras, es la ausencia de datos que son relevantes. Para este análisis sabemos desde la definición de los campos si estos permiten o no nulos"
   ]
  },
  {
   "cell_type": "code",
   "execution_count": 401,
   "metadata": {},
   "outputs": [
    {
     "data": {
      "text/html": [
       "<div>\n",
       "<style scoped>\n",
       "    .dataframe tbody tr th:only-of-type {\n",
       "        vertical-align: middle;\n",
       "    }\n",
       "\n",
       "    .dataframe tbody tr th {\n",
       "        vertical-align: top;\n",
       "    }\n",
       "\n",
       "    .dataframe thead th {\n",
       "        text-align: right;\n",
       "    }\n",
       "</style>\n",
       "<table border=\"1\" class=\"dataframe\">\n",
       "  <thead>\n",
       "    <tr style=\"text-align: right;\">\n",
       "      <th></th>\n",
       "      <th>Número de Nulos</th>\n",
       "      <th>Porcentaje</th>\n",
       "      <th>¿Es Obligatorio?</th>\n",
       "    </tr>\n",
       "  </thead>\n",
       "  <tbody>\n",
       "    <tr>\n",
       "      <th>album_name</th>\n",
       "      <td>62</td>\n",
       "      <td>11.50</td>\n",
       "      <td>True</td>\n",
       "    </tr>\n",
       "    <tr>\n",
       "      <th>track_id</th>\n",
       "      <td>8</td>\n",
       "      <td>1.48</td>\n",
       "      <td>True</td>\n",
       "    </tr>\n",
       "    <tr>\n",
       "      <th>track_name</th>\n",
       "      <td>7</td>\n",
       "      <td>1.30</td>\n",
       "      <td>False</td>\n",
       "    </tr>\n",
       "    <tr>\n",
       "      <th>audio_features.loudness</th>\n",
       "      <td>2</td>\n",
       "      <td>0.37</td>\n",
       "      <td>False</td>\n",
       "    </tr>\n",
       "    <tr>\n",
       "      <th>audio_features.danceability</th>\n",
       "      <td>2</td>\n",
       "      <td>0.37</td>\n",
       "      <td>False</td>\n",
       "    </tr>\n",
       "    <tr>\n",
       "      <th>audio_features.energy</th>\n",
       "      <td>2</td>\n",
       "      <td>0.37</td>\n",
       "      <td>False</td>\n",
       "    </tr>\n",
       "    <tr>\n",
       "      <th>audio_features.acousticness</th>\n",
       "      <td>1</td>\n",
       "      <td>0.19</td>\n",
       "      <td>False</td>\n",
       "    </tr>\n",
       "    <tr>\n",
       "      <th>audio_features.time_signature</th>\n",
       "      <td>1</td>\n",
       "      <td>0.19</td>\n",
       "      <td>False</td>\n",
       "    </tr>\n",
       "    <tr>\n",
       "      <th>audio_features.liveness</th>\n",
       "      <td>1</td>\n",
       "      <td>0.19</td>\n",
       "      <td>False</td>\n",
       "    </tr>\n",
       "    <tr>\n",
       "      <th>audio_features.speechiness</th>\n",
       "      <td>1</td>\n",
       "      <td>0.19</td>\n",
       "      <td>False</td>\n",
       "    </tr>\n",
       "    <tr>\n",
       "      <th>audio_features.key</th>\n",
       "      <td>1</td>\n",
       "      <td>0.19</td>\n",
       "      <td>False</td>\n",
       "    </tr>\n",
       "    <tr>\n",
       "      <th>audio_features.tempo</th>\n",
       "      <td>1</td>\n",
       "      <td>0.19</td>\n",
       "      <td>False</td>\n",
       "    </tr>\n",
       "    <tr>\n",
       "      <th>artist_popularity</th>\n",
       "      <td>0</td>\n",
       "      <td>0.00</td>\n",
       "      <td>False</td>\n",
       "    </tr>\n",
       "    <tr>\n",
       "      <th>audio_features.id</th>\n",
       "      <td>0</td>\n",
       "      <td>0.00</td>\n",
       "      <td>True</td>\n",
       "    </tr>\n",
       "    <tr>\n",
       "      <th>artist_name</th>\n",
       "      <td>0</td>\n",
       "      <td>0.00</td>\n",
       "      <td>False</td>\n",
       "    </tr>\n",
       "    <tr>\n",
       "      <th>artist_id</th>\n",
       "      <td>0</td>\n",
       "      <td>0.00</td>\n",
       "      <td>True</td>\n",
       "    </tr>\n",
       "    <tr>\n",
       "      <th>album_id</th>\n",
       "      <td>0</td>\n",
       "      <td>0.00</td>\n",
       "      <td>True</td>\n",
       "    </tr>\n",
       "    <tr>\n",
       "      <th>album_release_date</th>\n",
       "      <td>0</td>\n",
       "      <td>0.00</td>\n",
       "      <td>True</td>\n",
       "    </tr>\n",
       "    <tr>\n",
       "      <th>disc_number</th>\n",
       "      <td>0</td>\n",
       "      <td>0.00</td>\n",
       "      <td>False</td>\n",
       "    </tr>\n",
       "    <tr>\n",
       "      <th>audio_features.valence</th>\n",
       "      <td>0</td>\n",
       "      <td>0.00</td>\n",
       "      <td>False</td>\n",
       "    </tr>\n",
       "    <tr>\n",
       "      <th>audio_features.instrumentalness</th>\n",
       "      <td>0</td>\n",
       "      <td>0.00</td>\n",
       "      <td>False</td>\n",
       "    </tr>\n",
       "    <tr>\n",
       "      <th>duration_ms</th>\n",
       "      <td>0</td>\n",
       "      <td>0.00</td>\n",
       "      <td>False</td>\n",
       "    </tr>\n",
       "    <tr>\n",
       "      <th>audio_features.mode</th>\n",
       "      <td>0</td>\n",
       "      <td>0.00</td>\n",
       "      <td>False</td>\n",
       "    </tr>\n",
       "    <tr>\n",
       "      <th>track_popularity</th>\n",
       "      <td>0</td>\n",
       "      <td>0.00</td>\n",
       "      <td>False</td>\n",
       "    </tr>\n",
       "    <tr>\n",
       "      <th>track_number</th>\n",
       "      <td>0</td>\n",
       "      <td>0.00</td>\n",
       "      <td>False</td>\n",
       "    </tr>\n",
       "    <tr>\n",
       "      <th>explicit</th>\n",
       "      <td>0</td>\n",
       "      <td>0.00</td>\n",
       "      <td>False</td>\n",
       "    </tr>\n",
       "    <tr>\n",
       "      <th>album_total_tracks</th>\n",
       "      <td>0</td>\n",
       "      <td>0.00</td>\n",
       "      <td>True</td>\n",
       "    </tr>\n",
       "  </tbody>\n",
       "</table>\n",
       "</div>"
      ],
      "text/plain": [
       "                                 Número de Nulos  Porcentaje  ¿Es Obligatorio?\n",
       "album_name                                    62       11.50              True\n",
       "track_id                                       8        1.48              True\n",
       "track_name                                     7        1.30             False\n",
       "audio_features.loudness                        2        0.37             False\n",
       "audio_features.danceability                    2        0.37             False\n",
       "audio_features.energy                          2        0.37             False\n",
       "audio_features.acousticness                    1        0.19             False\n",
       "audio_features.time_signature                  1        0.19             False\n",
       "audio_features.liveness                        1        0.19             False\n",
       "audio_features.speechiness                     1        0.19             False\n",
       "audio_features.key                             1        0.19             False\n",
       "audio_features.tempo                           1        0.19             False\n",
       "artist_popularity                              0        0.00             False\n",
       "audio_features.id                              0        0.00              True\n",
       "artist_name                                    0        0.00             False\n",
       "artist_id                                      0        0.00              True\n",
       "album_id                                       0        0.00              True\n",
       "album_release_date                             0        0.00              True\n",
       "disc_number                                    0        0.00             False\n",
       "audio_features.valence                         0        0.00             False\n",
       "audio_features.instrumentalness                0        0.00             False\n",
       "duration_ms                                    0        0.00             False\n",
       "audio_features.mode                            0        0.00             False\n",
       "track_popularity                               0        0.00             False\n",
       "track_number                                   0        0.00             False\n",
       "explicit                                       0        0.00             False\n",
       "album_total_tracks                             0        0.00              True"
      ]
     },
     "execution_count": 401,
     "metadata": {},
     "output_type": "execute_result"
    }
   ],
   "source": [
    "# Cuantificación de valores nulos\n",
    "calcular_nulos(data)"
   ]
  },
  {
   "cell_type": "markdown",
   "metadata": {},
   "source": [
    "**Hallazgos**:\n",
    "\n",
    "La mayoría de los campos tienen un alto porcentaje de completitud, lo que es positivo.\n",
    "\n",
    "Las proporciones más altas de valores nulos se encuentran en album_name (11.50%) y track_id (1.48%). Otras columnas tienen valores nulos, pero en una proporción menor al 1%.\n",
    "\n",
    "Los valores nulos en las columnas pueden corresponder a problemas de completitud o pueden ser permisibles, para ello se debe considerar la función y la importancia de cada campo (<u>por eso la importancia de haber generado un contexto de ellos previsamente</u>). \n",
    "\n",
    "Los campos track_id, audio_features.id, artist_id, album_id, album_name, album_release_date, y album_total_tracks son obligatorios. Entre estos, track_id tiene un 1.48% de ausencia de datos y album_name tiene un notable 11.50% de ausencia de datos, siendo un problema de completitud.\n",
    "\n",
    "Los campos que en su definición son no obligatorio, y se encuentra nulos en ellos, ¿tiene problemas de completitud? La respuesta es depende, por ejemplo: en un campo no obligatorio como \"segundo nombre\", los valores nulos son completamente normales y no indican un problema de calidad. Sin embargo, si un campo no obligatorio es crucial para ciertos análisis, muchos valores nulos podrían plantear problemas prácticos."
   ]
  },
  {
   "cell_type": "markdown",
   "metadata": {},
   "source": [
    "**Comentarios:**\n",
    "\n",
    "Para abordar los problemas de completitud, se podría considerar investigar las razones detrás de los valores nulos, especialmente en las columnas con mayor proporción de datos faltantes. Una opción para manejarlos es determinar si pueden ser imputados o descartados."
   ]
  },
  {
   "cell_type": "markdown",
   "metadata": {},
   "source": [
    "### **3. Consistencia**:\n",
    "\n",
    "La consistencia de un dato se refiere a la ausencia de discrepancias y contradicciones en los datos a través de diferentes fuentes, sistemas o formatos. Comenzaremos con la búsqueda de inconsistencias en formato y duplicados, y luego revisaremos la lógica"
   ]
  },
  {
   "cell_type": "markdown",
   "metadata": {},
   "source": [
    "#### **Tipos de datos**"
   ]
  },
  {
   "cell_type": "markdown",
   "metadata": {},
   "source": [
    "Ya vimos cuáles columnas no cumplen el tipo de dato de su definición en el análisi de Exactitud. Ahora vamos a análizar los campos con tipo de datos object. \n",
    "\n",
    "El tipo object en Pandas es un poco engañoso porque no se refiere exclusivamente al tipo string, sino que puede ser una mezcla de diferentes tipos, incluidos números y NaN. Al importar datos desde un CSV, Pandas intenta inferir el tipo de dato de cada columna. Si una columna contiene datos mixtos y Pandas no puede determinar con seguridad un tipo numérico, la importará como object. Es por esto que vamos a analizar los tipos de datos de las columnas tipo object para verificar si son iguales o hay mezclas:"
   ]
  },
  {
   "cell_type": "code",
   "execution_count": 402,
   "metadata": {},
   "outputs": [
    {
     "data": {
      "text/html": [
       "<div>\n",
       "<style scoped>\n",
       "    .dataframe tbody tr th:only-of-type {\n",
       "        vertical-align: middle;\n",
       "    }\n",
       "\n",
       "    .dataframe tbody tr th {\n",
       "        vertical-align: top;\n",
       "    }\n",
       "\n",
       "    .dataframe thead th {\n",
       "        text-align: right;\n",
       "    }\n",
       "</style>\n",
       "<table border=\"1\" class=\"dataframe\">\n",
       "  <thead>\n",
       "    <tr style=\"text-align: right;\">\n",
       "      <th></th>\n",
       "      <th>explicit</th>\n",
       "      <th>track_id</th>\n",
       "      <th>track_name</th>\n",
       "      <th>audio_features.instrumentalness</th>\n",
       "      <th>audio_features.id</th>\n",
       "      <th>artist_id</th>\n",
       "      <th>artist_name</th>\n",
       "      <th>album_id</th>\n",
       "      <th>album_name</th>\n",
       "      <th>album_release_date</th>\n",
       "      <th>album_total_tracks</th>\n",
       "    </tr>\n",
       "  </thead>\n",
       "  <tbody>\n",
       "    <tr>\n",
       "      <th>0</th>\n",
       "      <td>False</td>\n",
       "      <td>4WUepByoeqcedHoYhSNHRt</td>\n",
       "      <td>Welcome To New York (Taylor's Version)</td>\n",
       "      <td>3.66e-05</td>\n",
       "      <td>4WUepByoeqcedHoYhSNHRt</td>\n",
       "      <td>06HL4z0CvFAxyc27GX</td>\n",
       "      <td>Taylor Swift</td>\n",
       "      <td>1o59UpKw81iHR0HPiSkJR0</td>\n",
       "      <td>1989 (Taylor's Version) [Deluxe]</td>\n",
       "      <td>2023-10-27</td>\n",
       "      <td>22</td>\n",
       "    </tr>\n",
       "    <tr>\n",
       "      <th>1</th>\n",
       "      <td>False</td>\n",
       "      <td>0108kcWLnn2HlH2kedi1gn</td>\n",
       "      <td>Blank Space (Taylor's Version)</td>\n",
       "      <td>0</td>\n",
       "      <td>0108kcWLnn2HlH2kedi1gn</td>\n",
       "      <td>06HL4z0CvFAxyc27GX</td>\n",
       "      <td>Taylor Swift</td>\n",
       "      <td>1o59UpKw81iHR0HPiSkJR0</td>\n",
       "      <td>1989 (Taylor's Version) [Deluxe]</td>\n",
       "      <td>2023-10-27</td>\n",
       "      <td>22</td>\n",
       "    </tr>\n",
       "    <tr>\n",
       "      <th>2</th>\n",
       "      <td>False</td>\n",
       "      <td>3Vpk1hfMAQme8VJ0SNRSkd</td>\n",
       "      <td>Style (Taylor's Version)</td>\n",
       "      <td>0.0197</td>\n",
       "      <td>3Vpk1hfMAQme8VJ0SNRSkd</td>\n",
       "      <td>06HL4z0CvFAxyc27GX</td>\n",
       "      <td>Taylor Swift</td>\n",
       "      <td>1o59UpKw81iHR0HPiSkJR0</td>\n",
       "      <td>1989 (Taylor's Version) [Deluxe]</td>\n",
       "      <td>2023-10-27</td>\n",
       "      <td>22</td>\n",
       "    </tr>\n",
       "  </tbody>\n",
       "</table>\n",
       "</div>"
      ],
      "text/plain": [
       "  explicit                track_id                              track_name  \\\n",
       "0    False  4WUepByoeqcedHoYhSNHRt  Welcome To New York (Taylor's Version)   \n",
       "1    False  0108kcWLnn2HlH2kedi1gn          Blank Space (Taylor's Version)   \n",
       "2    False  3Vpk1hfMAQme8VJ0SNRSkd                Style (Taylor's Version)   \n",
       "\n",
       "  audio_features.instrumentalness       audio_features.id           artist_id  \\\n",
       "0                        3.66e-05  4WUepByoeqcedHoYhSNHRt  06HL4z0CvFAxyc27GX   \n",
       "1                               0  0108kcWLnn2HlH2kedi1gn  06HL4z0CvFAxyc27GX   \n",
       "2                          0.0197  3Vpk1hfMAQme8VJ0SNRSkd  06HL4z0CvFAxyc27GX   \n",
       "\n",
       "    artist_name                album_id                        album_name  \\\n",
       "0  Taylor Swift  1o59UpKw81iHR0HPiSkJR0  1989 (Taylor's Version) [Deluxe]   \n",
       "1  Taylor Swift  1o59UpKw81iHR0HPiSkJR0  1989 (Taylor's Version) [Deluxe]   \n",
       "2  Taylor Swift  1o59UpKw81iHR0HPiSkJR0  1989 (Taylor's Version) [Deluxe]   \n",
       "\n",
       "  album_release_date album_total_tracks  \n",
       "0         2023-10-27                 22  \n",
       "1         2023-10-27                 22  \n",
       "2         2023-10-27                 22  "
      ]
     },
     "execution_count": 402,
     "metadata": {},
     "output_type": "execute_result"
    }
   ],
   "source": [
    "# Muestra de las columnas tipo object\n",
    "data.select_dtypes(include='object').head(3)"
   ]
  },
  {
   "cell_type": "code",
   "execution_count": 403,
   "metadata": {},
   "outputs": [
    {
     "data": {
      "text/plain": [
       "{'explicit': {str},\n",
       " 'track_id': {float, str},\n",
       " 'track_name': {float, str},\n",
       " 'audio_features.instrumentalness': {str},\n",
       " 'audio_features.id': {str},\n",
       " 'artist_id': {str},\n",
       " 'artist_name': {str},\n",
       " 'album_id': {str},\n",
       " 'album_name': {float, str},\n",
       " 'album_release_date': {str},\n",
       " 'album_total_tracks': {str}}"
      ]
     },
     "execution_count": 403,
     "metadata": {},
     "output_type": "execute_result"
    }
   ],
   "source": [
    "# Tipos de datos únicos por columna object\n",
    "columnas_object = data.select_dtypes(include='object').columns\n",
    "dic_tipos_datos = {}\n",
    "\n",
    "for columna in columnas_object:\n",
    "    tipo_dato = set()\n",
    "    for i in data[columna]:\n",
    "        tipo_dato.add(type(i))\n",
    "    dic_tipos_datos[columna] = tipo_dato \n",
    "\n",
    "dic_tipos_datos"
   ]
  },
  {
   "cell_type": "markdown",
   "metadata": {},
   "source": [
    "Efectivamente vemos que hay tipos de datos mixtos en algunos campo donde a parte de string existen flotantes. Haciendo un análisis a esos valores flotantes se observa que corresponden a valores faltantes \"NaN\", que significa \"Not a Number\". En Pandas se utiliza el tipo de dato de punto flotante (float) para representarlos "
   ]
  },
  {
   "cell_type": "code",
   "execution_count": 404,
   "metadata": {},
   "outputs": [
    {
     "name": "stdout",
     "output_type": "stream",
     "text": [
      "Indice - Dato\n",
      "321 - nan\n",
      "363 - nan\n",
      "375 - nan\n",
      "379 - nan\n",
      "382 - nan\n",
      "434 - nan\n",
      "442 - nan\n",
      "445 - nan\n"
     ]
    }
   ],
   "source": [
    "# Tipos de dato tipo float:\n",
    "j = -1\n",
    "print('Indice','-','Dato')\n",
    "for i in data['track_id']:\n",
    "    j = j + 1\n",
    "    if type(i) == float:\n",
    "        print(j,'-', i)"
   ]
  },
  {
   "cell_type": "markdown",
   "metadata": {},
   "source": [
    "#### **Formato de datos**"
   ]
  },
  {
   "cell_type": "markdown",
   "metadata": {},
   "source": [
    "La mayoría de las columnas tienen tipos de datos esperados, a excepción de unas pocas mencionadas arriba y recordadas a continuación:\n",
    "\n",
    "* explicit: Debería ser booleano, pero se encuentra como objeto\n",
    "* audio_features.key: Debería ser entero, pero se encuentra como flotante\n",
    "* audio_features.instrumentalness: Debería ser flotante, pero se encuentra como objeto\n",
    "* audio_features.time_signature: Debería ser entero, pero se encuentra como flotante\n",
    "* album_total_tracks: Debería ser entero, pero se encuentra como objeto\n",
    "\n",
    "Esto sugiere que podrían contener tipos mixtos o representaciones no estándar para los datos esperados. Es por eso que se seleccionan para análisis de registros únicos\n",
    "\n",
    "Se tienen varios hallazgos: la columna 'explicit' tiene diferentes formas de representar los booleanos; 'audio_features.key' y 'audio_features.time_signature' están tipo float pudiendo estar en int64; 'album_total_tracks' representa el número 13 en forma de letras 'Thirteen' y 'audio_features.instrumentalness' tiene inconsistencias en la notación científica como 7.28x-06 y 9.88e-06. "
   ]
  },
  {
   "cell_type": "code",
   "execution_count": 405,
   "metadata": {},
   "outputs": [
    {
     "name": "stdout",
     "output_type": "stream",
     "text": [
      "Valores únicos de explicit:\n",
      "['False' 'True' 'Si' 'No'] \n",
      "\n",
      "Valores únicos de audio_features.key:\n",
      "[ 7.  0. 11.  8.  5.  1.  4.  3.  9.  2. 10.  6. nan] \n",
      "\n",
      "Valores únicos de audio_features.time_signature:\n",
      "[ 4.  3.  5. nan] \n",
      "\n",
      "Valores únicos de album_total_tracks:\n",
      "['22' '21' '24' '20' '13' '34' '26' '17' '10' '16' '18' '15' '46' '19'\n",
      " '14' '8' 'Thirteen'] \n",
      "\n",
      "Valores únicos de audio_features.instrumentalness:\n",
      "['3.66e-05' '0' '0.0197' '5.59e-05' '2.18e-05' '1.25e-05' '7.18e-05'\n",
      " '1.09e-05' '2.92e-05' '2.61e-05' '3.91e-06' '4.63e-06' '0.000199'\n",
      " '9.94e-06' '7.14e-05' '2.24e-05' '0.0214' '9.37e-05' '1.27e-05'\n",
      " '1.04e-05' '9.35e-05' '9.88e-06' '2.01e-05' '1.88e-05' '2.49e-06'\n",
      " '9.81e-06' '7.62e-05' '1.67e-05' '3.81e-05' '1.38e-06' '4.43e-06'\n",
      " '0.00113' '1.4e-06' '1.22e-06' '0.0013' '1.05e-05' '6.78e-05' '3.42e-05'\n",
      " '0.000128' '0.328' '0.00012' '0.000915' '2.78e-05' '0.00269' '3.07e-05'\n",
      " '0.00147' '0.00104' '4.73e-06' '3.5e-06' '0.0012' '1.23e-06' '0.00321'\n",
      " '8.47e-06' '6.51e-05' '1.74e-05' '0.000102' '0.348' '4.71e-05' '2.23e-05'\n",
      " '0.00648' '3.27e-05' '0.000575' '0.00145' '0.000573' '1.03e-06' '1.8e-06'\n",
      " '0.000993' '5.2e-06' '5.17e-05' '5.25e-05' '5.58e-05' '0.488' '7.72e-05'\n",
      " '0.00129' '1.62e-06' '0.000127' '0.00203' '1.02e-05' '1.86e-06' '0.00218'\n",
      " '9.19e-05' '1.57e-06' '2.83e-06' '3.72e-06' '3.97e-06' '1.2e-05'\n",
      " '0.00179' '0.166' '6.59e-05' '2.67e-05' '0.000904' '1.97e-05' '0.000155'\n",
      " '0.179' '0.000136' '4.83e-06' '0.00227' '0.000106' '1.39e-05' '7.14e-06'\n",
      " '0.000414' '0.00414' '2.46e-05' '1.9e-06' '2.59e-05' '6.93e-05' '2.3e-05'\n",
      " '6.63e-05' '6.77e-06' '0.000326' '1.5e-05' '7.9e-06' '1.3e-06' '0.026'\n",
      " '0.004' '6.74e-05' '1.01e-05' '3.45e-05' '0.000126' '4.77e-05' '0.000898'\n",
      " '4.85e-06' '0.000168' '0.000392' '7.61e-05' '0.000345' '0.0023'\n",
      " '5.62e-05' '2.33e-06' '2.7e-05' '7.28e-05' '4.74e-05' '7.73e-05'\n",
      " '1.68e-05' '0.000402' '1.73e-05' '3.86e-06' '2.03e-06' '2.06e-05'\n",
      " '1.58e-05' '0.00569' '0.000353' '0.00615' '1.36e-05' '0.000189'\n",
      " '0.000104' '0.000147' '0.000337' '0.000173' '2.11e-05' '1.76e-05'\n",
      " '0.000357' '1.41e-05' '1.1e-06' '9.48e-06' '2.23e-06' '2.21e-06'\n",
      " '1.1e-05' '0.000221' '0.000334' '0.00144' '4.06e-06' '0.000125' '0.00208'\n",
      " '0.00146' '2.67e-06' '1.96e-05' '0.00868' '3.22e-06' '4.3e-06' '1.64e-06'\n",
      " '0.00127' '1.19e-05' '2.01e-06' '3.52e-06' '0.000304' '1.85e-06'\n",
      " '2.57e-05' '0.000469' '0.000487' '0.00258' '2.02e-05' '4.95e-05'\n",
      " '6.16e-06' '0.000108' '0.000458' '1.76e-06' '0.00143' '1.23e-05'\n",
      " '9.9e-05' '6.45e-06' '0.0056' '0.00458' '0.00138' '8.87e-05' '2.25e-06'\n",
      " '0.0002' '4.13e-05' '2.65e-05' '1.29e-06' '3.15e-06' '0.0337' '3.89e-06'\n",
      " '0.000335' '1.47e-05' '6.14e-05' '0.000235' '0.000169' '1.28e-06'\n",
      " '8.73e-06' '0.000122' '2.34e-06' '1.21e-06' '1.65e-06' '0.00161'\n",
      " '0.000388' '3.75e-05' '7.47e-05' '4.05e-06' '1.94e-06' '4.55e-06'\n",
      " '0.000372' '3.78e-06' '2.47e-06' '1.04e-06' '2.66e-06' '3.41e-06'\n",
      " '2.3e-06' '1e-06' '0.00011' '3.87e-06' '1.98e-05' '1.99e-06' '2.39e-06'\n",
      " '3.04e-06' '1.11e-06' '0.00755' '0.000437' '7.28x-06' '0.000807'] \n",
      "\n"
     ]
    }
   ],
   "source": [
    "# Lista de columnas con tipo incorrecto\n",
    "columnas_tipodato_incorrecto = ['explicit','audio_features.key','audio_features.time_signature','album_total_tracks','audio_features.instrumentalness']\n",
    "\n",
    "# Verificando registros únicos\n",
    "for i in columnas_tipodato_incorrecto:\n",
    "    print(f'Valores únicos de {i}:')\n",
    "    print(data[i].unique(), '\\n')"
   ]
  },
  {
   "cell_type": "markdown",
   "metadata": {},
   "source": [
    "Algunos datos tienen muestra de cómo deberian ser en su definición (obtenida de la documentacion de Spotify):"
   ]
  },
  {
   "cell_type": "code",
   "execution_count": 406,
   "metadata": {},
   "outputs": [],
   "source": [
    "formato_fuente = {\n",
    "    \"track_id\": \"11dFghVXANMlKmJXsNCbNl\",\n",
    "    \"audio_features.danceability\": 0.585,\n",
    "    \"audio_features.energy\": 0.842,\n",
    "    \"audio_features.key\": 9,\n",
    "    \"audio_features.loudness\": -5.883,\n",
    "    \"audio_features.speechiness\": 0.0556,\n",
    "    \"audio_features.acousticness\": 0.00242,\n",
    "    \"audio_features.instrumentalness\": 0.00686,\n",
    "    \"audio_features.liveness\": 0.0866,\n",
    "    \"audio_features.valence\": 0.428,\n",
    "    \"audio_features.tempo\": 118.211,\n",
    "    \"audio_features.id\": \"11dFghVXANMlKmJXsNCbNl\",\n",
    "    \"artist_id\": \"0TnOYISbd1XYRBk9myaseg\",\n",
    "    \"album_id\": \"4aawyAB9vmqN3uQ7FjRGTy\",\n",
    "    \"album_release_date\": \"1981-12\",\n",
    "    \"album_total_tracks\": 9\n",
    "}"
   ]
  },
  {
   "cell_type": "markdown",
   "metadata": {},
   "source": [
    "Para las cadenas de tipo ID se va a comprobar si se ajustan a un patrón general de longitud y composición (caracteres alfanuméricos), suponiendo que los IDs son cadenas alfanuméricas de longitud y composición similar\n",
    "\n",
    "Vemos que la columna 'artist_id' no cumple el patrón definido en su definición debido a una diferencia en longitud"
   ]
  },
  {
   "cell_type": "code",
   "execution_count": 407,
   "metadata": {},
   "outputs": [],
   "source": [
    "# Eliminando los nulos para no tener problemas de tipo de dato\n",
    "data_ids = data[formato_ids.keys()].dropna()\n",
    "\n",
    "# Lista de campos IDs\n",
    "formato_ids = {\n",
    "    \"track_id\": \"11dFghVXANMlKmJXsNCbNl\",\n",
    "    \"audio_features.id\": \"11dFghVXANMlKmJXsNCbNl\",\n",
    "    \"artist_id\": \"0TnOYISbd1XYRBk9myaseg\",\n",
    "    \"album_id\": \"4aawyAB9vmqN3uQ7FjRGTy\"\n",
    "}"
   ]
  },
  {
   "cell_type": "code",
   "execution_count": 408,
   "metadata": {},
   "outputs": [],
   "source": [
    "# Función para verificar si un registro es similar al ejemplo\n",
    "def similar_a_formato(registro, formato):\n",
    "    if isinstance(formato, str):  # Tipo string\n",
    "        if len(registro) == len(formato) and re.match(\"^[a-zA-Z0-9]*$\", registro): #misma longitud y composición\n",
    "            return True\n",
    "        else:\n",
    "            return False\n",
    "    else:\n",
    "        return False"
   ]
  },
  {
   "cell_type": "code",
   "execution_count": 409,
   "metadata": {},
   "outputs": [
    {
     "name": "stdout",
     "output_type": "stream",
     "text": [
      "Columna track_id verificada ✓\n",
      "Columna audio_features.id verificada ✓\n",
      "Columna artist_id verificada ✓\n",
      "Columna album_id verificada ✓\n",
      "\n",
      "Columnas que no cumplieron el chequeo y ejemplo del registro: \n",
      " {'artist_id': (False, '06HL4z0CvFAxyc27GX')}\n"
     ]
    }
   ],
   "source": [
    "# Verificar si todos los registros de cada columna se parecen a los ejemplos\n",
    "resultados_similaridad = {}\n",
    "for columna, ejemplo in formato_ids.items():\n",
    "    print(f'Columna {columna} verificada ✓')\n",
    "    for registro in data_ids[columna]:\n",
    "        if similar_a_formato(registro, ejemplo):\n",
    "            continue\n",
    "        else:\n",
    "            resultados_similaridad[columna] = (similar_a_formato(registro, ejemplo), registro)\n",
    "            break\n",
    "\n",
    "print('\\nColumnas que no cumplieron el chequeo y ejemplo del registro:','\\n', resultados_similaridad)"
   ]
  },
  {
   "cell_type": "markdown",
   "metadata": {},
   "source": [
    "Para el campo tipo fecha, la documentación de Spotify dice que los datos de \"album_release_date\" son tipo \"1981-12\", pero verificando su consistencia se encuntra diferencia"
   ]
  },
  {
   "cell_type": "code",
   "execution_count": 410,
   "metadata": {},
   "outputs": [
    {
     "data": {
      "text/plain": [
       "159    2021-04-09\n",
       "272    2020-07-24\n",
       "97     2022-10-22\n",
       "485    2008-11-11\n",
       "144    2021-11-12\n",
       "Name: album_release_date, dtype: object"
      ]
     },
     "execution_count": 410,
     "metadata": {},
     "output_type": "execute_result"
    }
   ],
   "source": [
    "# Formato de columna de fechas\n",
    "data['album_release_date'].sample(5)"
   ]
  },
  {
   "cell_type": "markdown",
   "metadata": {},
   "source": [
    "#### **Datos duplicados**"
   ]
  },
  {
   "cell_type": "markdown",
   "metadata": {},
   "source": [
    "Hay 18 registros duplicados en el conjunto de datos. Estos duplicados pueden afectar la integridad del análisis y deben investigarse más a fondo."
   ]
  },
  {
   "cell_type": "code",
   "execution_count": 411,
   "metadata": {},
   "outputs": [
    {
     "name": "stdout",
     "output_type": "stream",
     "text": [
      "Número de registros duplicados: 18\n"
     ]
    }
   ],
   "source": [
    "print('Número de registros duplicados:', data.duplicated().sum())"
   ]
  },
  {
   "cell_type": "markdown",
   "metadata": {},
   "source": [
    "Suponiendo que las columnas ID son las llaves primarias de cada categoria de datos de la API consultada, vamos a verificar la consistencia de sus registros"
   ]
  },
  {
   "cell_type": "code",
   "execution_count": 412,
   "metadata": {},
   "outputs": [
    {
     "name": "stdout",
     "output_type": "stream",
     "text": [
      "Columna - Número de registros duplicados\n",
      "track_id - 26\n",
      "audio_features.id - 20\n",
      "artist_id - 538\n",
      "album_id - 513\n"
     ]
    }
   ],
   "source": [
    "# Número de registros duplicados en la columnas ID\n",
    "print('Columna - Número de registros duplicados')\n",
    "for columna_id in formato_ids.keys():\n",
    "    num_duplicados = data[columna_id].duplicated().sum()\n",
    "    print(columna_id,'-',num_duplicados)"
   ]
  },
  {
   "cell_type": "markdown",
   "metadata": {},
   "source": [
    "#### **Consistencia lógica**"
   ]
  },
  {
   "cell_type": "markdown",
   "metadata": {},
   "source": [
    "Comprobar que los datos tengan sentido lógicamente requiere conocimiento del negocio y contexto de los datos, por eso este análisis es limitado. Aún así podemos suponer que se espera que album_total_tracks debe ser coherente para todas las pistas del mismo álbum, procedemos a verificarlo\n",
    "\n",
    "La columna album_total_tracks parece ser coherente dentro de cada álbum, como lo indica la unicidad de este valor para cada album_id. Esto sugiere una buena coherencia lógica en este aspecto"
   ]
  },
  {
   "cell_type": "code",
   "execution_count": 413,
   "metadata": {},
   "outputs": [
    {
     "data": {
      "text/plain": [
       "album_id\n",
       "08CWGiv27MVQhYpuTtvx83    1\n",
       "0PZ7lAru5FDFHuirTkWe9Z    1\n",
       "151w1FgRZfnKZA9FEcg9Z3    1\n",
       "1KVKqWeRuXsJDLTW0VuD29    1\n",
       "1MPAXuTVL2Ej5x0JHiSPq8    1\n",
       "1NAmidJlEaVgA3MpcPFYGq    1\n",
       "1fnJ7k0bllNfL1kVdNVW1A    1\n",
       "1o59UpKw81iHR0HPiSkJR0    1\n",
       "1pzvBxYgT6OVwJLtHkrdQK    1\n",
       "1yGbNOtRIgdIiGHOEBaZWf    1\n",
       "1ycoesYxIFymXWebfmz828    1\n",
       "2Xoteh7uEpea4TohMxjtaq    1\n",
       "2fenSS68JI1h4Fo296JfGr    1\n",
       "2gP2LMVcIFgVczSJqn340t    1\n",
       "3lS1y25WAhcqJDATJK70Mq    1\n",
       "4hDok0OAJd57SGIT8xuWJH    1\n",
       "5AEDGbliTTfjOB8TSm1sxt    1\n",
       "5eyZZoQEFQWRHkV2xgAeBw    1\n",
       "5fy0X0JmZRZnVa2UEicIOl    1\n",
       "64LU4c1nfjz1t4VnGhagcg    1\n",
       "6AORtDjduMM3bupSWzbTSG    1\n",
       "6Ar2o9KCqcyYF9J0aQP3au    1\n",
       "6DEjYFkNZh67HP7R9PSZvv    1\n",
       "6S6JQWzUrJVcJLK4fi74Fw    1\n",
       "6fyR4wBPwLHKcRtxgd4sGh    1\n",
       "6kZ42qRrzov54LcAk4onW9    1\n",
       "Name: album_total_tracks, dtype: int64"
      ]
     },
     "execution_count": 413,
     "metadata": {},
     "output_type": "execute_result"
    }
   ],
   "source": [
    "# Unicidad de album_total_tracks para cada album_id\n",
    "data.groupby('album_id')['album_total_tracks'].nunique()"
   ]
  },
  {
   "cell_type": "markdown",
   "metadata": {},
   "source": [
    "Un error de consistencia está en 'track_popularity', donde la definición dice que debe estar entre 0 y 100 pero sus valores exceden los rangos (este error fue previamente descubierto)"
   ]
  },
  {
   "cell_type": "code",
   "execution_count": 414,
   "metadata": {},
   "outputs": [
    {
     "data": {
      "text/plain": [
       "count    539.000000\n",
       "mean      62.918367\n",
       "std       22.498757\n",
       "min      -92.000000\n",
       "25%       51.000000\n",
       "50%       69.000000\n",
       "75%       77.000000\n",
       "max      152.000000\n",
       "Name: track_popularity, dtype: float64"
      ]
     },
     "execution_count": 414,
     "metadata": {},
     "output_type": "execute_result"
    }
   ],
   "source": [
    "# Estadisticas de track_popularity\n",
    "data['track_popularity'].describe()"
   ]
  },
  {
   "cell_type": "markdown",
   "metadata": {},
   "source": [
    "En el conjunto de datos, cada pista se identifica mediante un track_id y parece que hay un audio_features asociadas para cada pista de forma única representadas por audio_features.id. Se espera por tanto que track_id coincida con audio_features.id\n",
    "\n",
    "Se observa que hay 8 claves que no coindicen, la razón de ello es la presencia de nulos en 'track_id'"
   ]
  },
  {
   "cell_type": "code",
   "execution_count": 415,
   "metadata": {},
   "outputs": [
    {
     "name": "stdout",
     "output_type": "stream",
     "text": [
      "Número de track_id sin match: 8\n"
     ]
    }
   ],
   "source": [
    "# Número de track_id sin coindicencia\n",
    "track_id_unmatched = (~(data['track_id'] == data['audio_features.id'])).sum()\n",
    "print('Número de track_id sin match:', track_id_unmatched)\n"
   ]
  },
  {
   "cell_type": "code",
   "execution_count": 416,
   "metadata": {},
   "outputs": [
    {
     "data": {
      "text/html": [
       "<div>\n",
       "<style scoped>\n",
       "    .dataframe tbody tr th:only-of-type {\n",
       "        vertical-align: middle;\n",
       "    }\n",
       "\n",
       "    .dataframe tbody tr th {\n",
       "        vertical-align: top;\n",
       "    }\n",
       "\n",
       "    .dataframe thead th {\n",
       "        text-align: right;\n",
       "    }\n",
       "</style>\n",
       "<table border=\"1\" class=\"dataframe\">\n",
       "  <thead>\n",
       "    <tr style=\"text-align: right;\">\n",
       "      <th></th>\n",
       "      <th>track_id</th>\n",
       "      <th>audio_features.id</th>\n",
       "    </tr>\n",
       "  </thead>\n",
       "  <tbody>\n",
       "    <tr>\n",
       "      <th>321</th>\n",
       "      <td>NaN</td>\n",
       "      <td>1ZY1PqizIl78geGM4xWlEA</td>\n",
       "    </tr>\n",
       "    <tr>\n",
       "      <th>363</th>\n",
       "      <td>NaN</td>\n",
       "      <td>5zytSTR2g0I9psX2Z12ex6</td>\n",
       "    </tr>\n",
       "    <tr>\n",
       "      <th>375</th>\n",
       "      <td>NaN</td>\n",
       "      <td>3nRmDz7qGCvsMS30rGGY0x</td>\n",
       "    </tr>\n",
       "    <tr>\n",
       "      <th>379</th>\n",
       "      <td>NaN</td>\n",
       "      <td>6aLOekfwbytwWvQftxTEF0</td>\n",
       "    </tr>\n",
       "    <tr>\n",
       "      <th>382</th>\n",
       "      <td>NaN</td>\n",
       "      <td>2NlmmAjGYrrjAp0MED5rGx</td>\n",
       "    </tr>\n",
       "    <tr>\n",
       "      <th>434</th>\n",
       "      <td>NaN</td>\n",
       "      <td>1IsquhJFJ0qcFZI7FeAEuN</td>\n",
       "    </tr>\n",
       "    <tr>\n",
       "      <th>442</th>\n",
       "      <td>NaN</td>\n",
       "      <td>3lm4L3pPL32PFy74dR17OR</td>\n",
       "    </tr>\n",
       "    <tr>\n",
       "      <th>445</th>\n",
       "      <td>NaN</td>\n",
       "      <td>0GxW5K0qzrq7L1jwSY5OmY</td>\n",
       "    </tr>\n",
       "  </tbody>\n",
       "</table>\n",
       "</div>"
      ],
      "text/plain": [
       "    track_id       audio_features.id\n",
       "321      NaN  1ZY1PqizIl78geGM4xWlEA\n",
       "363      NaN  5zytSTR2g0I9psX2Z12ex6\n",
       "375      NaN  3nRmDz7qGCvsMS30rGGY0x\n",
       "379      NaN  6aLOekfwbytwWvQftxTEF0\n",
       "382      NaN  2NlmmAjGYrrjAp0MED5rGx\n",
       "434      NaN  1IsquhJFJ0qcFZI7FeAEuN\n",
       "442      NaN  3lm4L3pPL32PFy74dR17OR\n",
       "445      NaN  0GxW5K0qzrq7L1jwSY5OmY"
      ]
     },
     "execution_count": 416,
     "metadata": {},
     "output_type": "execute_result"
    }
   ],
   "source": [
    "# Registros que no coinciden\n",
    "data[(~(data['track_id'] == data['audio_features.id']))][['track_id','audio_features.id']]"
   ]
  },
  {
   "cell_type": "markdown",
   "metadata": {},
   "source": [
    "**Hallazgos**:\n",
    "\n",
    "Los campos 'track_name', 'audio_features.instrumentalness' y 'album_name', presentan tipos de datos mixtos debido a la presencia de datos faltates\n",
    "\n",
    "El campo 'explicit' representa incorrectamente los valores booleanos como ['False' 'True' 'Si' 'No'] \n",
    "\n",
    "Los campos 'audio_features.key' y 'audio_features.time_signature' tienen tipo de datos flotante pudiendo estar entero\n",
    "\n",
    "El campo 'album_total_tracks', siendo entero, representa el número 13 como 'Thirteen'\n",
    "\n",
    "El campo 'audio_features.instrumentalness' tiene inconsistencias en la notación científica como 7.28x-06 y 9.88e-06\n",
    "\n",
    "El campo 'artist_id' no cumple el patrón definido en su definición debido a una diferencia en longitud\n",
    "\n",
    "El campo de fecha 'album_release_date' tiene un error en su estructura estando respecto su definición (2012-10-22 vs 1981-12). Además, que por definición sea tipo string no es lo recomendado\n",
    "\n",
    "El dataset tiene 18 registros duplicados de forma general y 26 duplicados en su llave 'track_id'\n",
    "\n",
    "El campo 'track_popularity' tiene valores fuera de su rango de definición\n",
    "\n",
    "Existe 8 llaves 'track_id' y 'audio_features' sin coincidencia debido a presencia de nulos"
   ]
  },
  {
   "cell_type": "markdown",
   "metadata": {},
   "source": [
    "**Comentarios:**\n",
    "\n",
    "Los tipos de datos parecen ser mayormente consistentes con lo esperado. Sin embargo, hay algunos puntos a considerar:\n",
    "La columna explicit es de tipo object pero esperaríamos valores booleanos, audio_features.instrumentalness es object pero debería ser numérico, album_total_tracks es object pero debería ser numérico. Existen errores de digitación y presencia de duplicados"
   ]
  },
  {
   "cell_type": "markdown",
   "metadata": {},
   "source": [
    "### **4. Validez**:\n",
    "\n",
    "Los datos son válidos si se ajustan a la sintaxis (formato, tipo, rango) de su definición. Se verifica comparando con la documentación.\n",
    "\n",
    "Las dimensiones de calidad de los datos se relacionan entre sí, por ejemplo, si un dato es válido (sigue el formato correcto), pero no es exacto (no es el número de teléfono correcto del empleado), aún tendríamos un problema de calidad de datos. De manera similar, un número de teléfono puede ser exacto pero no válido si no sigue el formato estándar requerido.\n",
    "\n",
    "En nuestro caso contamos con las reglas de formato sacadas de la definición de cada campo, pero carecemos de información para saber si es exacto o consistente. Debido a este contexto, hemos realizado exploraciones de calidad de datos en dimensiones que no necesariamente son las adecuadas desde el punto de vista teórico, como haber analizado el tipo de datos en exactitud. Con fines de explorar todas las dimensiones, ya hemos hecho verificaciones que corresponden a validez.\n",
    "\n",
    "Vamos a aprovechar esta dimensión y realizar un análisis detallado campo a campo de los 27 existentes evaluando formato, tipo de dato, valores únios, rango, valores nulos, y estadísticas."
   ]
  },
  {
   "cell_type": "markdown",
   "metadata": {},
   "source": [
    "#### **4.1 'disc_number'**\n",
    "\n",
    "Definición: Tipo entero. No obligatorio. Indica el número de disco, generalmente 1 a menos que el álbum tenga más de un disco​​.\n",
    "\n",
    "Análisis: \n",
    "* Tipo de dato: Correcto\n",
    "* Valores únicos: Correctos y coherentes con la definición\n",
    "* Valores nulos: No tiene\n",
    "* Descripción estadística: El valor mínimo es 1 y el máximo es 2, con una media cercana a 1, lo que sugiere que la mayoría de las pistas pertenecen al primer disco.\n",
    "\n",
    "Hallazgos:\n",
    "* Ninguno"
   ]
  },
  {
   "cell_type": "code",
   "execution_count": 417,
   "metadata": {},
   "outputs": [
    {
     "data": {
      "text/plain": [
       "{'Nombre del campo:': 'disc_number',\n",
       " 'Tipo de dato:': dtype('int64'),\n",
       " 'Valores únicos': array([1, 2]),\n",
       " 'Valores nulos': 0,\n",
       " 'Descripción': count    539.000000\n",
       " mean       1.031540\n",
       " std        0.174934\n",
       " min        1.000000\n",
       " 25%        1.000000\n",
       " 50%        1.000000\n",
       " 75%        1.000000\n",
       " max        2.000000\n",
       " Name: disc_number, dtype: float64}"
      ]
     },
     "execution_count": 417,
     "metadata": {},
     "output_type": "execute_result"
    }
   ],
   "source": [
    "# Análisis de 'disc_number'\n",
    "analisis_disc_number= {\n",
    "    \"Nombre del campo:\": data.columns[0],\n",
    "    \"Tipo de dato:\": data.dtypes[data.columns[0]],\n",
    "    \"Valores únicos\": data['disc_number'].unique(),\n",
    "    \"Valores nulos\": data['disc_number'].isna().sum(),\n",
    "    \"Descripción\": data['disc_number'].describe()\n",
    "}\n",
    "analisis_disc_number"
   ]
  },
  {
   "cell_type": "markdown",
   "metadata": {},
   "source": [
    "#### **4.2 'duration_ms'**\n",
    "\n",
    "Definición: Tipo entero. No obligatorio. Representa la duración de la pista en milisegundos​​​​.\n",
    "\n",
    "Análisis: \n",
    "* Tipo de dato: Correcto\n",
    "* Valores únicos: Multiples valores únicos como era de esperarde por su definición\n",
    "* Valores nulos: No tiene\n",
    "* Descripción estadística: El valor mínimo es -223093 y el máximo es 613026, con una media de 236003 (4 min), lo que sugiere que la mayoría de las pistas pertenecen al primer disco.\n",
    "\n",
    "Hallazgos: \n",
    "* Tiene valores negativos o muy pequeños (0.01 s) lo que no es coherente con la definición, ya que la duración de una pista no puede ser negativa o tan corta."
   ]
  },
  {
   "cell_type": "code",
   "execution_count": 418,
   "metadata": {},
   "outputs": [
    {
     "data": {
      "text/plain": [
       "{'Nombre del campo:': 'duration_ms',\n",
       " 'Tipo de dato:': dtype('int64'),\n",
       " 'Valores nulos': 0,\n",
       " 'Descripción': count       539.000000\n",
       " mean     236003.725417\n",
       " std       55019.871010\n",
       " min     -223093.000000\n",
       " 25%      209486.500000\n",
       " 50%      233626.000000\n",
       " 75%      259045.500000\n",
       " max      613026.000000\n",
       " Name: duration_ms, dtype: float64}"
      ]
     },
     "execution_count": 418,
     "metadata": {},
     "output_type": "execute_result"
    }
   ],
   "source": [
    "# Análisis de 'duration_ms'\n",
    "analisis_duration_ms = {\n",
    "    \"Nombre del campo:\": data.columns[1],\n",
    "    \"Tipo de dato:\": data.dtypes[data.columns[1]],\n",
    "    \"Valores nulos\": data['duration_ms'].isna().sum(),\n",
    "    \"Descripción\": data['duration_ms'].describe()\n",
    "}\n",
    "\n",
    "analisis_duration_ms"
   ]
  },
  {
   "cell_type": "code",
   "execution_count": 419,
   "metadata": {},
   "outputs": [
    {
     "name": "stdout",
     "output_type": "stream",
     "text": [
      "Valores únicos: 364\n",
      "[ 219200  207440  211933  220440  247533  250093  195706  271000  295720\n",
      " -223093  242760  219720  329160  232120  244560  193146  205853  299013\n",
      "  202960  284866  240266      10  220600  239426  286613  223920  220840\n",
      "  227080  323080  336826  259279  290520    1000  245973  362826  344573\n",
      "  248146  369066  315173  189146   83253  404680  389213  292426  376466\n",
      "  230546  260946  293040  240773  403933  237746  265680  290480  352200\n",
      "  217173  302266  242093  367146  317960  403887  265636    3000  238173\n",
      "  234546  276266  292533  217626  230773  266480  237066  311040  267506\n",
      "  238093  261453  237600  242000  294346  235280  254320  234440  231146\n",
      "  263986  200560  261800  244240  225333  245346  281053  242373  294306\n",
      "  233933  254680  233560  230506  263720  200213  244626  225000  245266\n",
      "  278546  199933  193640  245826  221028  198247  176316  222959  196346\n",
      "  173899  228473  258487  210251  173066  203040  199200  239013  207106\n",
      "  248106  236053  242200  213080  201106  213053  203226  220146  179066]\n"
     ]
    }
   ],
   "source": [
    "print(\"Valores únicos:\", data['duration_ms'].nunique())\n",
    "print(data['duration_ms'].tail(140).unique())"
   ]
  },
  {
   "cell_type": "markdown",
   "metadata": {},
   "source": [
    "#### **4.3 'explicit'**\n",
    "\n",
    "Definición: Tipo booleano. No obligatorio. Indica si la pista tiene letras explícitas (true = sí, false = no o desconocido)​​\n",
    "\n",
    "Análisis: \n",
    "* Tipo de dato: Incorrecto, es string\n",
    "* Valores únicos: Tiene representaciones de valores booleanos incorrectos\n",
    "* Valores nulos: No tiene\n",
    "* Descripción estadística: False es el valor más frecuente con 480 apariciones.\n",
    "\n",
    "Hallazgos: \n",
    "* El tipo de dato es incorrecto.\n",
    "* Tiene inconsistencia en sus datos al representar los mismos valores de forma distinta."
   ]
  },
  {
   "cell_type": "code",
   "execution_count": 420,
   "metadata": {},
   "outputs": [
    {
     "data": {
      "text/plain": [
       "{'Nombre del campo:': 'explicit',\n",
       " 'Tipo de dato:': dtype('O'),\n",
       " 'Valores nulos': 0,\n",
       " 'Descripción': count       539\n",
       " unique        4\n",
       " top       False\n",
       " freq        480\n",
       " Name: explicit, dtype: object}"
      ]
     },
     "execution_count": 420,
     "metadata": {},
     "output_type": "execute_result"
    }
   ],
   "source": [
    "# Análisis de 'explicit'\n",
    "analisis_explicit = {\n",
    "    \"Nombre del campo:\": data.columns[2],\n",
    "    \"Tipo de dato:\": data.dtypes['explicit'],\n",
    "    \"Valores nulos\": data['explicit'].isna().sum(),\n",
    "    \"Descripción\": data['explicit'].describe()\n",
    "}\n",
    "analisis_explicit"
   ]
  },
  {
   "cell_type": "code",
   "execution_count": 421,
   "metadata": {},
   "outputs": [
    {
     "name": "stdout",
     "output_type": "stream",
     "text": [
      "Valores únicos: 4\n",
      "['False' 'True' 'Si' 'No']\n"
     ]
    }
   ],
   "source": [
    "print(\"Valores únicos:\", data['explicit'].nunique())\n",
    "print(data['explicit'].unique())"
   ]
  },
  {
   "cell_type": "markdown",
   "metadata": {},
   "source": [
    "#### **4.4 'track_number'**\n",
    "\n",
    "Definición: Tipo entero. No obligatorio. Número de la pista. Si un álbum tiene varios discos, es el número en el disco especificado​​.\n",
    "\n",
    "Análisis: \n",
    "* Tipo de dato: Correcto\n",
    "* Valores únicos: Multiples valores únicos (46) como era de esperarse por su definición\n",
    "* Valores nulos: No tiene\n",
    "* Descripción estadística: El valor mínimo es 1 y el máximo es 46, con una media de 11, datos coherentes con su definición.\n",
    "\n",
    "Hallazgos: \n",
    "* Ninguno"
   ]
  },
  {
   "cell_type": "code",
   "execution_count": 422,
   "metadata": {},
   "outputs": [
    {
     "data": {
      "text/plain": [
       "{'Nombre del campo:': 'track_number',\n",
       " 'Tipo de dato:': dtype('int64'),\n",
       " 'Valores nulos': 0,\n",
       " 'Descripción': count    539.000000\n",
       " mean      11.280148\n",
       " std        7.965621\n",
       " min        1.000000\n",
       " 25%        5.000000\n",
       " 50%       10.000000\n",
       " 75%       15.000000\n",
       " max       46.000000\n",
       " Name: track_number, dtype: float64}"
      ]
     },
     "execution_count": 422,
     "metadata": {},
     "output_type": "execute_result"
    }
   ],
   "source": [
    "# Análisis de 'track_number'\n",
    "analisis_track_number = {\n",
    "    \"Nombre del campo:\": data.columns[3],\n",
    "    \"Tipo de dato:\": data.dtypes['track_number'],\n",
    "    \"Valores nulos\": data['track_number'].isna().sum(),\n",
    "    \"Descripción\": data['track_number'].describe()\n",
    "}\n",
    "analisis_track_number"
   ]
  },
  {
   "cell_type": "code",
   "execution_count": 423,
   "metadata": {},
   "outputs": [
    {
     "name": "stdout",
     "output_type": "stream",
     "text": [
      "Valores únicos: 46\n",
      "[ 1  2  3  4  5  6  7  8  9 10 11 12 13 14 15 16 17 18 19 20 21 22 23 24\n",
      " 25 26 27 28 29 30 31 32 33 34 35 36 37 38 39 40 41 42 43 44 45 46]\n"
     ]
    }
   ],
   "source": [
    "print(\"Valores únicos:\", data['track_number'].nunique())\n",
    "print(data['track_number'].unique())"
   ]
  },
  {
   "cell_type": "markdown",
   "metadata": {},
   "source": [
    "#### **4.5 'track_popularity'**\n",
    "\n",
    "Definición: Tipo entero. No obligatorio. Popularidad de la pista, con valores entre 0 y 100, siendo 100 el más popular​​\n",
    "\n",
    "Análisis: \n",
    "* Tipo de dato: Correcto\n",
    "* Valores únicos: Multiples valores únicos como era de esperarde por su definición\n",
    "* Valores nulos: No tiene\n",
    "* Descripción estadística: su rango va de -92 a 152, con una media de 63\n",
    "\n",
    "Hallazgos: \n",
    "* Hay valores atípicos ya que la popularidad debería estar entre 0 y 100"
   ]
  },
  {
   "cell_type": "code",
   "execution_count": 424,
   "metadata": {},
   "outputs": [
    {
     "data": {
      "text/plain": [
       "{'Nombre del campo:': 'track_popularity',\n",
       " 'Tipo de dato:': dtype('int64'),\n",
       " 'Valores nulos': 0,\n",
       " 'Descripción': count    539.000000\n",
       " mean      62.918367\n",
       " std       22.498757\n",
       " min      -92.000000\n",
       " 25%       51.000000\n",
       " 50%       69.000000\n",
       " 75%       77.000000\n",
       " max      152.000000\n",
       " Name: track_popularity, dtype: float64}"
      ]
     },
     "execution_count": 424,
     "metadata": {},
     "output_type": "execute_result"
    }
   ],
   "source": [
    "# Análisis de 'track_popularity'\n",
    "analisis_track_popularity = {\n",
    "    \"Nombre del campo:\": data.columns[4],\n",
    "    \"Tipo de dato:\": data.dtypes['track_popularity'],\n",
    "    \"Valores nulos\": data['track_popularity'].isna().sum(),\n",
    "    \"Descripción\": data['track_popularity'].describe()\n",
    "}\n",
    "analisis_track_popularity"
   ]
  },
  {
   "cell_type": "code",
   "execution_count": 425,
   "metadata": {},
   "outputs": [
    {
     "name": "stdout",
     "output_type": "stream",
     "text": [
      "Valores únicos: 73\n",
      "[ 77  78  79  76  75  81  82  84  87  88  85  83  80  90  91  94  73  71\n",
      "  70  68  69 -69  67  66  65  74 -70  72 -85 -92 -75 -71  86  64  55  56\n",
      "  54  53  52  51  50  60  62  58  61  57  59  99  92  42  45  36  39  38\n",
      "  43  41  40  37  34  35  33  47  32  89   0  48  63  49  46  44 152  31\n",
      "  30]\n"
     ]
    }
   ],
   "source": [
    "print(\"Valores únicos:\", data['track_popularity'].nunique())\n",
    "print(data['track_popularity'].unique())"
   ]
  },
  {
   "cell_type": "markdown",
   "metadata": {},
   "source": [
    "#### **4.6 'track_id'**\n",
    "\n",
    "Definición: Tipo cadena (string). Obligatorio. Es el ID de Spotify para la pista​​. Ejemplo: 11dFghVXANMlKmJXsNCbNl\n",
    "\n",
    "Análisis: \n",
    "* Tipo de dato: Correcto\n",
    "* Valores únicos: Multiples valores únicos (512) como era de esperarse por su definición\n",
    "* Valores nulos: 8 valores siendo el campo obligatorio\n",
    "* Descripción estadística: existen valores que se repiten\n",
    "\n",
    "Hallazgos: \n",
    "* Hay ID duplicados lo cual es incorrecto por la definición del campo\n",
    "* Hay valores nulos siendo el campo obligatorio"
   ]
  },
  {
   "cell_type": "code",
   "execution_count": 426,
   "metadata": {},
   "outputs": [
    {
     "data": {
      "text/plain": [
       "{'Nombre del campo:': 'track_id',\n",
       " 'Tipo de dato:': dtype('O'),\n",
       " 'Valores nulos': 8,\n",
       " 'Descripción': count                        531\n",
       " unique                       512\n",
       " top       1fzAuUVbzlhZ1lJAx9PtY6\n",
       " freq                           2\n",
       " Name: track_id, dtype: object}"
      ]
     },
     "execution_count": 426,
     "metadata": {},
     "output_type": "execute_result"
    }
   ],
   "source": [
    "# Análisis de 'track_id'\n",
    "analisis_track_id = {\n",
    "    \"Nombre del campo:\": data.columns[5],\n",
    "    \"Tipo de dato:\": data.dtypes['track_id'],\n",
    "    \"Valores nulos\": data['track_id'].isna().sum(),\n",
    "    \"Descripción\": data['track_id'].describe()\n",
    "}\n",
    "analisis_track_id"
   ]
  },
  {
   "cell_type": "code",
   "execution_count": 427,
   "metadata": {},
   "outputs": [
    {
     "name": "stdout",
     "output_type": "stream",
     "text": [
      "Valores únicos: 512\n",
      "['4WUepByoeqcedHoYhSNHRt' '0108kcWLnn2HlH2kedi1gn'\n",
      " '3Vpk1hfMAQme8VJ0SNRSkd' '1OcSfkeCg9hRC2sFKB4IMJ'\n",
      " '2k0ZEeAqzvYMcx9Qt5aClQ' '50yNTF0Od55qnHLxYsA5Pw'\n",
      " '3FxJDucHWdw6caWTKO5b23' '7oZONwFiFIErZcXAtTu7FY'\n",
      " '27exgla7YBw9DUNNcTIpjy' '733OhaXQIHY7BKtY3vnSkn'\n",
      " '4WBEj8TeGtRPNJdOmT3WJW' '1ULabO0PEsdJekqVH6G10G'\n",
      " '0lKUBmEyQfzsQHozyeXzES' '6HRsJu8vcnzYDN4t0570FY'\n",
      " '0TyGh27YQ5LknmiDhCzJiT' '5M787RexsAiVYjQusM98CV'\n",
      " '0CD7DzeCsuPJygddqlUVYa' '3CCRVu4F91Qp2mnGjmWBrf'\n",
      " '5QUIK7ZtziW8kGWo8RqopF' '6M9ppdfFjR1AbpUl3Y8DcV']\n"
     ]
    }
   ],
   "source": [
    "print(\"Valores únicos:\", data['track_id'].nunique())\n",
    "print(data['track_id'].head(20).unique())"
   ]
  },
  {
   "cell_type": "markdown",
   "metadata": {},
   "source": [
    "#### **4.7 'track_name'**\n",
    "\n",
    "Definición: Tipo cadena (string). No obligatorio. Nombre de la pista​​\n",
    "\n",
    "Análisis: \n",
    "* Tipo de dato: Correcto\n",
    "* Valores únicos: Multiples valores únicos (331) como era de esperarse por su definición\n",
    "* Valores nulos: 7 valores siendo el campo no obligatorio\n",
    "* Descripción estadística: existen valores que se repiten\n",
    "\n",
    "Hallazgos: \n",
    "* Puede ser un error que existan pistas sin nombre"
   ]
  },
  {
   "cell_type": "code",
   "execution_count": 428,
   "metadata": {},
   "outputs": [
    {
     "data": {
      "text/plain": [
       "{'Nombre del campo:': 'track_name',\n",
       " 'Tipo de dato:': dtype('O'),\n",
       " 'Valores nulos': 7,\n",
       " 'Descripción': count                 532\n",
       " unique                331\n",
       " top       The Story Of Us\n",
       " freq                    4\n",
       " Name: track_name, dtype: object}"
      ]
     },
     "execution_count": 428,
     "metadata": {},
     "output_type": "execute_result"
    }
   ],
   "source": [
    "# Análisis de 'track_name'\n",
    "analisis_track_name = {\n",
    "    \"Nombre del campo:\": data.columns[6],\n",
    "    \"Tipo de dato:\": data.dtypes['track_name'],\n",
    "    \"Valores nulos\": data['track_name'].isna().sum(),\n",
    "    \"Descripción\": data['track_name'].describe()\n",
    "}\n",
    "analisis_track_name"
   ]
  },
  {
   "cell_type": "code",
   "execution_count": 429,
   "metadata": {},
   "outputs": [
    {
     "name": "stdout",
     "output_type": "stream",
     "text": [
      "Valores únicos: 331\n",
      "[\"Welcome To New York (Taylor's Version)\" \"Blank Space (Taylor's Version)\"\n",
      " \"Style (Taylor's Version)\" \"Out Of The Woods (Taylor's Version)\"\n",
      " \"All You Had To Do Was Stay (Taylor's Version)\"\n",
      " \"Shake It Off (Taylor's Version)\" \"I Wish You Would (Taylor's Version)\"\n",
      " \"Bad Blood (Taylor's Version)\" \"Wildest Dreams (Taylor's Version)\"\n",
      " \"How You Get The Girl (Taylor's Version)\" 'This Love (Taylor’s Version)'\n",
      " \"I Know Places (Taylor's Version)\" \"Clean (Taylor's Version)\"\n",
      " \"Wonderland (Taylor's Version)\" \"You Are In Love (Taylor's Version)\"\n",
      " \"New Romantics (Taylor's Version)\"\n",
      " '\"Slut!\" (Taylor\\'s Version) (From The Vault)'\n",
      " \"Say Don't Go (Taylor's Version) (From The Vault)\"\n",
      " \"Now That We Don't Talk (Taylor's Version) (From The Vault)\"\n",
      " \"Suburban Legends (Taylor's Version) (From The Vault)\"]\n"
     ]
    }
   ],
   "source": [
    "print(\"Valores únicos:\", data['track_name'].nunique())\n",
    "print(data['track_name'].head(20).unique())"
   ]
  },
  {
   "cell_type": "markdown",
   "metadata": {},
   "source": [
    "#### **4.8 'audio_features.danceability'**\n",
    "\n",
    "Definición: Tipo número flotante (float). No obligatorio. Mide qué tan adecuada es una pista para bailar en una escala de 0.0 a 1.0​​. Ejemplo: 0.585\n",
    "\n",
    "Análisis: \n",
    "* Tipo de dato: Correcto\n",
    "* Valores únicos: Multiples valores únicos (267) como era de esperarse por su definición\n",
    "* Valores nulos: 2 valores siendo el campo no obligatorio\n",
    "* Descripción estadística: valores entre 0.24 y 0.90, con media en 0.59; estando dentro del rango\n",
    "\n",
    "Hallazgos: \n",
    "* Ninguno"
   ]
  },
  {
   "cell_type": "code",
   "execution_count": 430,
   "metadata": {},
   "outputs": [
    {
     "data": {
      "text/plain": [
       "{'Nombre del campo:': 'audio_features.danceability',\n",
       " 'Tipo de dato:': dtype('float64'),\n",
       " 'Valores nulos': 2,\n",
       " 'Descripción': count    537.000000\n",
       " mean       0.587242\n",
       " std        0.116858\n",
       " min        0.243000\n",
       " 25%        0.517000\n",
       " 50%        0.595000\n",
       " 75%        0.661000\n",
       " max        0.897000\n",
       " Name: audio_features.danceability, dtype: float64}"
      ]
     },
     "execution_count": 430,
     "metadata": {},
     "output_type": "execute_result"
    }
   ],
   "source": [
    "# Análisis de 'audio_features.danceability'\n",
    "analisis_danceability = {\n",
    "    \"Nombre del campo:\": data.columns[7],\n",
    "    \"Tipo de dato:\": data.dtypes['audio_features.danceability'],\n",
    "    \"Valores nulos\": data['audio_features.danceability'].isna().sum(),\n",
    "    \"Descripción\": data['audio_features.danceability'].describe()\n",
    "}\n",
    "analisis_danceability"
   ]
  },
  {
   "cell_type": "code",
   "execution_count": 431,
   "metadata": {},
   "outputs": [
    {
     "name": "stdout",
     "output_type": "stream",
     "text": [
      "Valores únicos: 267\n",
      "[0.757 0.733 0.511 0.545 0.588 0.636 0.67  0.618 0.589 0.758 0.471 0.582\n",
      " 0.772 0.464 0.363 0.649 0.591 0.633 0.8   0.701]\n"
     ]
    }
   ],
   "source": [
    "print(\"Valores únicos:\", data['audio_features.danceability'].nunique())\n",
    "print(data['audio_features.danceability'].head(20).unique())"
   ]
  },
  {
   "cell_type": "markdown",
   "metadata": {},
   "source": [
    "#### **4.9 'audio_features.energy'**\n",
    "\n",
    "Definición: Tipo número flotante. No obligatorio. Mide la energía de una pista en una escala de 0.0 a 1.0​​. Ejemplo: 0.842\n",
    "\n",
    "Análisis: \n",
    "* Tipo de dato: Correcto\n",
    "* Valores únicos: Multiples valores únicos (348) como era de esperarse por su definición\n",
    "* Valores nulos: 2 valores siendo el campo no obligatorio\n",
    "* Descripción estadística: valores entre 0.11 y 0.95, con media en 0.57; estando dentro del rango\n",
    "\n",
    "Hallazgos: \n",
    "* Ninguno"
   ]
  },
  {
   "cell_type": "code",
   "execution_count": 432,
   "metadata": {},
   "outputs": [
    {
     "data": {
      "text/plain": [
       "{'Nombre del campo:': 'audio_features.energy',\n",
       " 'Tipo de dato:': dtype('float64'),\n",
       " 'Valores nulos': 2,\n",
       " 'Descripción': count    537.000000\n",
       " mean       0.573065\n",
       " std        0.192309\n",
       " min        0.118000\n",
       " 25%        0.436000\n",
       " 50%        0.589000\n",
       " 75%        0.729000\n",
       " max        0.949000\n",
       " Name: audio_features.energy, dtype: float64}"
      ]
     },
     "execution_count": 432,
     "metadata": {},
     "output_type": "execute_result"
    }
   ],
   "source": [
    "# Análisis de 'audio_features.energy'\n",
    "analisis_energy = {\n",
    "    \"Nombre del campo:\": data.columns[8],\n",
    "    \"Tipo de dato:\": data.dtypes['audio_features.energy'],\n",
    "    \"Valores nulos\": data['audio_features.energy'].isna().sum(),\n",
    "    \"Descripción\": data['audio_features.energy'].describe()\n",
    "}\n",
    "analisis_energy"
   ]
  },
  {
   "cell_type": "code",
   "execution_count": 433,
   "metadata": {},
   "outputs": [
    {
     "name": "stdout",
     "output_type": "stream",
     "text": [
      "Valores únicos: 348\n",
      "[0.692 0.378 0.402 0.571 0.468 0.777 0.694 0.622 0.574 0.672 0.885 0.608\n",
      " 0.459 0.417 0.396 0.58  0.557 0.537 0.613 0.624 0.386 0.747 0.671 0.555\n",
      " 0.27  0.616 0.181 0.639 0.788 0.221 0.783 0.526 0.502 0.691 0.458 0.627\n",
      " 0.266 0.677 0.712 0.517 0.534 0.751 0.394 0.607 0.334 0.308 0.656]\n"
     ]
    }
   ],
   "source": [
    "print(\"Valores únicos:\", data['audio_features.energy'].nunique())\n",
    "print(data['audio_features.energy'].sample(50).unique())"
   ]
  },
  {
   "cell_type": "markdown",
   "metadata": {},
   "source": [
    "#### **4.10 'audio_features.key'**\n",
    "\n",
    "Definición: Tipo entero.  No obligatorio. La clave musical en la que está la pista. Varía de -1 a 11​​, donde -1 indica no clave detectada. Ejemplo: 9\n",
    "\n",
    "Análisis: \n",
    "* Tipo de dato: Incorrecto, es flotante\n",
    "* Valores únicos: 12 valores únicos enteros\n",
    "* Valores nulos: 1 valor siendo el campo no obligatorio\n",
    "* Descripción estadística: valores entre 0 y 11, lo que está dentro del rango\n",
    "\n",
    "Hallazgos: \n",
    "* Tipo de dato incorrecto, es flotante y debe ser entero."
   ]
  },
  {
   "cell_type": "code",
   "execution_count": 434,
   "metadata": {},
   "outputs": [
    {
     "data": {
      "text/plain": [
       "{'Nombre del campo:': 'audio_features.key',\n",
       " 'Tipo de dato:': dtype('float64'),\n",
       " 'Valores nulos': 1,\n",
       " 'Descripción': count    538.000000\n",
       " mean       4.587361\n",
       " std        3.246082\n",
       " min        0.000000\n",
       " 25%        2.000000\n",
       " 50%        5.000000\n",
       " 75%        7.000000\n",
       " max       11.000000\n",
       " Name: audio_features.key, dtype: float64}"
      ]
     },
     "execution_count": 434,
     "metadata": {},
     "output_type": "execute_result"
    }
   ],
   "source": [
    "# Análisis de 'audio_features.key'\n",
    "analisis_key = {\n",
    "    \"Nombre del campo:\": data.columns[9],\n",
    "    \"Tipo de dato:\": data.dtypes['audio_features.key'],\n",
    "    \"Valores nulos\": data['audio_features.key'].isna().sum(),\n",
    "    \"Descripción\": data['audio_features.key'].describe()\n",
    "}\n",
    "analisis_key"
   ]
  },
  {
   "cell_type": "code",
   "execution_count": 435,
   "metadata": {},
   "outputs": [
    {
     "name": "stdout",
     "output_type": "stream",
     "text": [
      "Valores únicos: 12\n",
      "[ 7.  0. 11.  8.  5.  1.  4.  3.  9.  2. 10.  6. nan]\n"
     ]
    }
   ],
   "source": [
    "print(\"Valores únicos:\", data['audio_features.key'].nunique())\n",
    "print(data['audio_features.key'].unique())"
   ]
  },
  {
   "cell_type": "markdown",
   "metadata": {},
   "source": [
    "#### **4.11 'audio_features.loudness'**\n",
    "\n",
    "Definición: Tipo número flotante. No obligatorio. La sonoridad general de una pista en decibeles (dB)​​. Ejemplo: -5.883\n",
    "\n",
    "Análisis: \n",
    "* Tipo de dato: Correcto\n",
    "* Valores únicos: Multiples valores únicos (448) como era de esperarse por su definición\n",
    "* Valores nulos: 2 valor siendo el campo no obligatorio\n",
    "* Descripción estadística: valores entre -18 y -2, no existe rango para comparar\n",
    "\n",
    "Hallazgos: \n",
    "* Por el tipo de variable (sonoridad en dB) se esperaria que los valores fueran positivos pues el umbral de mínima audición es 0. Esto podría ser un problema de Exactitud por cuanto su valor no representa el objecto real, sin embargo, en el dato ejemplo de observa un número negativo."
   ]
  },
  {
   "cell_type": "code",
   "execution_count": 436,
   "metadata": {},
   "outputs": [
    {
     "data": {
      "text/plain": [
       "{'Nombre del campo:': 'audio_features.loudness',\n",
       " 'Tipo de dato:': dtype('float64'),\n",
       " 'Valores nulos': 2,\n",
       " 'Descripción': count    537.000000\n",
       " mean      -7.520639\n",
       " std        2.933158\n",
       " min      -17.932000\n",
       " 25%       -9.287000\n",
       " 50%       -6.942000\n",
       " 75%       -5.376000\n",
       " max       -1.909000\n",
       " Name: audio_features.loudness, dtype: float64}"
      ]
     },
     "execution_count": 436,
     "metadata": {},
     "output_type": "execute_result"
    }
   ],
   "source": [
    "# Análisis de 'audio_features.loudness'\n",
    "analisis_loudness = {\n",
    "    \"Nombre del campo:\": data.columns[10],\n",
    "    \"Tipo de dato:\": data.dtypes['audio_features.loudness'],\n",
    "    \"Valores nulos\": data['audio_features.loudness'].isna().sum(),\n",
    "    \"Descripción\": data['audio_features.loudness'].describe()\n",
    "}\n",
    "analisis_loudness"
   ]
  },
  {
   "cell_type": "code",
   "execution_count": 437,
   "metadata": {},
   "outputs": [
    {
     "name": "stdout",
     "output_type": "stream",
     "text": [
      "Valores únicos: 448\n",
      "[ -3.185 -15.91  -15.065  -7.754  -8.784     nan  -9.19   -4.785  -4.833\n",
      "  -8.795  -7.062  -3.771 -12.379  -2.347  -2.98  -10.381  -8.777  -6.745\n",
      "  -7.031 -12.088  -8.987  -4.516 -10.295  -6.59   -3.63   -4.991  -7.415\n",
      "  -8.294  -6.639 -11.128  -5.556 -10.731  -6.269 -10.037 -13.778  -3.669\n",
      "  -5.693  -3.913  -5.86   -7.405 -10.274  -6.686 -10.673  -4.137  -5.838\n",
      "  -4.762  -9.416  -5.412 -15.48   -8.828]\n"
     ]
    }
   ],
   "source": [
    "print(\"Valores únicos:\", data['audio_features.loudness'].nunique())\n",
    "print(data['audio_features.loudness'].sample(50).unique())"
   ]
  },
  {
   "cell_type": "markdown",
   "metadata": {},
   "source": [
    "#### **4.12 'audio_features.mode'**\n",
    "\n",
    "Definición: Tipo entero. No obligatorio. Indica la modalidad (mayor o menor) de una pista. Mayor es 1 y menor es 0​\n",
    "\n",
    "Análisis: \n",
    "* Tipo de dato: Correcto\n",
    "* Valores únicos: Dos valores únicos como era de esperarse por su definición\n",
    "* Valores nulos: sin nulos\n",
    "* Descripción estadística: no aplica por su naturaleza discreta\n",
    "\n",
    "Hallazgos: \n",
    "* Ninguno."
   ]
  },
  {
   "cell_type": "code",
   "execution_count": 438,
   "metadata": {},
   "outputs": [
    {
     "data": {
      "text/plain": [
       "{'Nombre del campo:': 'audio_features.mode',\n",
       " 'Tipo de dato:': dtype('int64'),\n",
       " 'Valores nulos': 0,\n",
       " 'Descripción': count    539.000000\n",
       " mean       0.912801\n",
       " std        0.282388\n",
       " min        0.000000\n",
       " 25%        1.000000\n",
       " 50%        1.000000\n",
       " 75%        1.000000\n",
       " max        1.000000\n",
       " Name: audio_features.mode, dtype: float64}"
      ]
     },
     "execution_count": 438,
     "metadata": {},
     "output_type": "execute_result"
    }
   ],
   "source": [
    "# Análisis de 'audio_features.mode'\n",
    "analisis_mode = {\n",
    "    \"Nombre del campo:\": data.columns[11],\n",
    "    \"Tipo de dato:\": data.dtypes['audio_features.mode'],\n",
    "    \"Valores nulos\": data['audio_features.mode'].isna().sum(),\n",
    "    \"Descripción\": data['audio_features.mode'].describe()\n",
    "}\n",
    "analisis_mode"
   ]
  },
  {
   "cell_type": "code",
   "execution_count": 439,
   "metadata": {},
   "outputs": [
    {
     "name": "stdout",
     "output_type": "stream",
     "text": [
      "Valores únicos: 2\n",
      "[1 0]\n"
     ]
    }
   ],
   "source": [
    "print(\"Valores únicos:\", data['audio_features.mode'].nunique())\n",
    "print(data['audio_features.mode'].unique())"
   ]
  },
  {
   "cell_type": "markdown",
   "metadata": {},
   "source": [
    "#### **4.13 'audio_features.speechiness'**\n",
    "\n",
    "Definición: Tipo número flotante. No obligatorio. Detecta la presencia de palabras habladas en una pista​​, cuanto más hablada sea será más cercana a 1. Ejemplo: 0.0556\n",
    "\n",
    "Análisis: \n",
    "* Tipo de dato: Correcto\n",
    "* Valores únicos: Multiples valores únicos (292) como era de esperarse por su definición\n",
    "* Valores nulos: 1 valor siendo el campo no obligatorio\n",
    "* Descripción estadística: valores entre 0.02 y 0.91, lo cual está dentro del rango\n",
    "\n",
    "Hallazgos: \n",
    "* Ninguno"
   ]
  },
  {
   "cell_type": "code",
   "execution_count": 440,
   "metadata": {},
   "outputs": [
    {
     "data": {
      "text/plain": [
       "{'Nombre del campo:': 'audio_features.speechiness',\n",
       " 'Tipo de dato:': dtype('float64'),\n",
       " 'Valores nulos': 1,\n",
       " 'Descripción': count    538.000000\n",
       " mean       0.057709\n",
       " std        0.073146\n",
       " min        0.023100\n",
       " 25%        0.030525\n",
       " 50%        0.037750\n",
       " 75%        0.056400\n",
       " max        0.912000\n",
       " Name: audio_features.speechiness, dtype: float64}"
      ]
     },
     "execution_count": 440,
     "metadata": {},
     "output_type": "execute_result"
    }
   ],
   "source": [
    "# Análisis de 'audio_features.speechiness'\n",
    "analisis_speechiness = {\n",
    "    \"Nombre del campo:\": data.columns[12],\n",
    "    \"Tipo de dato:\": data.dtypes['audio_features.speechiness'],\n",
    "    \"Valores nulos\": data['audio_features.speechiness'].isna().sum(),\n",
    "    \"Descripción\": data['audio_features.speechiness'].describe()\n",
    "}\n",
    "analisis_speechiness"
   ]
  },
  {
   "cell_type": "code",
   "execution_count": 441,
   "metadata": {},
   "outputs": [
    {
     "name": "stdout",
     "output_type": "stream",
     "text": [
      "Valores únicos: 292\n",
      "[0.0582 0.0393 0.0419 0.0522 0.0384 0.0346 0.0436 0.031  0.0538 0.0339\n",
      " 0.05   0.0243 0.0244 0.0732 0.0301 0.0278 0.0292 0.0374 0.0341 0.035\n",
      " 0.0484 0.0275 0.0535 0.0347 0.519  0.0641 0.0264 0.0293 0.0617 0.0334\n",
      " 0.0789 0.0684 0.0379 0.0303 0.0521 0.0471 0.0619 0.0916 0.0401 0.0282\n",
      " 0.0294 0.0306 0.037  0.0506]\n"
     ]
    }
   ],
   "source": [
    "print(\"Valores únicos:\", data['audio_features.speechiness'].nunique())\n",
    "print(data['audio_features.speechiness'].sample(50).unique())"
   ]
  },
  {
   "cell_type": "markdown",
   "metadata": {},
   "source": [
    "#### **4.14 'audio_features.acousticness'**\n",
    "\n",
    "Definición: Tipo número flotante. No obligatorio. Medida de confianza de si la pista es acústica, en una escala de 0.0 a 1.0​​. Ejemplo: 0.00242\n",
    "\n",
    "Análisis: \n",
    "* Tipo de dato: Correcto\n",
    "* Valores únicos: Multiples valores únicos (401) como era de esperarse por su definición\n",
    "* Valores nulos: 1 valor siendo el campo no obligatorio\n",
    "* Descripción estadística: valores entre -0.003 y 5.000 con media en 0.337, lo cual está fuera del rango\n",
    "\n",
    "Hallazgos: \n",
    "* Los valores están fuera del rango 0 - 1, con valores oscilando entre -0.003 y 5.000"
   ]
  },
  {
   "cell_type": "code",
   "execution_count": 442,
   "metadata": {},
   "outputs": [
    {
     "data": {
      "text/plain": [
       "{'Nombre del campo:': 'audio_features.acousticness',\n",
       " 'Tipo de dato:': dtype('float64'),\n",
       " 'Valores nulos': 1,\n",
       " 'Descripción': count    538.000000\n",
       " mean       0.337806\n",
       " std        0.395292\n",
       " min       -0.003540\n",
       " 25%        0.036250\n",
       " 50%        0.167500\n",
       " 75%        0.663750\n",
       " max        5.000000\n",
       " Name: audio_features.acousticness, dtype: float64}"
      ]
     },
     "execution_count": 442,
     "metadata": {},
     "output_type": "execute_result"
    }
   ],
   "source": [
    "# Análisis de 'audio_features.acousticness'\n",
    "analisis_acousticness = {\n",
    "    \"Nombre del campo:\": data.columns[13],\n",
    "    \"Tipo de dato:\": data.dtypes['audio_features.acousticness'],\n",
    "    \"Valores nulos\": data['audio_features.acousticness'].isna().sum(),\n",
    "    \"Descripción\": data['audio_features.acousticness'].describe()\n",
    "}\n",
    "analisis_acousticness"
   ]
  },
  {
   "cell_type": "code",
   "execution_count": 443,
   "metadata": {},
   "outputs": [
    {
     "name": "stdout",
     "output_type": "stream",
     "text": [
      "Valores únicos: 401\n",
      "[5.14e-01 1.04e-02 4.18e-03 1.78e-02 2.56e-03 2.02e-02 6.22e-01 9.16e-01\n",
      " 6.23e-02 8.49e-01 8.50e-02 2.45e-03 8.81e-01 6.04e-02 1.11e-01 1.71e-02\n",
      " 3.30e-02 4.71e-03 1.30e-01 6.80e-03 3.17e-02 4.65e-03 3.18e-01 6.36e-02\n",
      " 1.75e-01 1.83e-01 4.26e-02 5.89e-01 1.92e-03 8.19e-01 8.06e-01 5.12e-04\n",
      " 7.50e-02 6.64e-01 1.56e-01 9.33e-03 6.60e-02 7.67e-02 3.12e-01 3.77e-02\n",
      " 8.51e-01 8.98e-01 8.37e-01 1.97e-04 6.90e-01 1.51e-01 7.27e-01 4.02e-02\n",
      " 7.47e-02 4.54e-01 7.43e-04 1.22e-02 3.67e-01 8.29e-01 2.32e-01 4.61e-03\n",
      " 2.25e-01 1.08e-03 2.46e-02 2.74e-01 3.34e-01 1.67e-02 4.47e-01 1.67e-01\n",
      " 7.88e-02 1.20e-01 2.72e-01 1.15e-01 2.05e-01 8.70e-01 3.87e-02 1.81e-02\n",
      " 1.96e-03 5.25e-01 6.70e-01 8.16e-01 5.00e+00 7.50e-01 1.13e-01 6.55e-01\n",
      " 9.20e-01 2.56e-01 5.56e-03 8.26e-01 5.00e-01 2.00e-01 7.40e-02 7.16e-02\n",
      " 2.31e-01 4.63e-03 8.76e-01 9.64e-01]\n"
     ]
    }
   ],
   "source": [
    "print(\"Valores únicos:\", data['audio_features.acousticness'].nunique())\n",
    "print(data['audio_features.acousticness'].sample(100).unique())"
   ]
  },
  {
   "cell_type": "markdown",
   "metadata": {},
   "source": [
    "#### **4.15 'audio_features.instrumentalness'**\n",
    "\n",
    "Definición: Tipo número flotante. No obligatorio. Predice si una pista no contiene voces​​, cuanto más cercano a 1.0 más probable de que la pista no contenga voces. Ejemplo: 0.00686\n",
    "\n",
    "Análisis: \n",
    "* Tipo de dato: Incorrecto, es string\n",
    "* Valores únicos: Multiples valores únicos (240) como era de esperarse por su definición\n",
    "* Valores nulos: Sin nulos\n",
    "* Descripción estadística: no aplica al ser tipo string. Si se corrigue, los valores oscilarian entre 0.0 y 0.49\n",
    "\n",
    "Hallazgos: \n",
    "* El tipo de dato es incorrecto, siendo string y debiendo ser flotante\n",
    "* Existe error en el formato de la notación científica, habiendo datos con x (7.28x-06') y con e ('3.5e-06')"
   ]
  },
  {
   "cell_type": "code",
   "execution_count": 444,
   "metadata": {},
   "outputs": [
    {
     "data": {
      "text/plain": [
       "{'Nombre del campo:': 'audio_features.instrumentalness',\n",
       " 'Tipo de dato:': dtype('O'),\n",
       " 'Valores nulos': 0,\n",
       " 'Descripción': count     539\n",
       " unique    240\n",
       " top         0\n",
       " freq      235\n",
       " Name: audio_features.instrumentalness, dtype: object}"
      ]
     },
     "execution_count": 444,
     "metadata": {},
     "output_type": "execute_result"
    }
   ],
   "source": [
    "# Análisis de 'audio_features.instrumentalness'\n",
    "analisis_instrumentalness = {\n",
    "    \"Nombre del campo:\": data.columns[14],\n",
    "    \"Tipo de dato:\": data.dtypes['audio_features.instrumentalness'],\n",
    "    \"Valores nulos\": data['audio_features.instrumentalness'].isna().sum(),\n",
    "    \"Descripción\": data['audio_features.instrumentalness'].describe()\n",
    "}\n",
    "analisis_instrumentalness"
   ]
  },
  {
   "cell_type": "code",
   "execution_count": 445,
   "metadata": {},
   "outputs": [
    {
     "name": "stdout",
     "output_type": "stream",
     "text": [
      "Valores únicos: 240\n",
      "['0' '2.66e-06' '2.46e-05' '3.41e-06' '2.3e-06' '1e-06' '0.00011'\n",
      " '3.87e-06' '1.98e-05' '1.99e-06' '2.39e-06' '3.04e-06' '1.11e-06'\n",
      " '0.00755' '0.000437' '7.28x-06' '0.000807']\n"
     ]
    }
   ],
   "source": [
    "print(\"Valores únicos:\", data['audio_features.instrumentalness'].nunique())\n",
    "print(data['audio_features.instrumentalness'].tail(50).unique())"
   ]
  },
  {
   "cell_type": "markdown",
   "metadata": {},
   "source": [
    "#### **4.16 'audio_features.liveness'**\n",
    "\n",
    "Definición: Tipo número flotante. No obligatorio. Detecta la presencia de audiencia en la grabación​​, cuando mayor sea el número mayor probabilidad de que la pista fue realizada en vivo. Ejemplo: 0.0866\n",
    "\n",
    "Análisis: \n",
    "* Tipo de dato: Correcto\n",
    "* Valores únicos: Multiples valores únicos (271) como era de esperarse por su definición\n",
    "* Valores nulos: 1 valor siendo el campo no obligatorio\n",
    "* Descripción estadística: valores entre 0.03 y 0.93, lo cual parece coherente segun su definición\n",
    "\n",
    "Hallazgos: \n",
    "* Ninguno"
   ]
  },
  {
   "cell_type": "code",
   "execution_count": 446,
   "metadata": {},
   "outputs": [
    {
     "data": {
      "text/plain": [
       "{'Nombre del campo:': 'audio_features.liveness',\n",
       " 'Tipo de dato:': dtype('float64'),\n",
       " 'Valores nulos': 1,\n",
       " 'Descripción': count    538.000000\n",
       " mean       0.163308\n",
       " std        0.141800\n",
       " min        0.033500\n",
       " 25%        0.096500\n",
       " 50%        0.115000\n",
       " 75%        0.162250\n",
       " max        0.931000\n",
       " Name: audio_features.liveness, dtype: float64}"
      ]
     },
     "execution_count": 446,
     "metadata": {},
     "output_type": "execute_result"
    }
   ],
   "source": [
    "# Análisis de 'audio_features.liveness'\n",
    "analisis_liveness = {\n",
    "    \"Nombre del campo:\": data.columns[15],\n",
    "    \"Tipo de dato:\": data.dtypes['audio_features.liveness'],\n",
    "    \"Valores nulos\": data['audio_features.liveness'].isna().sum(),\n",
    "    \"Descripción\": data['audio_features.liveness'].describe()\n",
    "}\n",
    "analisis_liveness"
   ]
  },
  {
   "cell_type": "code",
   "execution_count": 447,
   "metadata": {},
   "outputs": [
    {
     "name": "stdout",
     "output_type": "stream",
     "text": [
      "Valores únicos: 271\n",
      "[0.115  0.0901 0.37   0.108  0.0884 0.0851 0.106  0.611  0.119  0.117\n",
      " 0.087  0.14   0.159  0.0608 0.228  0.116  0.312  0.127  0.0761 0.068\n",
      " 0.0734 0.105  0.089  0.112  0.309  0.333  0.0889 0.234  0.125  0.0916\n",
      " 0.142  0.0997 0.151  0.0753 0.31   0.164  0.111  0.374  0.113  0.109\n",
      " 0.0419 0.148  0.114  0.126  0.0603 0.083 ]\n"
     ]
    }
   ],
   "source": [
    "print(\"Valores únicos:\", data['audio_features.liveness'].nunique())\n",
    "print(data['audio_features.liveness'].sample(50).unique())"
   ]
  },
  {
   "cell_type": "markdown",
   "metadata": {},
   "source": [
    "#### **4.17 'audio_features.valence'**\n",
    "\n",
    "Definición: Tipo número flotante. No obligatorio. Mide la positividad musical transmitida por una pista, en una escala de 0.0 a 1.0​​, donde 1.0 es muy positiva. Ejemplo: 0.428\n",
    "\n",
    "Análisis: \n",
    "* Tipo de dato: Correcto\n",
    "* Valores únicos: Multiples valores únicos (326) como era de esperarse por su definición\n",
    "* Valores nulos: Sin valores nulos\n",
    "* Descripción estadística: valores entre 0.04 y 0.94, lo cual está dentro del rango\n",
    "\n",
    "Hallazgos: \n",
    "* Ninguno"
   ]
  },
  {
   "cell_type": "code",
   "execution_count": 448,
   "metadata": {},
   "outputs": [
    {
     "data": {
      "text/plain": [
       "{'Nombre del campo:': 'audio_features.valence',\n",
       " 'Tipo de dato:': dtype('float64'),\n",
       " 'Valores nulos': 0,\n",
       " 'Descripción': count    539.000000\n",
       " mean       0.398410\n",
       " std        0.199409\n",
       " min        0.037400\n",
       " 25%        0.230000\n",
       " 50%        0.386000\n",
       " 75%        0.535000\n",
       " max        0.943000\n",
       " Name: audio_features.valence, dtype: float64}"
      ]
     },
     "execution_count": 448,
     "metadata": {},
     "output_type": "execute_result"
    }
   ],
   "source": [
    "# Análisis de 'audio_features.valence'\n",
    "analisis_valence = {\n",
    "    \"Nombre del campo:\": data.columns[16],\n",
    "    \"Tipo de dato:\": data.dtypes['audio_features.valence'],\n",
    "    \"Valores nulos\": data['audio_features.valence'].isna().sum(),\n",
    "    \"Descripción\": data['audio_features.valence'].describe()\n",
    "}\n",
    "analisis_valence"
   ]
  },
  {
   "cell_type": "code",
   "execution_count": 449,
   "metadata": {},
   "outputs": [
    {
     "name": "stdout",
     "output_type": "stream",
     "text": [
      "Valores únicos: 326\n",
      "[0.167  0.313  0.658  0.716  0.214  0.495  0.92   0.0374 0.454  0.428\n",
      " 0.152  0.263  0.351  0.584  0.198  0.376  0.32   0.0662 0.347  0.15\n",
      " 0.363  0.819  0.543  0.106  0.233  0.265  0.514  0.271  0.446  0.45\n",
      " 0.206  0.328  0.203  0.353  0.483  0.315  0.287  0.208  0.192  0.068\n",
      " 0.366  0.404  0.649  0.113  0.637  0.374  0.838 ]\n"
     ]
    }
   ],
   "source": [
    "print(\"Valores únicos:\", data['audio_features.valence'].nunique())\n",
    "print(data['audio_features.valence'].sample(50).unique())"
   ]
  },
  {
   "cell_type": "markdown",
   "metadata": {},
   "source": [
    "#### **4.18 'audio_features.tempo'**\n",
    "\n",
    "Definición: Tipo número flotante. No obligatorio. El tempo estimado de una pista en latidos por minuto (BPM)​​. Ejemplo: 118.211\n",
    "\n",
    "Análisis: \n",
    "* Tipo de dato: Correcto\n",
    "* Valores únicos: Multiples valores únicos (450) como era de esperarse por su definición\n",
    "* Valores nulos: 1 valor nulo siendo el campo no obligatorio\n",
    "* Descripción estadística: valores entre 68.1 y 208.9, lo cual parece exacto para la variable que representa\n",
    "\n",
    "Hallazgos: \n",
    "* Ninguno"
   ]
  },
  {
   "cell_type": "code",
   "execution_count": 450,
   "metadata": {},
   "outputs": [
    {
     "data": {
      "text/plain": [
       "{'Nombre del campo:': 'audio_features.tempo',\n",
       " 'Tipo de dato:': dtype('float64'),\n",
       " 'Valores nulos': 1,\n",
       " 'Descripción': count    538.000000\n",
       " mean     122.362639\n",
       " std       30.485522\n",
       " min       68.097000\n",
       " 25%       96.684500\n",
       " 50%      119.000500\n",
       " 75%      143.939000\n",
       " max      208.918000\n",
       " Name: audio_features.tempo, dtype: float64}"
      ]
     },
     "execution_count": 450,
     "metadata": {},
     "output_type": "execute_result"
    }
   ],
   "source": [
    "# Análisis de 'audio_features.tempo'\n",
    "analisis_tempo = {\n",
    "    \"Nombre del campo:\": data.columns[17],\n",
    "    \"Tipo de dato:\": data.dtypes['audio_features.tempo'],\n",
    "    \"Valores nulos\": data['audio_features.tempo'].isna().sum(),\n",
    "    \"Descripción\": data['audio_features.tempo'].describe()\n",
    "}\n",
    "analisis_tempo"
   ]
  },
  {
   "cell_type": "code",
   "execution_count": 451,
   "metadata": {},
   "outputs": [
    {
     "name": "stdout",
     "output_type": "stream",
     "text": [
      "Valores únicos: 450\n",
      "[160.058 120.044 109.995 128.07  139.902  75.602 155.875 118.027 126.03\n",
      " 135.942  80.132  90.02   81.907  96.935  78.915  92.673 116.012 129.947\n",
      " 131.983 124.344 105.798 163.954  95.122  79.996 120.969 109.946  81.975\n",
      "  93.061 125.047 100.012 100.02  130.059  94.219 160.055  96.009 163.847\n",
      " 107.747 124.998 141.916  95.997  96.969 128.012 119.58  118.876 100.003\n",
      " 139.883  74.957 163.886  94.971 139.908]\n"
     ]
    }
   ],
   "source": [
    "print(\"Valores únicos:\", data['audio_features.tempo'].nunique())\n",
    "print(data['audio_features.tempo'].sample(50).unique())"
   ]
  },
  {
   "cell_type": "markdown",
   "metadata": {},
   "source": [
    "#### **4.19 'audio_features.id'**\n",
    "\n",
    "Definición: Tipo cadena (string). Obligatio. Es el ID de Spotify para la pista​​. Ejemplo: 11dFghVXANMlKmJXsNCbNl\n",
    "\n",
    "Análisis: \n",
    "* Tipo de dato: Correcto\n",
    "* Valores únicos: Multiples valores únicos (519) como era de esperarse por su definición\n",
    "* Valores nulos: 0 valores nulos\n",
    "* Descripción estadística: existen valores repeditos\n",
    "\n",
    "Hallazgos: \n",
    "* Existen valores repetidos lo que puede ser un error por ser de tipo ID"
   ]
  },
  {
   "cell_type": "code",
   "execution_count": 452,
   "metadata": {},
   "outputs": [
    {
     "data": {
      "text/plain": [
       "{'Nombre del campo:': 'audio_features.id',\n",
       " 'Tipo de dato:': dtype('O'),\n",
       " 'Valores nulos': 0,\n",
       " 'Descripción': count                        539\n",
       " unique                       519\n",
       " top       4y5bvROuBDPr5fuwXbIBZR\n",
       " freq                           2\n",
       " Name: audio_features.id, dtype: object}"
      ]
     },
     "execution_count": 452,
     "metadata": {},
     "output_type": "execute_result"
    }
   ],
   "source": [
    "# Análisis de 'audio_features.id'\n",
    "analisis_id = {\n",
    "    \"Nombre del campo:\": data.columns[18],\n",
    "    \"Tipo de dato:\": data.dtypes['audio_features.id'],\n",
    "    \"Valores nulos\": data['audio_features.id'].isna().sum(),\n",
    "    \"Descripción\": data['audio_features.id'].describe()\n",
    "}\n",
    "analisis_id"
   ]
  },
  {
   "cell_type": "code",
   "execution_count": 453,
   "metadata": {},
   "outputs": [
    {
     "name": "stdout",
     "output_type": "stream",
     "text": [
      "Valores únicos: 519\n",
      "['7k7BOXE4u6luKTwcLEAyrd' '5a9hUL6ZuiagZhazwrtwHF'\n",
      " '2zzxwmoOBnXDT0KnJsoIWk' '1hR8BSuEqPCCZfv93zzzz9'\n",
      " '4AYtqFyFbX0Xkc2wtcygTr' '7eQj6r5PIdYKEIZjucBMcq'\n",
      " '6GNRkaWUB0Lwc19SdkTgx8' '1GwMQaZz6Au3QLDbjbMdme'\n",
      " '0BiqmkasE5FdrChwKfVp8X' '0sY6ZUTh4yoctD8VIXz339'\n",
      " '5kI4eCXXzyuIUXjQra0Cxi' '2O8sogKJCfVZ4rotBv1vVF'\n",
      " '6sQckd3Z8NPxVVKUnavY1F' '1hjRhYpWyqDpPahmSlUTlc'\n",
      " '6lzc0Al0zfZOIFsFvBS1ki' '5BK0uqwY9DNfZ630STAEaq'\n",
      " '0KRYCBwIpWYFNrXOmXbyUh' '1SymEzIT3H8UZfibCs3TYi'\n",
      " '0OAHsZ8vrS2NKom3cvfJQD' '2Eeur20xVqfUoM3Q7EFPFt']\n"
     ]
    }
   ],
   "source": [
    "print(\"Valores únicos:\", data['audio_features.id'].nunique())\n",
    "print(data['audio_features.id'].sample(20).unique())"
   ]
  },
  {
   "cell_type": "markdown",
   "metadata": {},
   "source": [
    "#### **4.20 'audio_features.time_signature'**\n",
    "\n",
    "Definición: Tipo entero. No obligatorio. Firma de tiempo estimada de una pista, varía de 3 a 7​​\n",
    "\n",
    "Análisis: \n",
    "* Tipo de dato: Incorrecto, es flotante\n",
    "* Valores únicos: 3 valores enteros\n",
    "* Valores nulos: 1 valor nulo siendo el campo no obligatorio\n",
    "* Descripción estadística: valores entre 3 y 5, lo cual está dentro del rango\n",
    "\n",
    "Hallazgos: \n",
    "* El tipo de dato es incorrecto, debe ser entero y es flotante, posiblemente por la presencia de un dato NaN"
   ]
  },
  {
   "cell_type": "code",
   "execution_count": 454,
   "metadata": {},
   "outputs": [
    {
     "data": {
      "text/plain": [
       "{'Nombre del campo:': 'audio_features.time_signature',\n",
       " 'Tipo de dato:': dtype('float64'),\n",
       " 'Valores nulos': 1,\n",
       " 'Descripción': count    538.000000\n",
       " mean       3.986989\n",
       " std        0.197323\n",
       " min        3.000000\n",
       " 25%        4.000000\n",
       " 50%        4.000000\n",
       " 75%        4.000000\n",
       " max        5.000000\n",
       " Name: audio_features.time_signature, dtype: float64}"
      ]
     },
     "execution_count": 454,
     "metadata": {},
     "output_type": "execute_result"
    }
   ],
   "source": [
    "# Análisis de 'audio_features.time_signature'\n",
    "analisis_time_signature = {\n",
    "    \"Nombre del campo:\": data.columns[19],\n",
    "    \"Tipo de dato:\": data.dtypes['audio_features.time_signature'],\n",
    "    \"Valores nulos\": data['audio_features.time_signature'].isna().sum(),\n",
    "    \"Descripción\": data['audio_features.time_signature'].describe()\n",
    "}\n",
    "analisis_time_signature"
   ]
  },
  {
   "cell_type": "code",
   "execution_count": 455,
   "metadata": {},
   "outputs": [
    {
     "name": "stdout",
     "output_type": "stream",
     "text": [
      "Valores únicos: 3\n",
      "[ 4.  3.  5. nan]\n"
     ]
    }
   ],
   "source": [
    "print(\"Valores únicos:\", data['audio_features.time_signature'].nunique())\n",
    "print(data['audio_features.time_signature'].unique())"
   ]
  },
  {
   "cell_type": "markdown",
   "metadata": {},
   "source": [
    "#### **4.21 'artist_id'**\n",
    "\n",
    "Definición: Tipo cadena (string). Obligatorio. ID de Spotify para el artista​​. Ejemplo: 0TnOYISbd1XYRBk9myaseg\n",
    "\n",
    "Análisis: \n",
    "* Tipo de dato: Correcto\n",
    "* Valores únicos: 1 valor único, por lo que sólo incluye datos de un artista\n",
    "* Valores nulos: 0 valores nulos\n",
    "* Descripción estadística: no aplica\n",
    "\n",
    "Hallazgos: \n",
    "* Se podría revisar si en la descarga se incluyó solamente datos de un artista para que el ID fuera único"
   ]
  },
  {
   "cell_type": "code",
   "execution_count": 456,
   "metadata": {},
   "outputs": [
    {
     "data": {
      "text/plain": [
       "{'Nombre del campo:': 'artist_id',\n",
       " 'Tipo de dato:': dtype('O'),\n",
       " 'Valores nulos': 0,\n",
       " 'Descripción': count                    539\n",
       " unique                     1\n",
       " top       06HL4z0CvFAxyc27GX\n",
       " freq                     539\n",
       " Name: artist_id, dtype: object}"
      ]
     },
     "execution_count": 456,
     "metadata": {},
     "output_type": "execute_result"
    }
   ],
   "source": [
    "# Análisis de 'artist_id'\n",
    "analisis_artist_id = {\n",
    "    \"Nombre del campo:\": data.columns[20],\n",
    "    \"Tipo de dato:\": data.dtypes['artist_id'],\n",
    "    \"Valores nulos\": data['artist_id'].isna().sum(),\n",
    "    \"Descripción\": data['artist_id'].describe()\n",
    "}\n",
    "analisis_artist_id"
   ]
  },
  {
   "cell_type": "code",
   "execution_count": 457,
   "metadata": {},
   "outputs": [
    {
     "name": "stdout",
     "output_type": "stream",
     "text": [
      "Valores únicos: 1\n",
      "['06HL4z0CvFAxyc27GX']\n"
     ]
    }
   ],
   "source": [
    "print(\"Valores únicos:\", data['artist_id'].nunique())\n",
    "print(data['artist_id'].unique())"
   ]
  },
  {
   "cell_type": "markdown",
   "metadata": {},
   "source": [
    "#### **4.22 'artist_name'**\n",
    "\n",
    "Definición: Tipo cadena (string). No obligatorio. Nombre del artista​​\n",
    "\n",
    "Análisis: \n",
    "* Tipo de dato: Correcto\n",
    "* Valores únicos: 1 valor único, por lo que sólo incluye datos de un artista\n",
    "* Valores nulos: 0 valores nulos\n",
    "* Descripción estadística: no aplica\n",
    "\n",
    "Hallazgos: \n",
    "* Se podría revisar si en la descarga se incluyó solamente datos de un artista\n",
    "* Es consistente con el id del artista que tambien es único"
   ]
  },
  {
   "cell_type": "code",
   "execution_count": 458,
   "metadata": {},
   "outputs": [
    {
     "data": {
      "text/plain": [
       "{'Nombre del campo:': 'artist_name',\n",
       " 'Tipo de dato:': dtype('O'),\n",
       " 'Valores nulos': 0,\n",
       " 'Descripción': count              539\n",
       " unique               1\n",
       " top       Taylor Swift\n",
       " freq               539\n",
       " Name: artist_name, dtype: object}"
      ]
     },
     "execution_count": 458,
     "metadata": {},
     "output_type": "execute_result"
    }
   ],
   "source": [
    "# Análisis de 'artist_name'\n",
    "analisis_artist_name = {\n",
    "    \"Nombre del campo:\": data.columns[21],\n",
    "    \"Tipo de dato:\": data.dtypes['artist_name'],\n",
    "    \"Valores nulos\": data['artist_name'].isna().sum(),\n",
    "    \"Descripción\": data['artist_name'].describe()\n",
    "}\n",
    "analisis_artist_name"
   ]
  },
  {
   "cell_type": "code",
   "execution_count": 459,
   "metadata": {},
   "outputs": [
    {
     "name": "stdout",
     "output_type": "stream",
     "text": [
      "Valores únicos: 1\n",
      "['Taylor Swift']\n"
     ]
    }
   ],
   "source": [
    "print(\"Valores únicos:\", data['artist_name'].nunique())\n",
    "print(data['artist_name'].unique())"
   ]
  },
  {
   "cell_type": "markdown",
   "metadata": {},
   "source": [
    "#### **4.23 'artist_popularity'**\n",
    "\n",
    "Definición: Tipo entero. No obligatorio. Popularidad del artista, con valores entre 0 y 100, siendo 100 el más popular​​\n",
    "\n",
    "Análisis: \n",
    "* Tipo de dato: Correcto\n",
    "* Valores únicos: 1 valor único, por lo que sólo incluye datos de un artista\n",
    "* Valores nulos: 0 valores nulos\n",
    "* Descripción estadística: no aplica\n",
    "\n",
    "Hallazgos: \n",
    "* Se podría revisar si en la descarga se incluyó solamente datos de un artista\n",
    "* Es consistente con el id del artista que tambien es único"
   ]
  },
  {
   "cell_type": "code",
   "execution_count": 460,
   "metadata": {},
   "outputs": [
    {
     "data": {
      "text/plain": [
       "{'Nombre del campo:': 'artist_popularity',\n",
       " 'Tipo de dato:': dtype('int64'),\n",
       " 'Valores nulos': 0,\n",
       " 'Descripción': count    539.0\n",
       " mean     120.0\n",
       " std        0.0\n",
       " min      120.0\n",
       " 25%      120.0\n",
       " 50%      120.0\n",
       " 75%      120.0\n",
       " max      120.0\n",
       " Name: artist_popularity, dtype: float64}"
      ]
     },
     "execution_count": 460,
     "metadata": {},
     "output_type": "execute_result"
    }
   ],
   "source": [
    "# Análisis de 'artist_popularity'\n",
    "analisis_artist_popularity = {\n",
    "    \"Nombre del campo:\": data.columns[22],\n",
    "    \"Tipo de dato:\": data.dtypes['artist_popularity'],\n",
    "    \"Valores nulos\": data['artist_popularity'].isna().sum(),\n",
    "    \"Descripción\": data['artist_popularity'].describe()\n",
    "}\n",
    "analisis_artist_popularity"
   ]
  },
  {
   "cell_type": "code",
   "execution_count": 461,
   "metadata": {},
   "outputs": [
    {
     "name": "stdout",
     "output_type": "stream",
     "text": [
      "Valores únicos: 1\n",
      "[120]\n"
     ]
    }
   ],
   "source": [
    "print(\"Valores únicos:\", data['artist_popularity'].nunique())\n",
    "print(data['artist_popularity'].unique())"
   ]
  },
  {
   "cell_type": "markdown",
   "metadata": {},
   "source": [
    "#### **4.24 'album_id'**\n",
    "\n",
    "Definición: Tipo cadena (string). Obligatorio. ID de Spotify para el álbum​​. Ejemplo: 4aawyAB9vmqN3uQ7FjRGTy\n",
    "\n",
    "Análisis: \n",
    "* Tipo de dato: Correcto\n",
    "* Valores únicos: 26 valores únicos, que corresponde a 26 álbumes\n",
    "* Valores nulos: 0 valores nulos\n",
    "* Descripción estadística: los álbumes se repiten, lo que hace sentido debido a que un albúm usualmente tiene más de una pista\n",
    "\n",
    "Hallazgos: \n",
    "* Ninguno"
   ]
  },
  {
   "cell_type": "code",
   "execution_count": 462,
   "metadata": {},
   "outputs": [
    {
     "data": {
      "text/plain": [
       "{'Nombre del campo:': 'album_id',\n",
       " 'Tipo de dato:': dtype('O'),\n",
       " 'Valores nulos': 0,\n",
       " 'Descripción': count                        539\n",
       " unique                        26\n",
       " top       1MPAXuTVL2Ej5x0JHiSPq8\n",
       " freq                          46\n",
       " Name: album_id, dtype: object}"
      ]
     },
     "execution_count": 462,
     "metadata": {},
     "output_type": "execute_result"
    }
   ],
   "source": [
    "# Análisis de 'album_id'\n",
    "analisis_album_id = {\n",
    "    \"Nombre del campo:\": data.columns[23],\n",
    "    \"Tipo de dato:\": data.dtypes['album_id'],\n",
    "    \"Valores nulos\": data['album_id'].isna().sum(),\n",
    "    \"Descripción\": data['album_id'].describe()\n",
    "}\n",
    "analisis_album_id"
   ]
  },
  {
   "cell_type": "code",
   "execution_count": 463,
   "metadata": {},
   "outputs": [
    {
     "name": "stdout",
     "output_type": "stream",
     "text": [
      "Valores únicos: 26\n",
      "['1o59UpKw81iHR0HPiSkJR0' '64LU4c1nfjz1t4VnGhagcg'\n",
      " '5AEDGbliTTfjOB8TSm1sxt' '1fnJ7k0bllNfL1kVdNVW1A'\n",
      " '3lS1y25WAhcqJDATJK70Mq' '151w1FgRZfnKZA9FEcg9Z3'\n",
      " '6kZ42qRrzov54LcAk4onW9' '4hDok0OAJd57SGIT8xuWJH'\n",
      " '6AORtDjduMM3bupSWzbTSG' '2Xoteh7uEpea4TohMxjtaq'\n",
      " '0PZ7lAru5FDFHuirTkWe9Z' '1pzvBxYgT6OVwJLtHkrdQK'\n",
      " '2fenSS68JI1h4Fo296JfGr' '1NAmidJlEaVgA3MpcPFYGq'\n",
      " '6DEjYFkNZh67HP7R9PSZvv' '1MPAXuTVL2Ej5x0JHiSPq8'\n",
      " '1yGbNOtRIgdIiGHOEBaZWf' '5fy0X0JmZRZnVa2UEicIOl'\n",
      " '1KVKqWeRuXsJDLTW0VuD29' '6fyR4wBPwLHKcRtxgd4sGh'\n",
      " '6Ar2o9KCqcyYF9J0aQP3au' '6S6JQWzUrJVcJLK4fi74Fw'\n",
      " '2gP2LMVcIFgVczSJqn340t' '08CWGiv27MVQhYpuTtvx83'\n",
      " '1ycoesYxIFymXWebfmz828' '5eyZZoQEFQWRHkV2xgAeBw']\n"
     ]
    }
   ],
   "source": [
    "print(\"Valores únicos:\", data['album_id'].nunique())\n",
    "print(data['album_id'].unique())"
   ]
  },
  {
   "cell_type": "markdown",
   "metadata": {},
   "source": [
    "#### **4.25 'album_name'**\n",
    "\n",
    "Definición: Tipo cadena (string). Obligatorio. Nombre del álbum​​\n",
    "\n",
    "Análisis: \n",
    "* Tipo de dato: Correcto\n",
    "* Valores únicos: 24 valores únicos, que corresponde a 24 álbumes\n",
    "* Valores nulos: 62 valores nulos siendo el campo obligatorio\n",
    "* Descripción estadística: los álbumes se repiten, lo que hace sentido debido a que un albúm usualmente tiene más de una pista\n",
    "\n",
    "Hallazgos: \n",
    "* Tiene 62 registros nulos siendo el campo obligatorio\n",
    "* Debería existir 26 registros únicos pues son 26 los album_id, es posible que los datos faltantes tengas los dos faltante pero se debe verificar"
   ]
  },
  {
   "cell_type": "code",
   "execution_count": 464,
   "metadata": {},
   "outputs": [
    {
     "data": {
      "text/plain": [
       "{'Nombre del campo:': 'album_name',\n",
       " 'Tipo de dato:': dtype('O'),\n",
       " 'Valores nulos': 62,\n",
       " 'Descripción': count       477\n",
       " unique       24\n",
       " top       Lover\n",
       " freq         36\n",
       " Name: album_name, dtype: object}"
      ]
     },
     "execution_count": 464,
     "metadata": {},
     "output_type": "execute_result"
    }
   ],
   "source": [
    "# Análisis de 'album_name'\n",
    "analisis_album_name = {\n",
    "    \"Nombre del campo:\": data.columns[24],\n",
    "    \"Tipo de dato:\": data.dtypes['album_name'],\n",
    "    \"Valores nulos\": data['album_name'].isna().sum(),\n",
    "    \"Descripción\": data['album_name'].describe()\n",
    "}\n",
    "analisis_album_name"
   ]
  },
  {
   "cell_type": "code",
   "execution_count": 465,
   "metadata": {},
   "outputs": [
    {
     "name": "stdout",
     "output_type": "stream",
     "text": [
      "Valores únicos: 24\n",
      "[\"1989 (Taylor's Version) [Deluxe]\" \"1989 (Taylor's Version)\"\n",
      " \"Speak Now (Taylor's Version)\" 'Midnights (The Til Dawn Edition)'\n",
      " 'Midnights (3am Edition)' 'Midnights' \"Red (Taylor's Version)\"\n",
      " \"Fearless (Taylor's Version)\" 'evermore (deluxe version)' 'evermore'\n",
      " 'folklore: the long pond studio sessions (from the Disney+ special) [deluxe edition]'\n",
      " 'folklore (deluxe version)' 'folklore' 'Lover' 'reputation' nan\n",
      " '1989 (Deluxe)' '1989' 'Red (Deluxe Edition)' 'Speak Now'\n",
      " 'Speak Now (Deluxe Package)' 'Fearless (Platinum Edition)'\n",
      " 'Fearless (International Version)'\n",
      " 'Live From Clear Channel Stripped 2008' 'Taylor Swift']\n"
     ]
    }
   ],
   "source": [
    "print(\"Valores únicos:\", data['album_name'].nunique())\n",
    "print(data['album_name'].unique())"
   ]
  },
  {
   "cell_type": "markdown",
   "metadata": {},
   "source": [
    "#### **4.26 'album_release_date'**\n",
    "\n",
    "Definición: Tipo cadena (string). Obligatorio. Fecha de lanzamiento del álbum​​. Ejemplo: \"1981-12\"\n",
    "\n",
    "Análisis: \n",
    "* Tipo de dato: Correcto\n",
    "* Valores únicos: 23 valores únicos, estando uno de ellos en el futuro '2027-05-26' y otro '1989-10-24' que está antes de la fecha de nacimiento de la artista Taylor Swift.\n",
    "* Valores nulos: 0 valores nulos\n",
    "* Descripción estadística: la fecha más frecuente es '2017-11-09' con 46 registros\n",
    "\n",
    "Hallazgos: \n",
    "* El tipo de dato adecuado debe ser datetime\n",
    "* Hay dos fechas de lanzamiento incorrectas: la primera está en el futuro '2027-05-26' y la segunda '1989-10-24' antes del naciminto del artista"
   ]
  },
  {
   "cell_type": "code",
   "execution_count": 466,
   "metadata": {},
   "outputs": [
    {
     "data": {
      "text/plain": [
       "{'Nombre del campo:': 'album_release_date',\n",
       " 'Tipo de dato:': dtype('O'),\n",
       " 'Valores nulos': 0,\n",
       " 'Descripción': count            539\n",
       " unique            23\n",
       " top       2017-11-09\n",
       " freq              46\n",
       " Name: album_release_date, dtype: object}"
      ]
     },
     "execution_count": 466,
     "metadata": {},
     "output_type": "execute_result"
    }
   ],
   "source": [
    "# Análisis de 'album_release_date'\n",
    "analisis_album_release_date = {\n",
    "    \"Nombre del campo:\": data.columns[25],\n",
    "    \"Tipo de dato:\": data.dtypes['album_release_date'],\n",
    "    \"Valores nulos\": data['album_release_date'].isna().sum(),\n",
    "    \"Descripción\": data['album_release_date'].describe()\n",
    "}\n",
    "analisis_album_release_date"
   ]
  },
  {
   "cell_type": "code",
   "execution_count": 467,
   "metadata": {},
   "outputs": [
    {
     "name": "stdout",
     "output_type": "stream",
     "text": [
      "Valores únicos: 23\n",
      "['2023-10-27' '2023-10-26' '2023-07-07' '2027-05-26' '2022-10-22'\n",
      " '2022-10-21' '2021-11-12' '2021-04-09' '2021-01-07' '2020-12-11'\n",
      " '2020-11-25' '2020-08-18' '2020-07-24' '2019-08-23' '2017-11-10'\n",
      " '2017-11-09' '2014-01-01' '2012-10-22' '2010-10-25' '2010-01-01'\n",
      " '2008-11-11' '2008-06-28' '1989-10-24']\n"
     ]
    }
   ],
   "source": [
    "print(\"Valores únicos:\", data['album_release_date'].nunique())\n",
    "print(data['album_release_date'].unique())"
   ]
  },
  {
   "cell_type": "markdown",
   "metadata": {},
   "source": [
    "#### **4.27 'album_total_tracks'**\n",
    "\n",
    "Definición: Tipo entero. Obligatorio. Número de pistas en el álbum​​. Ejemplo: 9\n",
    "\n",
    "Análisis: \n",
    "* Tipo de dato: Incorrecto, es string\n",
    "* Valores únicos: 17 valores únicos, todos enteros excepto uno de ellos que es 'Thirteen'\n",
    "* Valores nulos: 0 valores nulos\n",
    "* Descripción estadística: el registro '22' es el más frecuente con 88 apariciones\n",
    "\n",
    "Hallazgos: \n",
    "* El tipo de dato es incorrecto, es string y debe ser integer\n",
    "* Existe error en la digitación del número 13, aparece como 'Thirteen'"
   ]
  },
  {
   "cell_type": "code",
   "execution_count": 468,
   "metadata": {},
   "outputs": [
    {
     "data": {
      "text/plain": [
       "{'Nombre del campo:': 'album_total_tracks',\n",
       " 'Tipo de dato:': dtype('O'),\n",
       " 'Valores nulos': 0,\n",
       " 'Descripción': count     539\n",
       " unique     17\n",
       " top        22\n",
       " freq       88\n",
       " Name: album_total_tracks, dtype: object}"
      ]
     },
     "execution_count": 468,
     "metadata": {},
     "output_type": "execute_result"
    }
   ],
   "source": [
    "# Análisis de 'album_total_tracks'\n",
    "analisis_album_total_tracks = {\n",
    "    \"Nombre del campo:\": data.columns[26],\n",
    "    \"Tipo de dato:\": data.dtypes['album_total_tracks'],\n",
    "    \"Valores nulos\": data['album_total_tracks'].isna().sum(),\n",
    "    \"Descripción\": data['album_total_tracks'].describe()\n",
    "}\n",
    "analisis_album_total_tracks"
   ]
  },
  {
   "cell_type": "code",
   "execution_count": 469,
   "metadata": {},
   "outputs": [
    {
     "name": "stdout",
     "output_type": "stream",
     "text": [
      "Valores únicos: 17\n",
      "['22' '21' '24' '20' '13' '34' '26' '17' '10' '16' '18' '15' '46' '19'\n",
      " '14' '8' 'Thirteen']\n"
     ]
    }
   ],
   "source": [
    "print(\"Valores únicos:\", data['album_total_tracks'].nunique())\n",
    "print(data['album_total_tracks'].unique())"
   ]
  },
  {
   "cell_type": "markdown",
   "metadata": {},
   "source": [
    "### **5. Unicidad**:\n",
    "\n",
    "La unicidad es la medida de cuán distintos y no repetitivos son los valores de los datos, la regla es que nada se registrará más de una vez según cómo se identifique. Su validación se realiza midiendo los elementos de datos contra sí mismo o contra su contraparte en otro conjunto de datos confiable.\n",
    "\n",
    "Para analizar la unicidad, voy a explorar duplicados, unicidad de pistas mediante track_id, unicidad en otras columnas que pueden ser importantes, como track_name, artist_id, y album_id. Y finalmente rrevisaré la vnicidad compuesta de track_name y artist_name."
   ]
  },
  {
   "cell_type": "code",
   "execution_count": 470,
   "metadata": {},
   "outputs": [
    {
     "name": "stdout",
     "output_type": "stream",
     "text": [
      "Registros totales: 539\n",
      "Registro duplicados: 18\n",
      "Registros unicos track_ids: 512\n",
      "Registros unicos track_names: 331\n",
      "Registros unicos artist_ids: 1\n",
      "Registros unicos album_ids: 26\n",
      "Registros unicos track_artist: 332\n"
     ]
    }
   ],
   "source": [
    "# Verificando duplicados completos\n",
    "registro_duplicados = data.duplicated().sum()\n",
    "\n",
    "# Unicidad de ID de pista\n",
    "unicos_track_ids = data['track_id'].nunique()\n",
    "total_track_ids = len(data['track_id'])\n",
    "\n",
    "# Unicidad en otras columnas clave\n",
    "unicos_track_names = data['track_name'].nunique()\n",
    "unicos_artist_ids = data['artist_id'].nunique()\n",
    "unicos_album_ids = data['album_id'].nunique()\n",
    "\n",
    "# Unicidad compuesta track_name y artist_name\n",
    "unicos_track_artist = data[['track_name', 'artist_name']].drop_duplicates().shape[0]\n",
    "\n",
    "# Resultados para unicidad en otras columnas y unicidad compuesta\n",
    "print('Registros totales:',data.shape[0])\n",
    "print('Registro duplicados:', registro_duplicados)\n",
    "print('Registros unicos track_ids:', unicos_track_ids)\n",
    "print('Registros unicos track_names:', unicos_track_names)\n",
    "print('Registros unicos artist_ids:', unicos_artist_ids)\n",
    "print('Registros unicos album_ids:', unicos_album_ids)\n",
    "print('Registros unicos track_artist:', unicos_track_artist)\n"
   ]
  },
  {
   "cell_type": "markdown",
   "metadata": {},
   "source": [
    "Con la exploración realizada arriba descrubrimos un error de unicidad en la columna explicit"
   ]
  },
  {
   "cell_type": "code",
   "execution_count": 471,
   "metadata": {},
   "outputs": [
    {
     "name": "stdout",
     "output_type": "stream",
     "text": [
      "Registros unicos explicit: 4\n"
     ]
    }
   ],
   "source": [
    "print('Registros unicos explicit:', data['explicit'].nunique())"
   ]
  },
  {
   "cell_type": "markdown",
   "metadata": {},
   "source": [
    "**Hallazgos**:\n",
    "\n",
    "Se encontraron 18 filas que son duplicados completos de registros en el conjunto de datos\n",
    "\n",
    "Hay 27 registros duplicados de track_ids, es decir, algunos IDs de pista se repiten\n",
    "\n",
    "La columna explicit tiene 4 valores únicos, lo cual es un error pues se espera solo dos (True/False)\n",
    "\n",
    "Existe un único ID lo que indica que el conjunto de datos está centrado en las obras de un artista específico\n",
    "\n",
    "La cantidad de combinaciones únicas de 'track_name' y 'artist_name' es ligeramente mayor que el número de track_name únicos (332 vs 331), lo que podría indicar que algunas pistas pueden tener el mismo nombre pero diferir en otras características."
   ]
  },
  {
   "cell_type": "markdown",
   "metadata": {},
   "source": [
    "### **6. Actualidad**:\n",
    "\n",
    "La actualidad es el grado en que los datos representan la realidad desde el momento requerido. Evaluar la actualidad implica medir qué tan actualizados y relevantes están los datos. Esta dimensión es muy bonita porque se presta a ser analizada de forma gráfica mediante graficos de linea o de dispersión. \n",
    "\n",
    "Necesitamos saber qué significa \"actualidad\" en el contexto de los datos, definición que no tenemos. Además, la actualidad puede variar dependiendo del tipo de datos y del uso que se les dé. Adicional, necesitamos campos que indican el momento en que se recogieron o actualizaron los datos, campos que tampoco tenemos.\n",
    "\n",
    "Nuestro conjunto de datos incluye la fecha de lanzamiento de cada album 'album_release_date', otro campo que nos puede ayudar a definir actualidad es la popularidad 'track_popularity' (suponiendo que más popularidad se correlaciona con más reciente)."
   ]
  },
  {
   "cell_type": "code",
   "execution_count": 472,
   "metadata": {},
   "outputs": [
    {
     "data": {
      "text/plain": [
       "65     2027-05-26\n",
       "0      2023-10-27\n",
       "22     2023-10-26\n",
       "43     2023-07-07\n",
       "89     2022-10-22\n",
       "109    2022-10-21\n",
       "122    2021-11-12\n",
       "152    2021-04-09\n",
       "178    2021-01-07\n",
       "195    2020-12-11\n",
       "210    2020-11-25\n",
       "244    2020-08-18\n",
       "261    2020-07-24\n",
       "277    2019-08-23\n",
       "313    2017-11-10\n",
       "329    2017-11-09\n",
       "375    2014-01-01\n",
       "407    2012-10-22\n",
       "429    2010-10-25\n",
       "459    2010-01-01\n",
       "481    2008-11-11\n",
       "516    2008-06-28\n",
       "524    1989-10-24\n",
       "Name: album_release_date, dtype: object"
      ]
     },
     "execution_count": 472,
     "metadata": {},
     "output_type": "execute_result"
    }
   ],
   "source": [
    "# Rango de fechas de lanzamiento del albúm\n",
    "data['album_release_date'].drop_duplicates().sort_values(ascending=False)"
   ]
  },
  {
   "cell_type": "code",
   "execution_count": 473,
   "metadata": {},
   "outputs": [
    {
     "data": {
      "text/plain": [
       "array([152,  99,  94,  92,  91,  90,  89,  88,  87,  86,  85,  84,  83,\n",
       "        82,  81,  80,  79,  78,  77,  76,  75,  74,  73,  72,  71,  70,\n",
       "        69,  68,  67,  66,  65,  64,  63,  62,  61,  60,  59,  58,  57,\n",
       "        56,  55,  54,  53,  52,  51,  50,  49,  48,  47,  46,  45,  44,\n",
       "        43,  42,  41,  40,  39,  38,  37,  36,  35,  34,  33,  32,  31,\n",
       "        30,   0, -69, -70, -71, -75, -85, -92])"
      ]
     },
     "execution_count": 473,
     "metadata": {},
     "output_type": "execute_result"
    }
   ],
   "source": [
    "# Rango de track_popularity\n",
    "data['track_popularity'].sort_values(ascending=False).unique()"
   ]
  },
  {
   "cell_type": "code",
   "execution_count": 474,
   "metadata": {},
   "outputs": [
    {
     "data": {
      "text/plain": [
       "51.04109589041096"
      ]
     },
     "execution_count": 474,
     "metadata": {},
     "output_type": "execute_result"
    }
   ],
   "source": [
    "# Media de track_popularity\n",
    "data['track_popularity'].sort_values(ascending=False).unique().mean()"
   ]
  },
  {
   "cell_type": "markdown",
   "metadata": {},
   "source": [
    "**Hallazgos**:\n",
    "\n",
    "La fecha más reciente en album_release_date es 2027-05-26, lo cual es futura considerando la fecha actual. Por otro lado, la fecha más antigua es 1989-10-24, lo que representa un error pues es anterior al nacimiento del artista. Ambas fechas necesita clarificación.\n",
    "\n",
    "track_popularity tiene valores fuera de su rango, su media es de 51 de 100 posibles."
   ]
  },
  {
   "cell_type": "markdown",
   "metadata": {},
   "source": [
    "### **Todos los hallazgos**"
   ]
  },
  {
   "cell_type": "markdown",
   "metadata": {},
   "source": [
    "Discrepancia en el tipo de datos:\n",
    "* explicit: Debería ser booleano, pero se encuentra como objeto\n",
    "* audio_features.key: Debería ser entero, pero se encuentra como flotante\n",
    "* audio_features.instrumentalness: Debería ser flotante, pero se encuentra como objeto\n",
    "* audio_features.time_signature: Debería ser entero, pero se encuentra como flotante\n",
    "* album_total_tracks: Debería ser entero, pero se encuentra como objeto\n",
    "* Los campos 'track_name', 'audio_features.instrumentalness' y 'album_name', presentan tipos de datos mixtos debido a la presencia de datos faltates\n",
    "* lbum_release_date: El tipo de dato adecuado debe ser datetime y no string\n",
    "\n",
    "Problemas con rangos y valores esperados:\n",
    "* popularity_range_issues: Se encontraron 539 registros fuera del rango de 0 a 100\n",
    "* track_popularity: Hay valores atípicos (-92, 152, etc.) ya que la popularidad debería estar entre 0 y 100\n",
    "* audio_features.acousticness: Los valores están fuera del rango 0 - 1, con valores oscilando entre -0.003 y 5.000\n",
    "\n",
    "Problemas de completitud:\n",
    "* La mayoría de los campos tienen un alto porcentaje de completitud, lo que es positivo.\n",
    "* Las proporciones más altas de valores nulos se encuentran en album_name (11.50%) y track_id (1.48%). Otras columnas tienen valores nulos, pero en una proporción menor al 1%.\n",
    "* Los valores nulos en las columnas pueden corresponder a problemas de completitud o pueden ser permisibles, para ello se debe considerar la función y la importancia de cada campo (<u>por eso la importancia de haber generado un contexto de ellos previsamente</u>)\n",
    "* Los campos obligatorios track_id y album_name tiene un 1.48% y 11.50% de ausencia de datos, siendo un problema de completitud\n",
    "* track_name: Puede ser un error que existan pistas sin nombre, aunque el campo es no obligatorio\n",
    "\n",
    "Problemas de formato:\n",
    "* El campo 'explicit' representa incorrectamente los valores booleanos como ['False' 'True' 'Si' 'No'] \n",
    "* El campo 'album_total_tracks', siendo entero, representa el número 13 como 'Thirteen'\n",
    "* El campo 'audio_features.instrumentalness' tiene un error en el formato de la notación científica, habiendo datos con x (7.28x-06') y con e ('3.5e-06')\n",
    "* El campo 'artist_id' no cumple el patrón definido en su definición debido a una diferencia en longitud de su cadena de texto\n",
    "* El campo de fecha 'album_release_date' tiene un error en su estructura respecto su definición (2012-10-22 vs 1981-12)\n",
    "\n",
    "Problemas de duplicidad y valores únicos:\n",
    "* Se encontraron 18 filas que son duplicados completos de registros en el conjunto de datos\n",
    "* Hay 27 registros duplicados de track_ids, es decir, algunos IDs de pista se repiten lo cual es incorrecto por la definición del campo\n",
    "* audio_features.id Existen valores repetidos lo que puede ser un error por ser de tipo ID\n",
    "\n",
    "\n",
    "Problemas de inconsistencia:\n",
    "* Existe 8 llaves 'track_id' y 'audio_features' sin coincidencia debido a presencia de nulos (sin integridad referencial)\n",
    "* La cantidad de combinaciones únicas de 'track_name' y 'artist_name' es ligeramente mayor que el número de track_name únicos (332 vs 331), lo que podría indicar que algunas pistas pueden tener el mismo nombre pero diferir en otras características.\n",
    "* album_name: Debería existir 26 registros únicos y no 24, pues son 26 los album_id; es posible que los álbumes faltantes estén en sus datos faltantes pero se debe verificar\n",
    "\n",
    "\n",
    "Problemas de exactitud:\n",
    "* La fecha más reciente en album_release_date es 2027-05-26, lo cual es futura considerando la fecha actual. Por otro lado, la fecha más antigua es 1989-10-24, lo que representa un error pues es anterior al nacimiento del artista. Ambas fechas necesita clarificación.\n",
    "* duration_ms: Tiene valores negativos o muy pequeños (0.01 s) lo que no es coherente con la definición, ya que la duración de una pista no puede ser negativa o tan corta.\n",
    "* audio_features.loudness Por el tipo de variable (sonoridad en dB) se esperaria que los valores fueran positivos pues el umbral de mínima audición es 0. Esto podría ser un problema de Exactitud por cuanto su valor no representa el objecto real, sin embargo, en el dato ejemplo de observa un número negativo.\n",
    "\n",
    "Problemas de relevancia:\n",
    "* artist_id: Se podría revisar si en la descarga se incluyó solamente datos de un artista para que el ID fuera único"
   ]
  },
  {
   "cell_type": "markdown",
   "metadata": {},
   "source": [
    "### **Referencias**\n",
    "* Askham, N., Cook, D., Doyle, M., Fereday, H., Gibson, M., Landbeck, U., Lee, R., Maynard, C., Palmer, G., & Schwarzenbach, J. (2013). Data Quality Dimensions. DAMA UK. Recuperado de https://www.sbctc.edu/resources/documents/colleges-staff/commissions-councils/dgc/data-quality-deminsions.pdf"
   ]
  }
 ],
 "metadata": {
  "kernelspec": {
   "display_name": "Python 3",
   "language": "python",
   "name": "python3"
  },
  "language_info": {
   "codemirror_mode": {
    "name": "ipython",
    "version": 3
   },
   "file_extension": ".py",
   "mimetype": "text/x-python",
   "name": "python",
   "nbconvert_exporter": "python",
   "pygments_lexer": "ipython3",
   "version": "3.11.4"
  }
 },
 "nbformat": 4,
 "nbformat_minor": 2
}
